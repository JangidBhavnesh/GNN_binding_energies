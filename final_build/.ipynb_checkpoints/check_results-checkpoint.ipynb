{
 "cells": [
  {
   "cell_type": "code",
   "execution_count": 1,
   "id": "38117273",
   "metadata": {},
   "outputs": [],
   "source": [
    "import json\n",
    "import pandas as pd"
   ]
  },
  {
   "cell_type": "code",
   "execution_count": 2,
   "id": "3a9c8d29",
   "metadata": {},
   "outputs": [],
   "source": [
    "# Load original graph data (with binding energies)\n",
    "with open('graph_data_original.json', 'r') as f:\n",
    "    original_graphs = json.load(f)\n",
    "    \n",
    "# Load lookup table\n",
    "lookup_df = pd.read_csv(\"lookup.csv\")\n",
    "atom_dict = {row['Element']: row['Z'] for _, row in lookup_df.iterrows()}"
   ]
  },
  {
   "cell_type": "code",
   "execution_count": 3,
   "id": "be3b64b4",
   "metadata": {},
   "outputs": [],
   "source": [
    "# Load model predictions\n",
    "results_df = pd.read_csv('results.csv')"
   ]
  },
  {
   "cell_type": "code",
   "execution_count": 4,
   "id": "42e62231",
   "metadata": {},
   "outputs": [],
   "source": [
    "orb_list = ['1s',\n",
    "         '2s',\n",
    "         '2p',\n",
    "         '2p3/2',\n",
    "         '3s',\n",
    "         '3p',\n",
    "         '3p3/2',\n",
    "         '3d',\n",
    "         '3d5/2',\n",
    "         '4s',\n",
    "         '4p3/2',\n",
    "         '4d',\n",
    "         '4d5/2',\n",
    "         '4f7/2',\n",
    "         '5s',\n",
    "         '5p3/2',\n",
    "         '5d5/2']"
   ]
  },
  {
   "cell_type": "code",
   "execution_count": 5,
   "id": "885316b6",
   "metadata": {},
   "outputs": [],
   "source": [
    "true_binding_energies = []\n",
    "lookup_estimates = []\n",
    "\n",
    "for mol_graph in original_graphs.values():\n",
    "    for node in mol_graph['nodes']:\n",
    "        atom = node['atom_type']  # or atomic_number if needed\n",
    "        orbitals = node['orbitals']\n",
    "        energies = node['binding_energies']\n",
    "        \n",
    "        for orbital, true_energy in zip(orbitals, energies):\n",
    "            true_binding_energies.append(true_energy)\n",
    "            if orbital!=-1:\n",
    "                lookup_energy = float(lookup_df.loc[atom_dict[atom]-1, orbital])\n",
    "            else:\n",
    "                lookup_energe = -1\n",
    "            if lookup_energy is None:\n",
    "                lookup_energy = 0.0\n",
    "            lookup_estimates.append(lookup_energy)"
   ]
  },
  {
   "cell_type": "code",
   "execution_count": 7,
   "id": "a4cde5a2",
   "metadata": {},
   "outputs": [
    {
     "data": {
      "text/plain": [
       "7332"
      ]
     },
     "execution_count": 7,
     "metadata": {},
     "output_type": "execute_result"
    }
   ],
   "source": [
    "len(true_binding_energies)"
   ]
  },
  {
   "cell_type": "code",
   "execution_count": 8,
   "id": "8e4e15cf",
   "metadata": {},
   "outputs": [
    {
     "data": {
      "text/plain": [
       "7332"
      ]
     },
     "execution_count": 8,
     "metadata": {},
     "output_type": "execute_result"
    }
   ],
   "source": [
    "len(lookup_estimates)"
   ]
  },
  {
   "cell_type": "code",
   "execution_count": 9,
   "id": "b03eb871",
   "metadata": {},
   "outputs": [],
   "source": [
    "# Truncate the true list to match number of predictions\n",
    "true_binding_energies = true_binding_energies[:len(results_df)]\n",
    "lookup_energies = lookup_estimates[:len(results_df)]"
   ]
  },
  {
   "cell_type": "code",
   "execution_count": 10,
   "id": "cfb9cb83",
   "metadata": {},
   "outputs": [],
   "source": [
    "# Add to dataframe\n",
    "results_df['True Binding Energy'] = true_binding_energies\n",
    "results_df['Lookup Energy'] = lookup_energies\n",
    "#results_df['Absolute Error'] = (results_df['Binding Energy'] - results_df['True Binding Energy']).abs()"
   ]
  },
  {
   "cell_type": "code",
   "execution_count": 11,
   "id": "f946177f",
   "metadata": {},
   "outputs": [],
   "source": [
    "import matplotlib.pyplot as plt\n",
    "import numpy as np"
   ]
  },
  {
   "cell_type": "code",
   "execution_count": 12,
   "id": "5932dd7d",
   "metadata": {},
   "outputs": [
    {
     "data": {
      "text/html": [
       "<div>\n",
       "<style scoped>\n",
       "    .dataframe tbody tr th:only-of-type {\n",
       "        vertical-align: middle;\n",
       "    }\n",
       "\n",
       "    .dataframe tbody tr th {\n",
       "        vertical-align: top;\n",
       "    }\n",
       "\n",
       "    .dataframe thead th {\n",
       "        text-align: right;\n",
       "    }\n",
       "</style>\n",
       "<table border=\"1\" class=\"dataframe\">\n",
       "  <thead>\n",
       "    <tr style=\"text-align: right;\">\n",
       "      <th></th>\n",
       "      <th>Molecule</th>\n",
       "      <th>Atom</th>\n",
       "      <th>Orbital</th>\n",
       "      <th>Binding Energy</th>\n",
       "      <th>True Binding Energy</th>\n",
       "      <th>Lookup Energy</th>\n",
       "    </tr>\n",
       "  </thead>\n",
       "  <tbody>\n",
       "    <tr>\n",
       "      <th>0</th>\n",
       "      <td>[Ag]</td>\n",
       "      <td>Ag</td>\n",
       "      <td>3d5/2</td>\n",
       "      <td>378.965583</td>\n",
       "      <td>375.550</td>\n",
       "      <td>368.3</td>\n",
       "    </tr>\n",
       "    <tr>\n",
       "      <th>1</th>\n",
       "      <td>C/C(=C\\C(=O)C(F)(F)F)/O[Al](O/C(=C\\C(=O)C(F)(F...</td>\n",
       "      <td>C</td>\n",
       "      <td>1s</td>\n",
       "      <td>293.233103</td>\n",
       "      <td>293.250</td>\n",
       "      <td>284.2</td>\n",
       "    </tr>\n",
       "    <tr>\n",
       "      <th>2</th>\n",
       "      <td>C/C(=C\\C(=O)C(F)(F)F)/O[Al](O/C(=C\\C(=O)C(F)(F...</td>\n",
       "      <td>C</td>\n",
       "      <td>1s</td>\n",
       "      <td>293.173124</td>\n",
       "      <td>293.250</td>\n",
       "      <td>284.2</td>\n",
       "    </tr>\n",
       "    <tr>\n",
       "      <th>3</th>\n",
       "      <td>C/C(=C\\C(=O)C(F)(F)F)/O[Al](O/C(=C\\C(=O)C(F)(F...</td>\n",
       "      <td>C</td>\n",
       "      <td>1s</td>\n",
       "      <td>292.566679</td>\n",
       "      <td>293.250</td>\n",
       "      <td>284.2</td>\n",
       "    </tr>\n",
       "    <tr>\n",
       "      <th>4</th>\n",
       "      <td>C/C(=C\\C(=O)C(F)(F)F)/O[Al](O/C(=C\\C(=O)C(F)(F...</td>\n",
       "      <td>C</td>\n",
       "      <td>1s</td>\n",
       "      <td>292.818245</td>\n",
       "      <td>293.250</td>\n",
       "      <td>284.2</td>\n",
       "    </tr>\n",
       "    <tr>\n",
       "      <th>...</th>\n",
       "      <td>...</td>\n",
       "      <td>...</td>\n",
       "      <td>...</td>\n",
       "      <td>...</td>\n",
       "      <td>...</td>\n",
       "      <td>...</td>\n",
       "    </tr>\n",
       "    <tr>\n",
       "      <th>129</th>\n",
       "      <td>CC(/C(=C/C(=O)C(C)(C)C)/O[Al](O/C(=C\\C(=O)C(C)...</td>\n",
       "      <td>C</td>\n",
       "      <td>1s</td>\n",
       "      <td>289.119014</td>\n",
       "      <td>290.585</td>\n",
       "      <td>284.2</td>\n",
       "    </tr>\n",
       "    <tr>\n",
       "      <th>130</th>\n",
       "      <td>CC(/C(=C/C(=O)C(C)(C)C)/O[Al](O/C(=C\\C(=O)C(C)...</td>\n",
       "      <td>C</td>\n",
       "      <td>1s</td>\n",
       "      <td>288.475682</td>\n",
       "      <td>290.585</td>\n",
       "      <td>284.2</td>\n",
       "    </tr>\n",
       "    <tr>\n",
       "      <th>131</th>\n",
       "      <td>CC(/C(=C/C(=O)C(C)(C)C)/O[Al](O/C(=C\\C(=O)C(C)...</td>\n",
       "      <td>C</td>\n",
       "      <td>1s</td>\n",
       "      <td>287.937591</td>\n",
       "      <td>290.585</td>\n",
       "      <td>284.2</td>\n",
       "    </tr>\n",
       "    <tr>\n",
       "      <th>132</th>\n",
       "      <td>CC(/C(=C/C(=O)C(C)(C)C)/O[Al](O/C(=C\\C(=O)C(C)...</td>\n",
       "      <td>C</td>\n",
       "      <td>1s</td>\n",
       "      <td>287.482183</td>\n",
       "      <td>290.585</td>\n",
       "      <td>284.2</td>\n",
       "    </tr>\n",
       "    <tr>\n",
       "      <th>133</th>\n",
       "      <td>CC(/C(=C/C(=O)C(C)(C)C)/O[Al](O/C(=C\\C(=O)C(C)...</td>\n",
       "      <td>C</td>\n",
       "      <td>1s</td>\n",
       "      <td>286.812361</td>\n",
       "      <td>290.585</td>\n",
       "      <td>284.2</td>\n",
       "    </tr>\n",
       "  </tbody>\n",
       "</table>\n",
       "<p>134 rows × 6 columns</p>\n",
       "</div>"
      ],
      "text/plain": [
       "                                              Molecule Atom Orbital  \\\n",
       "0                                                 [Ag]   Ag   3d5/2   \n",
       "1    C/C(=C\\C(=O)C(F)(F)F)/O[Al](O/C(=C\\C(=O)C(F)(F...    C      1s   \n",
       "2    C/C(=C\\C(=O)C(F)(F)F)/O[Al](O/C(=C\\C(=O)C(F)(F...    C      1s   \n",
       "3    C/C(=C\\C(=O)C(F)(F)F)/O[Al](O/C(=C\\C(=O)C(F)(F...    C      1s   \n",
       "4    C/C(=C\\C(=O)C(F)(F)F)/O[Al](O/C(=C\\C(=O)C(F)(F...    C      1s   \n",
       "..                                                 ...  ...     ...   \n",
       "129  CC(/C(=C/C(=O)C(C)(C)C)/O[Al](O/C(=C\\C(=O)C(C)...    C      1s   \n",
       "130  CC(/C(=C/C(=O)C(C)(C)C)/O[Al](O/C(=C\\C(=O)C(C)...    C      1s   \n",
       "131  CC(/C(=C/C(=O)C(C)(C)C)/O[Al](O/C(=C\\C(=O)C(C)...    C      1s   \n",
       "132  CC(/C(=C/C(=O)C(C)(C)C)/O[Al](O/C(=C\\C(=O)C(C)...    C      1s   \n",
       "133  CC(/C(=C/C(=O)C(C)(C)C)/O[Al](O/C(=C\\C(=O)C(C)...    C      1s   \n",
       "\n",
       "     Binding Energy  True Binding Energy  Lookup Energy  \n",
       "0        378.965583              375.550          368.3  \n",
       "1        293.233103              293.250          284.2  \n",
       "2        293.173124              293.250          284.2  \n",
       "3        292.566679              293.250          284.2  \n",
       "4        292.818245              293.250          284.2  \n",
       "..              ...                  ...            ...  \n",
       "129      289.119014              290.585          284.2  \n",
       "130      288.475682              290.585          284.2  \n",
       "131      287.937591              290.585          284.2  \n",
       "132      287.482183              290.585          284.2  \n",
       "133      286.812361              290.585          284.2  \n",
       "\n",
       "[134 rows x 6 columns]"
      ]
     },
     "execution_count": 12,
     "metadata": {},
     "output_type": "execute_result"
    }
   ],
   "source": [
    "results_df"
   ]
  },
  {
   "cell_type": "code",
   "execution_count": 17,
   "id": "c1a1f6a2",
   "metadata": {},
   "outputs": [
    {
     "data": {
      "text/plain": [
       "<matplotlib.collections.PathCollection at 0x7fc5800758e0>"
      ]
     },
     "execution_count": 17,
     "metadata": {},
     "output_type": "execute_result"
    },
    {
     "data": {
      "image/png": "[encoded data removed]",
      "text/plain": [
       "<Figure size 640x480 with 1 Axes>"
      ]
     },
     "metadata": {},
     "output_type": "display_data"
    }
   ],
   "source": [
    "plt.scatter(results_df['True Binding Energy'], np.abs(results_df['Binding Energy']-results_df['True Binding Energy']))"
   ]
  },
  {
   "cell_type": "code",
   "execution_count": 18,
   "id": "f64a7e1f",
   "metadata": {},
   "outputs": [
    {
     "data": {
      "text/plain": [
       "1.5010141691758236"
      ]
     },
     "execution_count": 18,
     "metadata": {},
     "output_type": "execute_result"
    }
   ],
   "source": [
    "np.mean(np.abs(results_df['Binding Energy']-results_df['True Binding Energy']))"
   ]
  },
  {
   "cell_type": "code",
   "execution_count": 19,
   "id": "fe712587",
   "metadata": {},
   "outputs": [
    {
     "data": {
      "text/plain": [
       "25.2222014925374"
      ]
     },
     "execution_count": 19,
     "metadata": {},
     "output_type": "execute_result"
    }
   ],
   "source": [
    "np.mean(np.abs(results_df['Lookup Energy']-results_df['True Binding Energy']))"
   ]
  },
  {
   "cell_type": "code",
   "execution_count": null,
   "id": "fe767f71",
   "metadata": {},
   "outputs": [],
   "source": []
  }
 ],
 "metadata": {
  "kernelspec": {
   "display_name": "Python 3 (ipykernel)",
   "language": "python",
   "name": "python3"
  },
  "language_info": {
   "codemirror_mode": {
    "name": "ipython",
    "version": 3
   },
   "file_extension": ".py",
   "mimetype": "text/x-python",
   "name": "python",
   "nbconvert_exporter": "python",
   "pygments_lexer": "ipython3",
   "version": "3.9.13"
  }
 },
 "nbformat": 4,
 "nbformat_minor": 5
}
