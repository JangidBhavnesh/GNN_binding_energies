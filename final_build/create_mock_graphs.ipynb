{
 "cells": [
  {
   "cell_type": "code",
   "execution_count": 1,
   "id": "0f8eb3d8",
   "metadata": {},
   "outputs": [],
   "source": [
    "import json"
   ]
  },
  {
   "cell_type": "code",
   "execution_count": 3,
   "id": "282e59fb",
   "metadata": {},
   "outputs": [],
   "source": [
    "# Load the original graphs_data.json\n",
    "with open('graph_data_original.json', 'r') as f:\n",
    "    graphs_data = json.load(f)"
   ]
  },
  {
   "cell_type": "code",
   "execution_count": 4,
   "id": "0dacaaba",
   "metadata": {},
   "outputs": [],
   "source": [
    "# Keep only the first 5 graphs\n",
    "pruned_graphs = {}\n",
    "for idx, (mol_name, graph) in enumerate(graphs_data.items()):\n",
    "    if idx >= 5:\n",
    "        break\n",
    "    # Deep copy the graph to modify\n",
    "    new_graph = {\n",
    "        \"directed\": graph.get(\"directed\", False),\n",
    "        \"multigraph\": graph.get(\"multigraph\", False),\n",
    "        \"graph\": graph.get(\"graph\", {}),\n",
    "        \"nodes\": [],\n",
    "        \"edges\": graph.get(\"edges\", [])\n",
    "    }\n",
    "    \n",
    "    # Copy nodes, but without binding_energies\n",
    "    for node in graph[\"nodes\"]:\n",
    "        new_node = node.copy()\n",
    "        if \"binding_energies\" in new_node:\n",
    "            del new_node[\"binding_energies\"]\n",
    "        new_graph[\"nodes\"].append(new_node)\n",
    "    \n",
    "    # Save it\n",
    "    pruned_graphs[mol_name] = new_graph"
   ]
  },
  {
   "cell_type": "code",
   "execution_count": 5,
   "id": "eb11b37e",
   "metadata": {},
   "outputs": [
    {
     "name": "stdout",
     "output_type": "stream",
     "text": [
      "Saved pruned graphs to graph_data.json\n"
     ]
    }
   ],
   "source": [
    "# Save to a new JSON\n",
    "with open('graph_data.json', 'w') as f:\n",
    "    json.dump(pruned_graphs, f, indent=2)\n",
    "\n",
    "print(\"Saved pruned graphs to graph_data.json\")"
   ]
  },
  {
   "cell_type": "code",
   "execution_count": null,
   "id": "780cf95f",
   "metadata": {},
   "outputs": [],
   "source": []
  }
 ],
 "metadata": {
  "kernelspec": {
   "display_name": "Python 3 (ipykernel)",
   "language": "python",
   "name": "python3"
  },
  "language_info": {
   "codemirror_mode": {
    "name": "ipython",
    "version": 3
   },
   "file_extension": ".py",
   "mimetype": "text/x-python",
   "name": "python",
   "nbconvert_exporter": "python",
   "pygments_lexer": "ipython3",
   "version": "3.9.13"
  }
 },
 "nbformat": 4,
 "nbformat_minor": 5
}
