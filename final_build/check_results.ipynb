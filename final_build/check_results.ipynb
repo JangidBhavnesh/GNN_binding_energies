{
 "cells": [
  {
   "cell_type": "code",
   "execution_count": 1,
   "id": "38117273",
   "metadata": {},
   "outputs": [],
   "source": [
    "import json\n",
    "import pandas as pd"
   ]
  },
  {
   "cell_type": "code",
   "execution_count": 2,
   "id": "3a9c8d29",
   "metadata": {},
   "outputs": [],
   "source": [
    "# Load original graph data (with binding energies)\n",
    "with open('graph_data_original.json', 'r') as f:\n",
    "    original_graphs = json.load(f)\n",
    "    \n",
    "# Load lookup table\n",
    "lookup_df = pd.read_csv(\"lookup.csv\")\n",
    "atom_dict = {row['Element']: row['Z'] for _, row in lookup_df.iterrows()}"
   ]
  },
  {
   "cell_type": "code",
   "execution_count": 3,
   "id": "be3b64b4",
   "metadata": {},
   "outputs": [],
   "source": [
    "# Load model predictions\n",
    "results_df = pd.read_csv('results.csv')"
   ]
  },
  {
   "cell_type": "code",
   "execution_count": 5,
   "id": "42e62231",
   "metadata": {},
   "outputs": [],
   "source": [
    "orb_list = ['1s',\n",
    "         '2s',\n",
    "         '2p',\n",
    "         '2p3/2',\n",
    "         '3s',\n",
    "         '3p',\n",
    "         '3p3/2',\n",
    "         '3d',\n",
    "         '3d5/2',\n",
    "         '4s',\n",
    "         '4p3/2',\n",
    "         '4d',\n",
    "         '4d5/2',\n",
    "         '4f7/2',\n",
    "         '5s',\n",
    "         '5p3/2',\n",
    "         '5d5/2']"
   ]
  },
  {
   "cell_type": "code",
   "execution_count": 6,
   "id": "885316b6",
   "metadata": {},
   "outputs": [],
   "source": [
    "true_binding_energies = []\n",
    "lookup_estimates = []\n",
    "\n",
    "for mol_graph in original_graphs.values():\n",
    "    for node in mol_graph['nodes']:\n",
    "        atom = node['atom_type']  # or atomic_number if needed\n",
    "        orbitals = node['orbitals']\n",
    "        energies = node['binding_energies']\n",
    "        \n",
    "        for orbital, true_energy in zip(orbitals, energies):\n",
    "            true_binding_energies.append(true_energy)\n",
    "            if orbital!=-1:\n",
    "                lookup_energy = float(lookup_df.loc[atom_dict[atom]-1, orbital])\n",
    "            else:\n",
    "                lookup_energe = -1\n",
    "            if lookup_energy is None:\n",
    "                lookup_energy = 0.0\n",
    "            lookup_estimates.append(lookup_energy)"
   ]
  },
  {
   "cell_type": "code",
   "execution_count": 7,
   "id": "a4cde5a2",
   "metadata": {},
   "outputs": [
    {
     "data": {
      "text/plain": [
       "7332"
      ]
     },
     "execution_count": 7,
     "metadata": {},
     "output_type": "execute_result"
    }
   ],
   "source": [
    "len(true_binding_energies)"
   ]
  },
  {
   "cell_type": "code",
   "execution_count": 8,
   "id": "8e4e15cf",
   "metadata": {},
   "outputs": [
    {
     "data": {
      "text/plain": [
       "7332"
      ]
     },
     "execution_count": 8,
     "metadata": {},
     "output_type": "execute_result"
    }
   ],
   "source": [
    "len(lookup_estimates)"
   ]
  },
  {
   "cell_type": "code",
   "execution_count": 9,
   "id": "b03eb871",
   "metadata": {},
   "outputs": [],
   "source": [
    "# Truncate the true list to match number of predictions\n",
    "true_binding_energies = true_binding_energies[:len(results_df)]\n",
    "lookup_energies = lookup_estimates[:len(results_df)]"
   ]
  },
  {
   "cell_type": "code",
   "execution_count": 10,
   "id": "cfb9cb83",
   "metadata": {},
   "outputs": [],
   "source": [
    "# Add to dataframe\n",
    "results_df['True Binding Energy'] = true_binding_energies\n",
    "results_df['Lookup Energy'] = lookup_energies\n",
    "#results_df['Absolute Error'] = (results_df['Binding Energy'] - results_df['True Binding Energy']).abs()"
   ]
  },
  {
   "cell_type": "code",
   "execution_count": 11,
   "id": "f946177f",
   "metadata": {},
   "outputs": [],
   "source": [
    "import matplotlib.pyplot as plt\n",
    "import numpy as np"
   ]
  },
  {
   "cell_type": "code",
   "execution_count": 12,
   "id": "5932dd7d",
   "metadata": {},
   "outputs": [
    {
     "data": {
      "text/html": [
       "<div>\n",
       "<style scoped>\n",
       "    .dataframe tbody tr th:only-of-type {\n",
       "        vertical-align: middle;\n",
       "    }\n",
       "\n",
       "    .dataframe tbody tr th {\n",
       "        vertical-align: top;\n",
       "    }\n",
       "\n",
       "    .dataframe thead th {\n",
       "        text-align: right;\n",
       "    }\n",
       "</style>\n",
       "<table border=\"1\" class=\"dataframe\">\n",
       "  <thead>\n",
       "    <tr style=\"text-align: right;\">\n",
       "      <th></th>\n",
       "      <th>Molecule</th>\n",
       "      <th>Atom</th>\n",
       "      <th>Orbital</th>\n",
       "      <th>Binding Energy</th>\n",
       "      <th>True Binding Energy</th>\n",
       "      <th>Lookup Energy</th>\n",
       "    </tr>\n",
       "  </thead>\n",
       "  <tbody>\n",
       "    <tr>\n",
       "      <th>0</th>\n",
       "      <td>[Ag]</td>\n",
       "      <td>Ag</td>\n",
       "      <td>3d5/2</td>\n",
       "      <td>378.965583</td>\n",
       "      <td>375.550</td>\n",
       "      <td>368.3</td>\n",
       "    </tr>\n",
       "    <tr>\n",
       "      <th>1</th>\n",
       "      <td>C/C(=C\\C(=O)C(F)(F)F)/O[Al](O/C(=C\\C(=O)C(F)(F...</td>\n",
       "      <td>C</td>\n",
       "      <td>1s</td>\n",
       "      <td>293.233103</td>\n",
       "      <td>293.250</td>\n",
       "      <td>284.2</td>\n",
       "    </tr>\n",
       "    <tr>\n",
       "      <th>2</th>\n",
       "      <td>C/C(=C\\C(=O)C(F)(F)F)/O[Al](O/C(=C\\C(=O)C(F)(F...</td>\n",
       "      <td>C</td>\n",
       "      <td>1s</td>\n",
       "      <td>293.173124</td>\n",
       "      <td>293.250</td>\n",
       "      <td>284.2</td>\n",
       "    </tr>\n",
       "    <tr>\n",
       "      <th>3</th>\n",
       "      <td>C/C(=C\\C(=O)C(F)(F)F)/O[Al](O/C(=C\\C(=O)C(F)(F...</td>\n",
       "      <td>C</td>\n",
       "      <td>1s</td>\n",
       "      <td>292.566679</td>\n",
       "      <td>293.250</td>\n",
       "      <td>284.2</td>\n",
       "    </tr>\n",
       "    <tr>\n",
       "      <th>4</th>\n",
       "      <td>C/C(=C\\C(=O)C(F)(F)F)/O[Al](O/C(=C\\C(=O)C(F)(F...</td>\n",
       "      <td>C</td>\n",
       "      <td>1s</td>\n",
       "      <td>292.818245</td>\n",
       "      <td>293.250</td>\n",
       "      <td>284.2</td>\n",
       "    </tr>\n",
       "    <tr>\n",
       "      <th>...</th>\n",
       "      <td>...</td>\n",
       "      <td>...</td>\n",
       "      <td>...</td>\n",
       "      <td>...</td>\n",
       "      <td>...</td>\n",
       "      <td>...</td>\n",
       "    </tr>\n",
       "    <tr>\n",
       "      <th>7327</th>\n",
       "      <td>C[CH2-].C[CH2-].[Zn+2]</td>\n",
       "      <td>C</td>\n",
       "      <td>-1</td>\n",
       "      <td>-1.000000</td>\n",
       "      <td>-1.000</td>\n",
       "      <td>88.6</td>\n",
       "    </tr>\n",
       "    <tr>\n",
       "      <th>7328</th>\n",
       "      <td>C[CH2-].C[CH2-].[Zn+2]</td>\n",
       "      <td>C</td>\n",
       "      <td>-1</td>\n",
       "      <td>-1.000000</td>\n",
       "      <td>-1.000</td>\n",
       "      <td>88.6</td>\n",
       "    </tr>\n",
       "    <tr>\n",
       "      <th>7329</th>\n",
       "      <td>C[CH2-].C[CH2-].[Zn+2]</td>\n",
       "      <td>C</td>\n",
       "      <td>-1</td>\n",
       "      <td>-1.000000</td>\n",
       "      <td>-1.000</td>\n",
       "      <td>88.6</td>\n",
       "    </tr>\n",
       "    <tr>\n",
       "      <th>7330</th>\n",
       "      <td>C[CH2-].C[CH2-].[Zn+2]</td>\n",
       "      <td>C</td>\n",
       "      <td>-1</td>\n",
       "      <td>-1.000000</td>\n",
       "      <td>-1.000</td>\n",
       "      <td>88.6</td>\n",
       "    </tr>\n",
       "    <tr>\n",
       "      <th>7331</th>\n",
       "      <td>C[CH2-].C[CH2-].[Zn+2]</td>\n",
       "      <td>Zn</td>\n",
       "      <td>3d5/2</td>\n",
       "      <td>19.043693</td>\n",
       "      <td>16.709</td>\n",
       "      <td>10.1</td>\n",
       "    </tr>\n",
       "  </tbody>\n",
       "</table>\n",
       "<p>7332 rows × 6 columns</p>\n",
       "</div>"
      ],
      "text/plain": [
       "                                               Molecule Atom Orbital  \\\n",
       "0                                                  [Ag]   Ag   3d5/2   \n",
       "1     C/C(=C\\C(=O)C(F)(F)F)/O[Al](O/C(=C\\C(=O)C(F)(F...    C      1s   \n",
       "2     C/C(=C\\C(=O)C(F)(F)F)/O[Al](O/C(=C\\C(=O)C(F)(F...    C      1s   \n",
       "3     C/C(=C\\C(=O)C(F)(F)F)/O[Al](O/C(=C\\C(=O)C(F)(F...    C      1s   \n",
       "4     C/C(=C\\C(=O)C(F)(F)F)/O[Al](O/C(=C\\C(=O)C(F)(F...    C      1s   \n",
       "...                                                 ...  ...     ...   \n",
       "7327                             C[CH2-].C[CH2-].[Zn+2]    C      -1   \n",
       "7328                             C[CH2-].C[CH2-].[Zn+2]    C      -1   \n",
       "7329                             C[CH2-].C[CH2-].[Zn+2]    C      -1   \n",
       "7330                             C[CH2-].C[CH2-].[Zn+2]    C      -1   \n",
       "7331                             C[CH2-].C[CH2-].[Zn+2]   Zn   3d5/2   \n",
       "\n",
       "      Binding Energy  True Binding Energy  Lookup Energy  \n",
       "0         378.965583              375.550          368.3  \n",
       "1         293.233103              293.250          284.2  \n",
       "2         293.173124              293.250          284.2  \n",
       "3         292.566679              293.250          284.2  \n",
       "4         292.818245              293.250          284.2  \n",
       "...              ...                  ...            ...  \n",
       "7327       -1.000000               -1.000           88.6  \n",
       "7328       -1.000000               -1.000           88.6  \n",
       "7329       -1.000000               -1.000           88.6  \n",
       "7330       -1.000000               -1.000           88.6  \n",
       "7331       19.043693               16.709           10.1  \n",
       "\n",
       "[7332 rows x 6 columns]"
      ]
     },
     "execution_count": 12,
     "metadata": {},
     "output_type": "execute_result"
    }
   ],
   "source": [
    "results_df"
   ]
  },
  {
   "cell_type": "code",
   "execution_count": 16,
   "id": "c1a1f6a2",
   "metadata": {},
   "outputs": [
    {
     "data": {
      "text/plain": [
       "Text(0, 0.5, '|True-predicted| binding energy')"
      ]
     },
     "execution_count": 16,
     "metadata": {},
     "output_type": "execute_result"
    },
    {
     "data": {
      "image/png": "[encoded data removed]",
      "text/plain": [
       "<Figure size 640x480 with 1 Axes>"
      ]
     },
     "metadata": {},
     "output_type": "display_data"
    }
   ],
   "source": [
    "plt.scatter(results_df['True Binding Energy'], np.abs(results_df['Binding Energy']-results_df['True Binding Energy']))\n",
    "plt.xlabel('True binding energy (eV)')\n",
    "plt.ylabel('|True-predicted| binding energy')"
   ]
  },
  {
   "cell_type": "code",
   "execution_count": 14,
   "id": "f64a7e1f",
   "metadata": {},
   "outputs": [
    {
     "data": {
      "text/plain": [
       "0.7048003185173964"
      ]
     },
     "execution_count": 14,
     "metadata": {},
     "output_type": "execute_result"
    }
   ],
   "source": [
    "np.mean(np.abs(results_df['Binding Energy']-results_df['True Binding Energy']))"
   ]
  },
  {
   "cell_type": "code",
   "execution_count": 15,
   "id": "fe712587",
   "metadata": {},
   "outputs": [
    {
     "data": {
      "text/plain": [
       "114.82978998493772"
      ]
     },
     "execution_count": 15,
     "metadata": {},
     "output_type": "execute_result"
    }
   ],
   "source": [
    "np.mean(np.abs(results_df['Lookup Energy']-results_df['True Binding Energy']))"
   ]
  },
  {
   "cell_type": "code",
   "execution_count": null,
   "id": "fe767f71",
   "metadata": {},
   "outputs": [],
   "source": []
  }
 ],
 "metadata": {
  "kernelspec": {
   "display_name": "Python 3 (ipykernel)",
   "language": "python",
   "name": "python3"
  },
  "language_info": {
   "codemirror_mode": {
    "name": "ipython",
    "version": 3
   },
   "file_extension": ".py",
   "mimetype": "text/x-python",
   "name": "python",
   "nbconvert_exporter": "python",
   "pygments_lexer": "ipython3",
   "version": "3.9.13"
  }
 },
 "nbformat": 4,
 "nbformat_minor": 5
}
