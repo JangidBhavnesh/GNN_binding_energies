{
 "cells": [
  {
   "cell_type": "code",
   "execution_count": 4,
   "id": "e65c9015",
   "metadata": {},
   "outputs": [],
   "source": [
    "import pandas as pd\n",
    "import skipatom as sa\n",
    "import torch"
   ]
  },
  {
   "cell_type": "code",
   "execution_count": 5,
   "id": "97bca0a0",
   "metadata": {},
   "outputs": [],
   "source": [
    "data = pd.read_csv('./atomic_binding_energies.csv')"
   ]
  },
  {
   "cell_type": "code",
   "execution_count": 6,
   "id": "91fcc6a5",
   "metadata": {},
   "outputs": [],
   "source": [
    "# Generating random vectors \n",
    "\n",
    "model_atoms = sa.RandomVectors(elems=data['Atoms'], dim=len(data['Atoms']), mean=0, std=len(data['Atoms']))\n",
    "model_orbitals = sa.RandomVectors(elems=data['Orbital'], dim=1, mean=0, std=len(data['Atoms']))"
   ]
  },
  {
   "cell_type": "code",
   "execution_count": 7,
   "id": "df7e90f1",
   "metadata": {},
   "outputs": [],
   "source": [
    "# Adding random vectors to create the final embedding\n",
    "\n",
    "atoms_vec = torch.tensor(model_atoms.vectors)\n",
    "orbital_vec = torch.tensor(model_orbitals.vectors)\n",
    "\n",
    "embedding = torch.cat([atoms_vec, orbital_vec], dim=1)\n"
   ]
  },
  {
   "cell_type": "code",
   "execution_count": 8,
   "id": "860f54ee",
   "metadata": {},
   "outputs": [],
   "source": [
    "# Saving everything. \n",
    "\n",
    "embedding_list = embedding.tolist()\n",
    "data['Embedding'] = embedding_list\n",
    "data[['Atoms', 'Orbital', 'Embedding']].to_csv('./final_embedding.csv', index=False, header=False)\n"
   ]
  }
 ],
 "metadata": {
  "kernelspec": {
   "display_name": "hackathon",
   "language": "python",
   "name": "python3"
  },
  "language_info": {
   "codemirror_mode": {
    "name": "ipython",
    "version": 3
   },
   "file_extension": ".py",
   "mimetype": "text/x-python",
   "name": "python",
   "nbconvert_exporter": "python",
   "pygments_lexer": "ipython3",
   "version": "3.13.2"
  }
 },
 "nbformat": 4,
 "nbformat_minor": 5
}
