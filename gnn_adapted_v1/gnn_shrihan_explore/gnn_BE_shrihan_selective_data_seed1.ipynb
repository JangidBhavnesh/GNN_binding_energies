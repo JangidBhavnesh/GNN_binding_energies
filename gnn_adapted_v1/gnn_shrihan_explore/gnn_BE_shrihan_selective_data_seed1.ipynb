{
 "cells": [
  {
   "cell_type": "markdown",
   "metadata": {},
   "source": [
    "Basic imports"
   ]
  },
  {
   "cell_type": "code",
   "execution_count": 1,
   "metadata": {
    "cellView": "form",
    "id": "HwOueIhIQPBd"
   },
   "outputs": [],
   "source": [
    "import time\n",
    "import random\n",
    "import numpy as np\n",
    "\n",
    "from scipy.stats import ortho_group\n",
    "\n",
    "import matplotlib.pyplot as plt\n",
    "import pandas as pd\n",
    "\n",
    "import torch\n",
    "import torch.nn.functional as F\n",
    "from torch.nn import Linear, ReLU, BatchNorm1d, Module, Sequential\n",
    "\n",
    "import torch_geometric\n",
    "from torch_geometric.data import Data\n",
    "from torch_geometric.data import Batch\n",
    "from torch_geometric.datasets import QM9\n",
    "import torch_geometric.transforms as T\n",
    "from torch_geometric.utils import remove_self_loops, to_dense_adj, dense_to_sparse\n",
    "from torch_geometric.loader import DataLoader\n",
    "from torch_geometric.nn import MessagePassing, global_mean_pool\n",
    "from torch_geometric.datasets import QM9\n",
    "from torch_scatter import scatter\n",
    "\n",
    "import networkx as nx"
   ]
  },
  {
   "cell_type": "code",
   "execution_count": 2,
   "metadata": {},
   "outputs": [
    {
     "name": "stdout",
     "output_type": "stream",
     "text": [
      "PyTorch version 2.2.0+cu118\n",
      "PyG version 2.6.1\n"
     ]
    }
   ],
   "source": [
    "print(\"PyTorch version {}\".format(torch.__version__))\n",
    "print(\"PyG version {}\".format(torch_geometric.__version__))"
   ]
  },
  {
   "cell_type": "code",
   "execution_count": 3,
   "metadata": {
    "cellView": "form",
    "id": "voXIXbkVOeZm"
   },
   "outputs": [],
   "source": [
    "#@title [RUN] Set random seed for deterministic results\n",
    "\n",
    "def seed(seed=0):\n",
    "    random.seed(seed)\n",
    "    np.random.seed(seed)\n",
    "    torch.manual_seed(seed)\n",
    "    torch.cuda.manual_seed(seed)\n",
    "    torch.cuda.manual_seed_all(seed)\n",
    "    torch.backends.cudnn.deterministic = True\n",
    "    torch.backends.cudnn.benchmark = False\n",
    "\n",
    "seed(1)"
   ]
  },
  {
   "cell_type": "markdown",
   "metadata": {},
   "source": [
    "Functions - may not need"
   ]
  },
  {
   "cell_type": "markdown",
   "metadata": {},
   "source": [
    "Convert networkx inputs to PyG"
   ]
  },
  {
   "cell_type": "code",
   "execution_count": 4,
   "metadata": {},
   "outputs": [],
   "source": [
    "import helper\n",
    "train_data = helper.load_data_from_file(\"../../data/graph_data_duplicates_v2.json\") # dictionary of SMILES and values are graphs"
   ]
  },
  {
   "cell_type": "code",
   "execution_count": 5,
   "metadata": {},
   "outputs": [],
   "source": [
    "pdtable = pd.read_csv(\"../../data/periodictable.csv\", usecols=[0, 2])\n",
    "atom_dict = dict(zip(pdtable['Symbol'], pdtable['AtomicNumber'])) "
   ]
  },
  {
   "cell_type": "code",
   "execution_count": 6,
   "metadata": {},
   "outputs": [],
   "source": [
    "orb_dict = {\n",
    " '1s': [1, 0, 0],\n",
    " '2s': [2, 0, 0],\n",
    " '2p': [2, 1, 0],\n",
    " '2p3/2': [2, 1, 1.5],\n",
    "    \n",
    " '3s': [3, 0, 0],\n",
    " '3p': [3, 1, 0],\n",
    " '3p3/2': [3, 1, 1.5],\n",
    " '3d': [3, 2, 0],\n",
    " '3d5/2': [3, 2, 2.5],\n",
    "    \n",
    " '4s': [4, 0, 0],\n",
    " '4p3/2': [4, 1, 1.5],\n",
    " '4d': [4, 2, 0],\n",
    " '4d5/2': [4, 2, 2.5],\n",
    " '4f7/2': [4, 3, 3.5],\n",
    "    \n",
    " '5s': [5, 0, 0],\n",
    " '5p3/2': [5, 1, 1.5],\n",
    " '5d5/2': [5, 2, 2.5],\n",
    "}\n",
    "\n",
    "orb_list = list(orb_dict.keys())\n",
    "\n",
    "bond_dict = {'SINGLE':1, 'DOUBLE':2, 'TRIPLE':3, 'NONE':0}"
   ]
  },
  {
   "cell_type": "code",
   "execution_count": 7,
   "metadata": {},
   "outputs": [],
   "source": [
    "# Embeddings\n",
    "iso_be_df = pd.read_csv('../../data/Isolated_Energy_final.csv')\n",
    "embed_df = pd.read_csv('../../embedding/New_embeddings/final_embedding_dim30_one-hot-orbital.csv')"
   ]
  },
  {
   "cell_type": "code",
   "execution_count": 8,
   "metadata": {},
   "outputs": [],
   "source": [
    "# Embedding IDs\n",
    "embedded_atoms = list(embed_df['Atoms'])\n",
    "\n",
    "# Embedding vectors\n",
    "embed_dict = {}\n",
    "\n",
    "for i in range(len(embed_df)):\n",
    "    # Ignore one-hot encoding for orbitals\n",
    "    vec = np.fromstring(embed_df.loc[i,'Embeddings'].replace('\\n','').strip('[]'), sep=' ')[:30] \n",
    "    if embedded_atoms[i] not in embed_dict:\n",
    "        embed_dict[embedded_atoms[i]] = vec\n",
    "        \n",
    "# Embedding doesn't have entry for H\n",
    "embed_dict['H'] = np.zeros(30)"
   ]
  },
  {
   "cell_type": "code",
   "execution_count": 9,
   "metadata": {
    "scrolled": true
   },
   "outputs": [],
   "source": [
    "dataset = []\n",
    "\n",
    "for i, mol in enumerate(train_data):\n",
    "    graph = train_data[mol]\n",
    "    \n",
    "    \n",
    "    # Create node features (# atoms by target, atomic embedding, charge, one-hot encoding for orbital)\n",
    "    targets = list(nx.get_node_attributes(graph, \"target\").values())\n",
    "    x = np.zeros((len(targets), 49))\n",
    "\n",
    "    # Indicate target atom\n",
    "    atom_index = targets.index(True)\n",
    "    x[atom_index, 0] = 1  \n",
    "    \n",
    "    # Indicate formal charges\n",
    "    charge = list(nx.get_node_attributes(graph, \"formal_charge\").values())\n",
    "    x[:, 1] = charge  \n",
    "    \n",
    "    # Indicate atom embeddings\n",
    "    atom = list(nx.get_node_attributes(graph, \"atom_type\").values())\n",
    "    embed_mat = np.array([embed_dict[a] for a in atom])\n",
    "    x[:,2:32] = embed_mat\n",
    "    \n",
    "    # One hot encode orbital for target atom\n",
    "    orb = list(nx.get_node_attributes(graph, \"orbitals\").values())\n",
    "    x[atom_index, 32 + orb_list.index(orb[atom_index][0])] = 1 \n",
    "    \n",
    "    # Make PyG friendly\n",
    "    x = torch.tensor(x, dtype=torch.float)\n",
    "    \n",
    "    # Target value\n",
    "    energy = list(nx.get_node_attributes(graph, \"binding_energies\").values())\n",
    "    y = torch.tensor([energy[atom_index][0]], dtype=torch.float)\n",
    "    # Isolated binding energy from lookup table (for delta learning)\n",
    "    be = float(iso_be_df.loc[atom_dict[atom[atom_index]]-1,orb[atom_index][0]]) \n",
    "    \n",
    "    # Encode edge indices\n",
    "    bond_types = list(nx.get_edge_attributes(graph, \"bond_type\").values())\n",
    "    \n",
    "    # Fix for edge_attr construction\n",
    "    edge_attr = torch.tensor([bond_dict[b] for b in bond_types], dtype=torch.float)\n",
    "    edge_attr = edge_attr.unsqueeze(1)\n",
    "    \n",
    "    # Fix for edge_index construction\n",
    "    edge_index = torch.tensor(list(graph.edges), dtype=torch.long).t().contiguous()\n",
    "\n",
    "    # Then proceed with creating the Data object\n",
    "    data = Data(x=x, edge_index=edge_index, edge_attr=edge_attr, y=y-be, name=mol, y0=be)\n",
    "    dataset.append(data)"
   ]
  },
  {
   "cell_type": "code",
   "execution_count": 10,
   "metadata": {},
   "outputs": [
    {
     "name": "stdout",
     "output_type": "stream",
     "text": [
      "Total number of samples: 5192.\n",
      "859\n",
      "Created dataset splits with 3703 training, 926 validation, 563 test samples.\n"
     ]
    }
   ],
   "source": [
    "from sklearn.model_selection import train_test_split\n",
    "\n",
    "print(f\"Total number of samples: {len(dataset)}.\")\n",
    "\n",
    "mols = np.array(list(train_data.keys()))\n",
    "mols = np.array([mol.split('_')[0] for mol in mols]) # there are no underscores in the molecule names\n",
    "\n",
    "# Get unique molecules and assign unique indices to each\n",
    "unique_molecules, unique_index = np.unique(mols, return_inverse=True)\n",
    "\n",
    "print(unique_index.max()) # goes from 0 to 859 for the 860 unique molecules\n",
    "\n",
    "# Choose a random subset of test molecules\n",
    "unseen_subset = np.random.choice(np.arange(0, 859), size=100, replace=False) # 100 random molecules\n",
    "\n",
    "whitelist = ~np.in1d(unique_index, unseen_subset)\n",
    "train_val_dataset = [dataset[i] for i in range(len(dataset)) if whitelist[i]]\n",
    "test_dataset = [dataset[i] for i in range(len(dataset)) if not whitelist[i]] # Test dataset is the unseen subset\n",
    "\n",
    "# Split datasets (our 3K subset)\n",
    "# Split the dataset into train, validation, and test sets\n",
    "train_dataset, val_dataset = train_test_split(train_val_dataset, test_size=0.2, random_state=0, shuffle=True)\n",
    "\n",
    "print(f\"Created dataset splits with {len(train_dataset)} training, {len(val_dataset)} validation, {len(test_dataset)} test samples.\")\n",
    "\n",
    "# Create dataloaders with batch size = 32\n",
    "train_loader = DataLoader(train_dataset, batch_size=32, shuffle=True)\n",
    "val_loader = DataLoader(val_dataset, batch_size=32, shuffle=False)\n",
    "test_loader = DataLoader(test_dataset, batch_size=32, shuffle=False)"
   ]
  },
  {
   "cell_type": "markdown",
   "metadata": {
    "id": "byQrx71Udlv5"
   },
   "source": [
    "### Blueprint of data objects"
   ]
  },
  {
   "cell_type": "markdown",
   "metadata": {
    "id": "tmnIaRv2MP3j"
   },
   "source": [
    "**Atom features (`data.x`)** - $\\mathbb{R}^{|V| \\times 11}$\n",
    "- 1st-5th features: Atom type (one-hot: H, C, N, O, F)\n",
    "- 6th feature (also `data.z`): Atomic number (number of protons).\n",
    "- 7th feature: Aromatic (binary)\n",
    "- 8th-10th features: Electron orbital hybridization (one-hot: sp, sp2, sp3)\n",
    "- 11th feature: Number of hydrogens\n",
    "\n",
    "**Edge Index (`data.edge_index`)** - $\\mathbb{R}^{2×|E|}$\n",
    "- A tensor of dimensions 2 x `num_edges` that describe the edge connectivity of the graph\n",
    "\n",
    "**Edge features (`data.edge_attr`)** - $\\mathbb{R}^{|E|\\times 4}$\n",
    "- 1st-4th features: bond type (one-hot: single, double, triple, aromatic)\n",
    "\n",
    "**Target (`data.y`)** - $\\mathbb{R}^{1}$\n",
    "- A scalar value corresponding to the target electron's binding energy"
   ]
  },
  {
   "cell_type": "code",
   "execution_count": 11,
   "metadata": {
    "id": "wO5GskvZnZ1j"
   },
   "outputs": [],
   "source": [
    "class MPNNLayer(MessagePassing):\n",
    "    def __init__(self, emb_dim=64, edge_dim=1, aggr='add'):\n",
    "        \"\"\"Message Passing Neural Network Layer\n",
    "\n",
    "        Args:\n",
    "            emb_dim: (int) - hidden dimension `d`\n",
    "            edge_dim: (int) - edge feature dimension `d_e`\n",
    "            aggr: (str) - aggregation function `\\oplus` (sum/mean/max)\n",
    "        \"\"\"\n",
    "        # Set the aggregation function\n",
    "        super().__init__(aggr=aggr)\n",
    "\n",
    "        self.emb_dim = emb_dim\n",
    "        self.edge_dim = edge_dim\n",
    "\n",
    "        # MLP `\\psi` for computing messages `m_ij`\n",
    "        # Implemented as a stack of Linear->BN->ReLU->Linear->BN->ReLU\n",
    "        # dims: (2d + d_e) -> d\n",
    "        self.mlp_msg = Sequential(\n",
    "            Linear(2*emb_dim + edge_dim, emb_dim), BatchNorm1d(emb_dim), ReLU(),\n",
    "            Linear(emb_dim, emb_dim), BatchNorm1d(emb_dim), ReLU()\n",
    "          )\n",
    "\n",
    "        # MLP `\\phi` for computing updated node features `h_i^{l+1}`\n",
    "        # Implemented as a stack of Linear->BN->ReLU->Linear->BN->ReLU\n",
    "        # dims: 2d -> d\n",
    "        self.mlp_upd = Sequential(\n",
    "            Linear(2*emb_dim, emb_dim), BatchNorm1d(emb_dim), ReLU(),\n",
    "            Linear(emb_dim, emb_dim), BatchNorm1d(emb_dim), ReLU()\n",
    "          )\n",
    "\n",
    "    def forward(self, h, edge_index, edge_attr):\n",
    "        \"\"\"\n",
    "        The forward pass updates node features `h` via one round of message passing.\n",
    "\n",
    "        As our MPNNLayer class inherits from the PyG MessagePassing parent class,\n",
    "        we simply need to call the `propagate()` function which starts the\n",
    "        message passing procedure: `message()` -> `aggregate()` -> `update()`.\n",
    "\n",
    "        The MessagePassing class handles most of the logic for the implementation.\n",
    "        To build custom GNNs, we only need to define our own `message()`,\n",
    "        `aggregate()`, and `update()` functions (defined subsequently).\n",
    "\n",
    "        Args:\n",
    "            h: (n, d) - initial node features\n",
    "            edge_index: (e, 2) - pairs of edges (i, j)\n",
    "            edge_attr: (e, d_e) - edge features\n",
    "\n",
    "        Returns:\n",
    "            out: (n, d) - updated node features\n",
    "        \"\"\"\n",
    "        out = self.propagate(edge_index, h=h, edge_attr=edge_attr)\n",
    "        return out\n",
    "\n",
    "    def message(self, h_i, h_j, edge_attr):\n",
    "        \"\"\"Step (1) Message\n",
    "\n",
    "        The `message()` function constructs messages from source nodes j\n",
    "        to destination nodes i for each edge (i, j) in `edge_index`.\n",
    "\n",
    "        The arguments can be a bit tricky to understand: `message()` can take\n",
    "        any arguments that were initially passed to `propagate`. Additionally,\n",
    "        we can differentiate destination nodes and source nodes by appending\n",
    "        `_i` or `_j` to the variable name, e.g. for the node features `h`, we\n",
    "        can use `h_i` and `h_j`.\n",
    "\n",
    "        This part is critical to understand as the `message()` function\n",
    "        constructs messages for each edge in the graph. The indexing of the\n",
    "        original node features `h` (or other node variables) is handled under\n",
    "        the hood by PyG.\n",
    "\n",
    "        Args:\n",
    "            h_i: (e, d) - destination node features\n",
    "            h_j: (e, d) - source node features\n",
    "            edge_attr: (e, d_e) - edge features\n",
    "\n",
    "        Returns:\n",
    "            msg: (e, d) - messages `m_ij` passed through MLP `\\psi`\n",
    "        \"\"\"\n",
    "        # SK - note how the dimensions of h_i and h_j were recast compared to forward()\n",
    "        msg = torch.cat([h_i, h_j, edge_attr], dim=-1)\n",
    "        return self.mlp_msg(msg)\n",
    "\n",
    "    def aggregate(self, inputs, index, ptr=None, dim_size=None):\n",
    "\n",
    "        \"\"\"The `aggregate` function aggregates the messages from neighboring nodes,\n",
    "        according to the chosen aggregation function ('sum' by default).\n",
    "\n",
    "        Args:\n",
    "            inputs: (e, d) - messages `m_ij` from destination to source nodes\n",
    "            index: (e, 1) - list of source nodes for each edge/message in `input`\n",
    "\n",
    "        Returns:\n",
    "            aggr_out: (n, d) - aggregated messages `m_i`\n",
    "        \"\"\"\n",
    "        aggr_out = scatter(inputs, index, dim=self.node_dim, dim_size=dim_size, reduce=self.aggr)\n",
    "\n",
    "        return aggr_out\n",
    "\n",
    "    def update(self, aggr_out, h):\n",
    "        \"\"\"\n",
    "        Step (3) Update\n",
    "\n",
    "        The `update()` function computes the final node features by combining the\n",
    "        aggregated messages with the initial node features.\n",
    "\n",
    "        `update()` takes the first argument `aggr_out`, the result of `aggregate()`,\n",
    "        as well as any optional arguments that were initially passed to\n",
    "        `propagate()`. E.g. in this case, we additionally pass `h`.\n",
    "\n",
    "        Args:\n",
    "            aggr_out: (n, d) - aggregated messages `m_i`\n",
    "            h: (n, d) - initial node features\n",
    "\n",
    "        Returns:\n",
    "            upd_out: (n, d) - updated node features passed through MLP `\\phi`\n",
    "        \"\"\"\n",
    "\n",
    "        upd_out = torch.cat([h, aggr_out], dim=-1)\n",
    "        return self.mlp_upd(upd_out)\n",
    "\n",
    "    def __repr__(self) -> str:\n",
    "        return (f'{self.__class__.__name__}(emb_dim={self.emb_dim}, aggr={self.aggr})')"
   ]
  },
  {
   "cell_type": "code",
   "execution_count": 12,
   "metadata": {
    "id": "Q0vqS1NAU_ZN"
   },
   "outputs": [],
   "source": [
    "class MPNNModel(Module):\n",
    "    def __init__(self, num_layers=4, emb_dim=64, in_dim=49, edge_dim=1, out_dim=1):\n",
    "        \"\"\"Message Passing Neural Network model for graph property prediction\n",
    "\n",
    "        Args:\n",
    "            num_layers: (int) - number of message passing layers `L`\n",
    "            emb_dim: (int) - hidden dimension `d`\n",
    "            in_dim: (int) - initial node feature dimension `d_n`\n",
    "            edge_dim: (int) - edge feature dimension `d_e`\n",
    "            out_dim: (int) - output dimension (fixed to 1)\n",
    "        \"\"\"\n",
    "        super().__init__()\n",
    "\n",
    "        # Linear projection for initial node features\n",
    "        # dim: d_n -> d\n",
    "        self.lin_in = Linear(in_dim, emb_dim)\n",
    "\n",
    "        # Stack of MPNN layers\n",
    "        self.convs = torch.nn.ModuleList()\n",
    "        for layer in range(num_layers):\n",
    "            self.convs.append(MPNNLayer(emb_dim, edge_dim, aggr='add'))\n",
    "\n",
    "        # Global pooling/readout function `R` (mean pooling)\n",
    "        # PyG handles the underlying logic via `global_mean_pool()`\n",
    "        self.pool = global_mean_pool\n",
    "\n",
    "        # Linear prediction head\n",
    "        # dim: d -> out_dim\n",
    "        self.lin_pred = Linear(emb_dim, out_dim)\n",
    "\n",
    "    def forward(self, data):\n",
    "        \"\"\"\n",
    "        Args:\n",
    "            data: (PyG.Data) - batch of PyG graphs\n",
    "\n",
    "        Returns:\n",
    "            out: (batch_size, out_dim) - prediction for each graph\n",
    "        \"\"\"\n",
    "        h = self.lin_in(data.x) # (n, d_n) -> (n, d)\n",
    "\n",
    "        for conv in self.convs:\n",
    "            h = h + conv(h, data.edge_index, data.edge_attr) # (n, d) -> (n, d)\n",
    "            # Note that we add a residual connection after each MPNN layer\n",
    "\n",
    "        h_graph = self.pool(h, data.batch) # (n, d) -> (batch_size, d)\n",
    "\n",
    "        out = self.lin_pred(h_graph) # (batch_size, d) -> (batch_size, 1)\n",
    "\n",
    "        return out.view(-1)"
   ]
  },
  {
   "cell_type": "markdown",
   "metadata": {
    "id": "W4xlvC8bZEv_"
   },
   "source": [
    "Unit tests"
   ]
  },
  {
   "cell_type": "code",
   "execution_count": 13,
   "metadata": {
    "id": "vXuzZIqpZVqS"
   },
   "outputs": [],
   "source": [
    "def permute_graph(data, perm):\n",
    "    \"\"\"Helper function for permuting PyG Data object attributes consistently.\n",
    "    \"\"\"\n",
    "    # Permute the node attribute ordering\n",
    "    data.x = data.x[perm]\n",
    "    data.batch = data.batch[perm]\n",
    "\n",
    "    # Permute the edge index\n",
    "    adj = to_dense_adj(data.edge_index)\n",
    "    adj = adj[:, perm, :]\n",
    "    adj = adj[:, :, perm]\n",
    "    data.edge_index = dense_to_sparse(adj)[0]\n",
    "\n",
    "    # Note:\n",
    "    # (1) While we originally defined the permutation matrix P as only having\n",
    "    #     entries 0 and 1, its implementation via `perm` uses indexing into\n",
    "    #     torch tensors, instead.\n",
    "    # (2) It is cumbersome to permute the edge_attr, so we set it to constant\n",
    "    #     dummy values. For any experiments beyond unit testing, all GNN models\n",
    "    #     use the original edge_attr.\n",
    "\n",
    "    return data\n",
    "\n",
    "def permutation_invariance_unit_test(module, dataloader):\n",
    "    \"\"\"Unit test for checking whether a module (GNN model) is\n",
    "    permutation invariant.\n",
    "    \"\"\"\n",
    "    it = iter(dataloader)\n",
    "    data = next(it)\n",
    "\n",
    "    # Set edge_attr to dummy values (for simplicity)\n",
    "    data.edge_attr = torch.zeros(data.edge_attr.shape)\n",
    "\n",
    "    # Forward pass on original example\n",
    "    out_1 = module(data)\n",
    "\n",
    "    # Create random permutation\n",
    "    perm = torch.randperm(data.x.shape[0])\n",
    "    data = permute_graph(data, perm)\n",
    "\n",
    "    # Forward pass on permuted example\n",
    "    out_2 = module(data)\n",
    "\n",
    "    # Check whether output varies after applying transformations\n",
    "    return torch.allclose(out_1, out_2, atol=1e-04)\n",
    "\n",
    "\n",
    "def permutation_equivariance_unit_test(module, dataloader):\n",
    "    \"\"\"Unit test for checking whether a module (GNN layer) is\n",
    "    permutation equivariant.\n",
    "    \"\"\"\n",
    "    it = iter(dataloader)\n",
    "    data = next(it)\n",
    "\n",
    "    # Set edge_attr to dummy values (for simplicity)\n",
    "    data.edge_attr = torch.zeros(data.edge_attr.shape)\n",
    "\n",
    "    # Forward pass on original example\n",
    "    out_1 = module(data.x, data.edge_index, data.edge_attr)\n",
    "\n",
    "    # Create random permutation\n",
    "    perm = torch.randperm(data.x.shape[0])\n",
    "    data = permute_graph(data, perm)\n",
    "\n",
    "    # Forward pass on permuted example\n",
    "    out_2 = module(data.x, data.edge_index, data.edge_attr)\n",
    "\n",
    "    # Check whether output varies after applying transformations\n",
    "    return torch.allclose(out_1[perm], out_2, atol=1e-04)"
   ]
  },
  {
   "cell_type": "code",
   "execution_count": 14,
   "metadata": {
    "id": "sNAxOxMQkDwf"
   },
   "outputs": [
    {
     "name": "stdout",
     "output_type": "stream",
     "text": [
      "Is MPNNModel permutation invariant? --> True!\n",
      "Is MPNNLayer permutation equivariant? --> True!\n"
     ]
    }
   ],
   "source": [
    "# Instantiate temporary model, layer, and dataloader for unit testing\n",
    "layer = MPNNLayer(emb_dim=49, edge_dim=1)\n",
    "model = MPNNModel(num_layers=4, emb_dim=64, in_dim=49, edge_dim=1, out_dim=1)\n",
    "dataloader = DataLoader(train_dataset, batch_size=1, shuffle=True)\n",
    "\n",
    "# Permutation invariance unit test for MPNN model\n",
    "print(f\"Is {type(model).__name__} permutation invariant? --> {permutation_invariance_unit_test(model, dataloader)}!\")\n",
    "\n",
    "# Permutation equivariance unit for MPNN layer\n",
    "print(f\"Is {type(layer).__name__} permutation equivariant? --> {permutation_equivariance_unit_test(layer, dataloader)}!\")"
   ]
  },
  {
   "cell_type": "markdown",
   "metadata": {
    "id": "g-cmASemh0wA"
   },
   "source": [
    "Training and evaluation"
   ]
  },
  {
   "cell_type": "code",
   "execution_count": 15,
   "metadata": {
    "cellView": "form",
    "id": "FrYb8xr5iZQM"
   },
   "outputs": [],
   "source": [
    "#@title [RUN] Helper functions for managing experiments, training, and evaluating models.\n",
    "\n",
    "def train(model, train_loader, optimizer, device):\n",
    "    model.train()\n",
    "    loss_all = 0\n",
    "\n",
    "    for data in train_loader:\n",
    "        data = data.to(device)\n",
    "        optimizer.zero_grad()\n",
    "        y_pred = model(data)\n",
    "        loss = F.mse_loss(y_pred, data.y)\n",
    "        loss.backward()\n",
    "        loss_all += loss.item() * data.num_graphs\n",
    "        optimizer.step()\n",
    "    return loss_all / len(train_loader.dataset)\n",
    "\n",
    "    \n",
    "def eval(model, loader, device):\n",
    "    model.eval()\n",
    "    error = 0\n",
    "\n",
    "    for data in loader:\n",
    "        data = data.to(device)\n",
    "        with torch.no_grad():\n",
    "            y_pred = model(data)\n",
    "            error += ((y_pred - data.y)**2).sum().item()\n",
    "    return error / len(loader.dataset)\n",
    "\n",
    "\n",
    "def run_experiment(model, model_name, train_loader, val_loader, test_loader, n_epochs=100):\n",
    "\n",
    "    print(f\"Running experiment for {model_name}, training on {len(train_loader.dataset)} samples for {n_epochs} epochs.\")\n",
    "\n",
    "    device = torch.device('cuda' if torch.cuda.is_available() else 'cpu')\n",
    "\n",
    "    print(\"\\nModel architecture:\")\n",
    "    print(model)\n",
    "    total_param = 0\n",
    "    for param in model.parameters():\n",
    "        total_param += np.prod(list(param.data.size()))\n",
    "    print(f'Total parameters: {total_param}')\n",
    "    model = model.to(device)\n",
    "\n",
    "    # Adam optimizer with LR 1e-3\n",
    "    optimizer = torch.optim.Adam(model.parameters(), lr=0.001)\n",
    "\n",
    "    # LR scheduler which decays LR when validation metric doesn't improve\n",
    "    scheduler = torch.optim.lr_scheduler.ReduceLROnPlateau(\n",
    "        optimizer, mode='min', factor=0.9, patience=5, min_lr=0.00001)\n",
    "\n",
    "    print(\"\\nStart training:\")\n",
    "    best_val_error = None\n",
    "    perf_per_epoch = [] # Track Test/Val MAE vs. epoch (for plotting)\n",
    "    t = time.time()\n",
    "    for epoch in range(1, n_epochs+1):\n",
    "        # Call LR scheduler at start of each epoch\n",
    "        lr = scheduler.optimizer.param_groups[0]['lr']\n",
    "\n",
    "        # Train model for one epoch, return avg. training loss\n",
    "        loss = train(model, train_loader, optimizer, device)\n",
    "\n",
    "        # Evaluate model on validation set\n",
    "        val_error = eval(model, val_loader, device)\n",
    "\n",
    "        if best_val_error is None or val_error <= best_val_error:\n",
    "            # Evaluate model on test set if validation metric improves\n",
    "            test_error = eval(model, test_loader, device)\n",
    "            best_val_error = val_error\n",
    "\n",
    "        if epoch % 10 == 0:\n",
    "            # Print and track stats every 10 epochs\n",
    "            print(f'Epoch: {epoch:03d}, LR: {lr:5f}, Loss: {loss:.7f}, '\n",
    "                  f'Val MSE: {val_error:.7f}, Test MSE: {test_error:.7f}')\n",
    "\n",
    "        scheduler.step(val_error)\n",
    "        perf_per_epoch.append((loss, test_error, val_error, epoch, model_name, lr))\n",
    "\n",
    "    t = time.time() - t\n",
    "    train_time = t/60\n",
    "    print(f\"\\nDone! Training took {train_time:.2f} mins. Best validation MSE: {best_val_error:.7f}, corresponding test MSE: {test_error:.7f}.\")\n",
    "\n",
    "    return best_val_error, test_error, train_time, perf_per_epoch"
   ]
  },
  {
   "cell_type": "code",
   "execution_count": 16,
   "metadata": {
    "id": "JsGM5LWmiZQM",
    "scrolled": false
   },
   "outputs": [
    {
     "name": "stdout",
     "output_type": "stream",
     "text": [
      "Running experiment for MPNNModel, training on 3703 samples for 100 epochs.\n",
      "\n",
      "Model architecture:\n",
      "MPNNModel(\n",
      "  (lin_in): Linear(in_features=49, out_features=64, bias=True)\n",
      "  (convs): ModuleList(\n",
      "    (0-3): 4 x MPNNLayer(emb_dim=64, aggr=add)\n",
      "  )\n",
      "  (lin_pred): Linear(in_features=64, out_features=1, bias=True)\n",
      ")\n",
      "Total parameters: 104897\n",
      "\n",
      "Start training:\n",
      "Epoch: 010, LR: 0.001000, Loss: 6.0107620, Val MSE: 7.5898048, Test MSE: 3.5080455\n",
      "Epoch: 020, LR: 0.001000, Loss: 4.8404506, Val MSE: 6.6162708, Test MSE: 3.3375859\n",
      "Epoch: 030, LR: 0.000900, Loss: 4.1244107, Val MSE: 6.8508112, Test MSE: 3.3288627\n",
      "Epoch: 040, LR: 0.000810, Loss: 3.6616298, Val MSE: 6.4532255, Test MSE: 3.9923106\n",
      "Epoch: 050, LR: 0.000729, Loss: 3.4700062, Val MSE: 6.3807651, Test MSE: 4.3244723\n",
      "Epoch: 060, LR: 0.000590, Loss: 2.8251544, Val MSE: 5.7122655, Test MSE: 4.6630762\n",
      "Epoch: 070, LR: 0.000590, Loss: 2.2713621, Val MSE: 6.4829419, Test MSE: 4.3117674\n",
      "Epoch: 080, LR: 0.000531, Loss: 2.0673415, Val MSE: 5.4902140, Test MSE: 4.9309379\n",
      "Epoch: 090, LR: 0.000478, Loss: 1.7108594, Val MSE: 5.1997509, Test MSE: 5.4012856\n",
      "Epoch: 100, LR: 0.000430, Loss: 1.8906306, Val MSE: 7.7857964, Test MSE: 4.7087318\n",
      "\n",
      "Done! Training took 2.80 mins. Best validation MSE: 5.1379404, corresponding test MSE: 4.7087318.\n"
     ]
    }
   ],
   "source": [
    "model = MPNNModel(num_layers=4, emb_dim=64, in_dim=49, edge_dim=1, out_dim=1)\n",
    "model_name = type(model).__name__\n",
    "\n",
    "\n",
    "best_val_error, test_error, train_time, perf_per_epoch = run_experiment(\n",
    "    model,\n",
    "    model_name,\n",
    "    train_loader,\n",
    "    val_loader,\n",
    "    test_loader,\n",
    "    n_epochs=100\n",
    ")"
   ]
  },
  {
   "cell_type": "code",
   "execution_count": 23,
   "metadata": {},
   "outputs": [],
   "source": [
    "performance_df = pd.DataFrame(perf_per_epoch, columns=[\"Train MSE\", \"Test MSE\", \"Val MSE\", \"Epoch\", \"Model\", \"Learning Rate\"])"
   ]
  },
  {
   "cell_type": "code",
   "execution_count": 24,
   "metadata": {},
   "outputs": [
    {
     "data": {
      "text/plain": [
       "<matplotlib.legend.Legend at 0x7fb926166890>"
      ]
     },
     "execution_count": 24,
     "metadata": {},
     "output_type": "execute_result"
    },
    {
     "data": {
      "image/png": "[encoded data removed]",
      "text/plain": [
       "<Figure size 1000x600 with 1 Axes>"
      ]
     },
     "metadata": {},
     "output_type": "display_data"
    }
   ],
   "source": [
    "plt.figure(figsize=(10, 6))\n",
    "plt.plot(performance_df[\"Epoch\"], performance_df[\"Train MSE\"], label=\"Train MSE\")\n",
    "plt.plot(performance_df[\"Epoch\"], performance_df[\"Val MSE\"], label=\"Val MSE\")\n",
    "plt.plot(performance_df[\"Epoch\"], performance_df[\"Test MSE\"], label=\"Unseen Molecules (Test) MSE\")\n",
    "plt.xlabel(\"Epoch\")\n",
    "plt.ylabel(\"MSE\")\n",
    "plt.title(f\"Performance of {model_name} on QM9 dataset\")\n",
    "plt.legend()\n",
    "#p.set(ylim=(0, 2));"
   ]
  },
  {
   "cell_type": "markdown",
   "metadata": {},
   "source": [
    "Obtain predictions for test set"
   ]
  },
  {
   "cell_type": "code",
   "execution_count": 25,
   "metadata": {},
   "outputs": [],
   "source": [
    "model.eval()\n",
    "\n",
    "y_pred_list = []\n",
    "y_test_list = []\n",
    "y0_list = []\n",
    "\n",
    "\n",
    "for data in test_loader:\n",
    "    data = data.to('cpu')\n",
    "    with torch.no_grad():\n",
    "        y_pred = model(data)\n",
    "        \n",
    "        y_pred_list = y_pred_list + list(y_pred+data.y0)\n",
    "        y_test_list = y_test_list + list(data.y+data.y0)\n",
    "        y0_list = y0_list + list(data.y0)\n",
    "        \n",
    "y_pred_arr = np.array(y_pred_list)\n",
    "y_test_arr = np.array(y_test_list)\n",
    "y0_arr = np.array(y0_list)"
   ]
  },
  {
   "cell_type": "code",
   "execution_count": 29,
   "metadata": {},
   "outputs": [
    {
     "data": {
      "text/plain": [
       "Text(0.5, 1.0, 'Embedding GNN Model')"
      ]
     },
     "execution_count": 29,
     "metadata": {},
     "output_type": "execute_result"
    },
    {
     "data": {
      "image/png": "[encoded data removed]",
      "text/plain": [
       "<Figure size 640x480 with 1 Axes>"
      ]
     },
     "metadata": {},
     "output_type": "display_data"
    }
   ],
   "source": [
    "plt.scatter(y_test_arr, y_pred_arr-y_test_arr)\n",
    "plt.scatter(y0_arr, y0_arr-y_test_arr)\n",
    "plt.xlabel(r'$y_\\mathrm{test}$ (binding energy)')\n",
    "plt.ylabel(r'$y_\\mathrm{pred}-y_\\mathrm{test}$')\n",
    "plt.title(\"Embedding GNN Model\")"
   ]
  },
  {
   "cell_type": "code",
   "execution_count": 27,
   "metadata": {},
   "outputs": [
    {
     "data": {
      "text/plain": [
       "4.8868914"
      ]
     },
     "execution_count": 27,
     "metadata": {},
     "output_type": "execute_result"
    }
   ],
   "source": [
    "np.mean((y_pred_arr-y_test_arr)**2)"
   ]
  },
  {
   "cell_type": "code",
   "execution_count": 28,
   "metadata": {},
   "outputs": [
    {
     "data": {
      "text/plain": [
       "48.115402"
      ]
     },
     "execution_count": 28,
     "metadata": {},
     "output_type": "execute_result"
    }
   ],
   "source": [
    "np.mean((y0_arr - y_test_arr)**2)"
   ]
  },
  {
   "cell_type": "code",
   "execution_count": null,
   "metadata": {},
   "outputs": [],
   "source": []
  }
 ],
 "metadata": {
  "accelerator": "GPU",
  "colab": {
   "collapsed_sections": [
    "_l0tU8gum9eT",
    "TAwoHyWs452X",
    "V03t1f51tW2w",
    "0fZTuGyVNC6n",
    "kY6J_vL3hgCN",
    "wqcJy1HtPgj6",
    "yO7iwRjvDD16",
    "c-az-clhTLLv",
    "04WVO1Mnukdm"
   ],
   "provenance": []
  },
  "kernelspec": {
   "display_name": "shri_gnnpytorch",
   "language": "python",
   "name": "python3"
  },
  "language_info": {
   "codemirror_mode": {
    "name": "ipython",
    "version": 3
   },
   "file_extension": ".py",
   "mimetype": "text/x-python",
   "name": "python",
   "nbconvert_exporter": "python",
   "pygments_lexer": "ipython3",
   "version": "3.11.4"
  }
 },
 "nbformat": 4,
 "nbformat_minor": 1
}
