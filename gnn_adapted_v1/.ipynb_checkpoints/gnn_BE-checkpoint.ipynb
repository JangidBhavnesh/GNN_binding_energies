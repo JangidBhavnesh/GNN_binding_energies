{
 "cells": [
  {
   "cell_type": "markdown",
   "metadata": {},
   "source": [
    "Basic imports"
   ]
  },
  {
   "cell_type": "code",
   "execution_count": 1,
   "metadata": {
    "cellView": "form",
    "id": "HwOueIhIQPBd"
   },
   "outputs": [],
   "source": [
    "#@title [RUN] Install required python libraries\n",
    "import os\n",
    "\n",
    "# Install PyTorch Geometric and other libraries\n",
    "if 'IS_GRADESCOPE_ENV' not in os.environ:\n",
    "    !pip install -q torch-scatter -f https://pytorch-geometric.com/whl/torch-1.10.0+cu111.html\n",
    "    !pip install -q torch-sparse -f https://pytorch-geometric.com/whl/torch-1.10.0+cu111.html\n",
    "    !pip install -q torch-geometric==2.0.3\n",
    "    !pip install -q rdkit-pypi==2021.9.4\n",
    "    !pip install -q py3Dmol==1.8.0"
   ]
  },
  {
   "cell_type": "code",
   "execution_count": 2,
   "metadata": {
    "cellView": "form",
    "id": "mvIHO8B_RjeG"
   },
   "outputs": [
    {
     "name": "stdout",
     "output_type": "stream",
     "text": [
      "PyTorch version 2.2.2\n",
      "PyG version 2.0.3\n"
     ]
    }
   ],
   "source": [
    "#@title [RUN] Import python modules\n",
    "\n",
    "import os\n",
    "import time\n",
    "import random\n",
    "import numpy as np\n",
    "\n",
    "from scipy.stats import ortho_group\n",
    "\n",
    "import torch\n",
    "import torch.nn.functional as F\n",
    "from torch.nn import Linear, ReLU, BatchNorm1d, Module, Sequential\n",
    "\n",
    "import torch_geometric\n",
    "from torch_geometric.data import Data\n",
    "from torch_geometric.data import Batch\n",
    "from torch_geometric.datasets import QM9\n",
    "import torch_geometric.transforms as T\n",
    "from torch_geometric.utils import remove_self_loops, to_dense_adj, dense_to_sparse\n",
    "from torch_geometric.loader import DataLoader\n",
    "from torch_geometric.nn import MessagePassing, global_mean_pool\n",
    "from torch_geometric.datasets import QM9\n",
    "from torch_scatter import scatter\n",
    "\n",
    "import rdkit.Chem as Chem\n",
    "from rdkit.Geometry.rdGeometry import Point3D\n",
    "from rdkit.Chem import QED, Crippen, rdMolDescriptors, rdmolops\n",
    "from rdkit.Chem.Draw import IPythonConsole\n",
    "\n",
    "import py3Dmol\n",
    "from rdkit.Chem import AllChem\n",
    "\n",
    "import matplotlib.pyplot as plt\n",
    "import seaborn as sns\n",
    "import pandas as pd\n",
    "\n",
    "#from google.colab import files\n",
    "from IPython.display import HTML\n",
    "\n",
    "print(\"PyTorch version {}\".format(torch.__version__))\n",
    "print(\"PyG version {}\".format(torch_geometric.__version__))"
   ]
  },
  {
   "cell_type": "code",
   "execution_count": 3,
   "metadata": {
    "cellView": "form",
    "id": "voXIXbkVOeZm"
   },
   "outputs": [],
   "source": [
    "#@title [RUN] Set random seed for deterministic results\n",
    "\n",
    "def seed(seed=0):\n",
    "    random.seed(seed)\n",
    "    np.random.seed(seed)\n",
    "    torch.manual_seed(seed)\n",
    "    torch.cuda.manual_seed(seed)\n",
    "    torch.cuda.manual_seed_all(seed)\n",
    "    torch.backends.cudnn.deterministic = True\n",
    "    torch.backends.cudnn.benchmark = False\n",
    "\n",
    "seed(0)"
   ]
  },
  {
   "cell_type": "markdown",
   "metadata": {},
   "source": [
    "Functions - may not need"
   ]
  },
  {
   "cell_type": "code",
   "execution_count": 4,
   "metadata": {
    "id": "gY7foToFoo8Q"
   },
   "outputs": [],
   "source": [
    "# For storing experimental results over the course of the practical\n",
    "RESULTS = {}\n",
    "DF_RESULTS = pd.DataFrame(columns=[\"Test MAE\", \"Val MAE\", \"Epoch\", \"Model\"])"
   ]
  },
  {
   "cell_type": "markdown",
   "metadata": {},
   "source": [
    "Convert networkx inputs to PyG"
   ]
  },
  {
   "cell_type": "code",
   "execution_count": 5,
   "metadata": {},
   "outputs": [],
   "source": [
    "import json\n",
    "import networkx as nx\n",
    "import copy\n",
    "\n",
    "def load_data_from_file(filename):\n",
    "    \"\"\"\n",
    "    Load a dictionary of graphs from JSON file.\n",
    "    \"\"\"\n",
    "    with open(filename, \"r\") as file_handle:\n",
    "        string_dict = json.load(file_handle)\n",
    "    return _load_data_from_string_dict(string_dict)\n",
    "\n",
    "def load_data_from_string(json_string):\n",
    "    \"\"\"\n",
    "    Load a dictionary of graphs from JSON string.\n",
    "    \"\"\"\n",
    "    string_dict = json.loads(json_string)\n",
    "    return _load_data_from_string_dict(string_dict)\n",
    "\n",
    "def _load_data_from_string_dict(string_dict):\n",
    "    result_dict = {}\n",
    "    for key in string_dict:\n",
    "\n",
    "        data = copy.deepcopy(string_dict[key])\n",
    "\n",
    "        if 'edges' in data:\n",
    "            data[\"links\"] = data.pop(\"edges\")\n",
    "\n",
    "        graph = nx.node_link_graph(data)\n",
    "        result_dict[key] = graph\n",
    "    return result_dict\n",
    "\n",
    "def write_data_to_json_string(graph_dict, **kwargs):\n",
    "    \"\"\"\n",
    "    Write dictionary of graphs to JSON string.\n",
    "    \"\"\"\n",
    "    json_string = json.dumps(graph_dict, default=nx.node_link_data, **kwargs)\n",
    "    return json_string\n",
    "\n",
    "\n",
    "def write_data_to_json_file(graph_dict, filename, **kwargs):\n",
    "    \"\"\"\n",
    "    Write dictionary of graphs to JSON file.\n",
    "    \"\"\"\n",
    "    with open(filename, \"w\") as file_handle:\n",
    "        file_handle.write(write_data_to_json_string(graph_dict, **kwargs))"
   ]
  },
  {
   "cell_type": "code",
   "execution_count": 6,
   "metadata": {},
   "outputs": [],
   "source": [
    "train_data = load_data_from_file(\"/Users/thepoetoftwilight/Documents/ML/gnn/ludwigteam/data/graph_data_duplicates_v2.json\") # dictionary of SMILES and values are graphs"
   ]
  },
  {
   "cell_type": "code",
   "execution_count": 7,
   "metadata": {},
   "outputs": [],
   "source": [
    "atom_dict = {\n",
    " 'H':1,\n",
    " 'He':2,\n",
    " 'Li': 3,\n",
    " 'B': 5,\n",
    " 'C': 6,\n",
    " 'N': 7,\n",
    " 'O': 8,\n",
    " 'F': 9,\n",
    " 'Ne': 10,\n",
    " 'Na': 11,\n",
    " 'Mg': 12,\n",
    " 'Al': 13,\n",
    " 'Si': 14,\n",
    " 'P': 15,\n",
    " 'S': 16,\n",
    " 'Cl': 17,\n",
    " 'Ar': 18,\n",
    " 'K': 19,\n",
    " 'Ca': 20,\n",
    " 'Ti': 22,\n",
    " 'V': 23,\n",
    " 'Cr': 24,\n",
    " 'Mn': 25,\n",
    " 'Fe': 26,\n",
    " 'Co': 27,\n",
    " 'Ni': 28,\n",
    " 'Cu': 29,\n",
    " 'Zn': 30,\n",
    " 'Ga': 31,\n",
    " 'Ge': 32,\n",
    " 'As': 33,\n",
    " 'Se': 34,\n",
    " 'Br': 35,\n",
    " 'Kr': 36,\n",
    " 'Rb': 37,\n",
    " 'Sr': 38,\n",
    " 'Mo': 42,\n",
    " 'Rh': 45,\n",
    " 'Ag': 47,\n",
    " 'Cd': 48,\n",
    " 'In': 49,\n",
    " 'Sn': 50,\n",
    " 'Sb': 51,\n",
    " 'Te': 52,\n",
    " 'I': 53,\n",
    " 'Xe': 54,\n",
    " 'Cs': 55,\n",
    " 'Ba': 56,\n",
    " 'W': 74,\n",
    " 'Re': 75,\n",
    " 'Hg': 80,\n",
    " 'Tl': 81,\n",
    " 'Pb': 82,\n",
    " 'Bi': 83,\n",
    " 'U': 92\n",
    "}\n",
    "\n",
    "orb_dict = {\n",
    " '1s': [1, 0, 0],\n",
    " '2s': [2, 0, 0],\n",
    " '2p': [2, 1, 0],\n",
    " '2p3/2': [2, 1, 1.5],\n",
    "    \n",
    " '3s': [3, 0, 0],\n",
    " '3p': [3, 1, 0],\n",
    " '3p3/2': [3, 1, 1.5],\n",
    " '3d': [3, 2, 0],\n",
    " '3d5/2': [3, 2, 2.5],\n",
    "    \n",
    " '4s': [4, 0, 0],\n",
    " '4p3/2': [4, 1, 1.5],\n",
    " '4d': [4, 2, 0],\n",
    " '4d5/2': [4, 2, 2.5],\n",
    " '4f7/2': [4, 3, 3.5],\n",
    "    \n",
    " '5s': [5, 0, 0],\n",
    " '5p3/2': [5, 1, 1.5],\n",
    " '5d5/2': [5, 2, 2.5],\n",
    "}\n",
    "\n",
    "orb_list = list(orb_dict.keys())\n",
    "\n",
    "bond_dict = {'SINGLE':1, 'DOUBLE':2, 'TRIPLE':3, 'NONE':0}"
   ]
  },
  {
   "cell_type": "code",
   "execution_count": 8,
   "metadata": {},
   "outputs": [],
   "source": [
    "import pandas as pd\n",
    "\n",
    "# Lookup table\n",
    "iso_be_df = pd.read_csv('/Users/thepoetoftwilight/Documents/ML/gnn/ludwigteam/gnn_adapted_v1/Isolated_Energy_final.csv')\n",
    "\n",
    "# Embeddings\n",
    "embed_df = pd.read_csv('/Users/thepoetoftwilight/Documents/ML/gnn/ludwigteam/gnn_adapted_v1/final_embedding_dim30_one-hot-orbital.csv')"
   ]
  },
  {
   "cell_type": "code",
   "execution_count": 22,
   "metadata": {},
   "outputs": [],
   "source": [
    "# Embedding IDs\n",
    "embedded_atoms = list(embed_df['Atoms'])\n",
    "\n",
    "# Embedding vectors\n",
    "embed_dict = {}\n",
    "\n",
    "for i in range(len(embed_df)):\n",
    "    # Ignore one-hot encoding for orbitals\n",
    "    vec = np.fromstring(embed_df.loc[i,'Embeddings'].replace('\\n','').strip('[]'), sep=' ')[:30] \n",
    "    if embedded_atoms[i] not in embed_dict:\n",
    "        embed_dict[embedded_atoms[i]] = vec\n",
    "        \n",
    "# Embedding doesn't have entry for H\n",
    "embed_dict['H'] = np.zeros(30)"
   ]
  },
  {
   "cell_type": "code",
   "execution_count": 23,
   "metadata": {
    "scrolled": true
   },
   "outputs": [],
   "source": [
    "dataset = []\n",
    "\n",
    "for i, mol in enumerate(train_data):\n",
    "    graph = train_data[mol]\n",
    "    \n",
    "    \n",
    "    # Create node features (# atoms by target, atomic embedding, charge, one-hot encoding for orbital)\n",
    "    targets = list(nx.get_node_attributes(graph, \"target\").values())\n",
    "    x = np.zeros((len(targets), 49))\n",
    "\n",
    "    # Indicate target atom\n",
    "    atom_index = targets.index(True)\n",
    "    x[atom_index, 0] = 1  \n",
    "    \n",
    "    # Indicate formal charges\n",
    "    charge = list(nx.get_node_attributes(graph, \"formal_charge\").values())\n",
    "    x[:, 1] = charge  \n",
    "    \n",
    "    # Indicate atom embeddings\n",
    "    atom = list(nx.get_node_attributes(graph, \"atom_type\").values())\n",
    "    embed_mat = np.array([embed_dict[a] for a in atom])\n",
    "    x[:,2:32] = embed_mat\n",
    "    \n",
    "    # One hot encode orbital for target atom\n",
    "    orb = list(nx.get_node_attributes(graph, \"orbitals\").values())\n",
    "    x[atom_index, 32 + orb_list.index(orb[atom_index][0])] = 1 \n",
    "    \n",
    "    # Make PyG friendly\n",
    "    x = torch.tensor(x, dtype=torch.float)\n",
    "    \n",
    "    # Target value\n",
    "    energy = list(nx.get_node_attributes(graph, \"binding_energies\").values())\n",
    "    y = torch.tensor([energy[atom_index][0]], dtype=torch.float)\n",
    "    # Isolated binding energy from lookup table (for delta learning)\n",
    "    be = float(iso_be_df.loc[atom_dict[atom[atom_index]]-1,orb[atom_index][0]]) \n",
    "    \n",
    "    # Encode edge indices\n",
    "    bond_types = list(nx.get_edge_attributes(graph, \"bond_type\").values())\n",
    "    \n",
    "    # Fix for edge_attr construction\n",
    "    edge_attr = torch.tensor([bond_dict[b] for b in bond_types], dtype=torch.float)\n",
    "    edge_attr = edge_attr.unsqueeze(1)\n",
    "    \n",
    "    # Fix for edge_index construction\n",
    "    edge_index = torch.tensor(list(graph.edges), dtype=torch.long).t().contiguous()\n",
    "\n",
    "    # Then proceed with creating the Data object\n",
    "    data = Data(x=x, edge_index=edge_index, edge_attr=edge_attr, y=y-be, name=mol, y0=be)\n",
    "    dataset.append(data)"
   ]
  },
  {
   "cell_type": "markdown",
   "metadata": {
    "id": "p98OyJsOZUKn"
   },
   "source": [
    "Data prep and splitting"
   ]
  },
  {
   "cell_type": "code",
   "execution_count": 24,
   "metadata": {
    "id": "RFaBnrDoS2K-"
   },
   "outputs": [
    {
     "name": "stdout",
     "output_type": "stream",
     "text": [
      "Total number of samples: 5192.\n",
      "Created dataset splits with 3000 training, 1000 validation, 1192 test samples.\n"
     ]
    }
   ],
   "source": [
    "print(f\"Total number of samples: {len(dataset)}.\")\n",
    "\n",
    "# Split datasets (in case of using the full dataset)\n",
    "# test_dataset = dataset[:10000]\n",
    "# val_dataset = dataset[10000:20000]\n",
    "# train_dataset = dataset[20000:]\n",
    "\n",
    "# Split datasets (our 3K subset)\n",
    "train_dataset = dataset[:3000]\n",
    "val_dataset = dataset[3000:4000]\n",
    "test_dataset = dataset[4000:]\n",
    "print(f\"Created dataset splits with {len(train_dataset)} training, {len(val_dataset)} validation, {len(test_dataset)} test samples.\")\n",
    "\n",
    "# Create dataloaders with batch size = 32\n",
    "train_loader = DataLoader(train_dataset, batch_size=32, shuffle=True)\n",
    "val_loader = DataLoader(val_dataset, batch_size=32, shuffle=False)\n",
    "test_loader = DataLoader(test_dataset, batch_size=32, shuffle=False)"
   ]
  },
  {
   "cell_type": "markdown",
   "metadata": {
    "id": "byQrx71Udlv5"
   },
   "source": [
    "### Blueprint of data objects"
   ]
  },
  {
   "cell_type": "markdown",
   "metadata": {
    "id": "tmnIaRv2MP3j"
   },
   "source": [
    "**Atom features (`data.x`)** - $\\mathbb{R}^{|V| \\times 11}$\n",
    "- 1st-5th features: Atom type (one-hot: H, C, N, O, F)\n",
    "- 6th feature (also `data.z`): Atomic number (number of protons).\n",
    "- 7th feature: Aromatic (binary)\n",
    "- 8th-10th features: Electron orbital hybridization (one-hot: sp, sp2, sp3)\n",
    "- 11th feature: Number of hydrogens\n",
    "\n",
    "**Edge Index (`data.edge_index`)** - $\\mathbb{R}^{2×|E|}$\n",
    "- A tensor of dimensions 2 x `num_edges` that describe the edge connectivity of the graph\n",
    "\n",
    "**Edge features (`data.edge_attr`)** - $\\mathbb{R}^{|E|\\times 4}$\n",
    "- 1st-4th features: bond type (one-hot: single, double, triple, aromatic)\n",
    "\n",
    "**Target (`data.y`)** - $\\mathbb{R}^{1}$\n",
    "- A scalar value corresponding to the target electron's binding energy"
   ]
  },
  {
   "cell_type": "code",
   "execution_count": 25,
   "metadata": {
    "id": "wO5GskvZnZ1j"
   },
   "outputs": [],
   "source": [
    "class MPNNLayer(MessagePassing):\n",
    "    def __init__(self, emb_dim=64, edge_dim=1, aggr='add'):\n",
    "        \"\"\"Message Passing Neural Network Layer\n",
    "\n",
    "        Args:\n",
    "            emb_dim: (int) - hidden dimension `d`\n",
    "            edge_dim: (int) - edge feature dimension `d_e`\n",
    "            aggr: (str) - aggregation function `\\oplus` (sum/mean/max)\n",
    "        \"\"\"\n",
    "        # Set the aggregation function\n",
    "        super().__init__(aggr=aggr)\n",
    "\n",
    "        self.emb_dim = emb_dim\n",
    "        self.edge_dim = edge_dim\n",
    "\n",
    "        # MLP `\\psi` for computing messages `m_ij`\n",
    "        # Implemented as a stack of Linear->BN->ReLU->Linear->BN->ReLU\n",
    "        # dims: (2d + d_e) -> d\n",
    "        self.mlp_msg = Sequential(\n",
    "            Linear(2*emb_dim + edge_dim, emb_dim), BatchNorm1d(emb_dim), ReLU(),\n",
    "            Linear(emb_dim, emb_dim), BatchNorm1d(emb_dim), ReLU()\n",
    "          )\n",
    "\n",
    "        # MLP `\\phi` for computing updated node features `h_i^{l+1}`\n",
    "        # Implemented as a stack of Linear->BN->ReLU->Linear->BN->ReLU\n",
    "        # dims: 2d -> d\n",
    "        self.mlp_upd = Sequential(\n",
    "            Linear(2*emb_dim, emb_dim), BatchNorm1d(emb_dim), ReLU(),\n",
    "            Linear(emb_dim, emb_dim), BatchNorm1d(emb_dim), ReLU()\n",
    "          )\n",
    "\n",
    "    def forward(self, h, edge_index, edge_attr):\n",
    "        \"\"\"\n",
    "        The forward pass updates node features `h` via one round of message passing.\n",
    "\n",
    "        As our MPNNLayer class inherits from the PyG MessagePassing parent class,\n",
    "        we simply need to call the `propagate()` function which starts the\n",
    "        message passing procedure: `message()` -> `aggregate()` -> `update()`.\n",
    "\n",
    "        The MessagePassing class handles most of the logic for the implementation.\n",
    "        To build custom GNNs, we only need to define our own `message()`,\n",
    "        `aggregate()`, and `update()` functions (defined subsequently).\n",
    "\n",
    "        Args:\n",
    "            h: (n, d) - initial node features\n",
    "            edge_index: (e, 2) - pairs of edges (i, j)\n",
    "            edge_attr: (e, d_e) - edge features\n",
    "\n",
    "        Returns:\n",
    "            out: (n, d) - updated node features\n",
    "        \"\"\"\n",
    "        out = self.propagate(edge_index, h=h, edge_attr=edge_attr)\n",
    "        return out\n",
    "\n",
    "    def message(self, h_i, h_j, edge_attr):\n",
    "        \"\"\"Step (1) Message\n",
    "\n",
    "        The `message()` function constructs messages from source nodes j\n",
    "        to destination nodes i for each edge (i, j) in `edge_index`.\n",
    "\n",
    "        The arguments can be a bit tricky to understand: `message()` can take\n",
    "        any arguments that were initially passed to `propagate`. Additionally,\n",
    "        we can differentiate destination nodes and source nodes by appending\n",
    "        `_i` or `_j` to the variable name, e.g. for the node features `h`, we\n",
    "        can use `h_i` and `h_j`.\n",
    "\n",
    "        This part is critical to understand as the `message()` function\n",
    "        constructs messages for each edge in the graph. The indexing of the\n",
    "        original node features `h` (or other node variables) is handled under\n",
    "        the hood by PyG.\n",
    "\n",
    "        Args:\n",
    "            h_i: (e, d) - destination node features\n",
    "            h_j: (e, d) - source node features\n",
    "            edge_attr: (e, d_e) - edge features\n",
    "\n",
    "        Returns:\n",
    "            msg: (e, d) - messages `m_ij` passed through MLP `\\psi`\n",
    "        \"\"\"\n",
    "        # SK - note how the dimensions of h_i and h_j were recast compared to forward()\n",
    "        msg = torch.cat([h_i, h_j, edge_attr], dim=-1)\n",
    "        return self.mlp_msg(msg)\n",
    "\n",
    "    def aggregate(self, inputs, index, ptr=None, dim_size=None):\n",
    "\n",
    "        \"\"\"The `aggregate` function aggregates the messages from neighboring nodes,\n",
    "        according to the chosen aggregation function ('sum' by default).\n",
    "\n",
    "        Args:\n",
    "            inputs: (e, d) - messages `m_ij` from destination to source nodes\n",
    "            index: (e, 1) - list of source nodes for each edge/message in `input`\n",
    "\n",
    "        Returns:\n",
    "            aggr_out: (n, d) - aggregated messages `m_i`\n",
    "        \"\"\"\n",
    "        aggr_out = scatter(inputs, index, dim=self.node_dim, dim_size=dim_size, reduce=self.aggr)\n",
    "\n",
    "        return aggr_out\n",
    "\n",
    "    def update(self, aggr_out, h):\n",
    "        \"\"\"\n",
    "        Step (3) Update\n",
    "\n",
    "        The `update()` function computes the final node features by combining the\n",
    "        aggregated messages with the initial node features.\n",
    "\n",
    "        `update()` takes the first argument `aggr_out`, the result of `aggregate()`,\n",
    "        as well as any optional arguments that were initially passed to\n",
    "        `propagate()`. E.g. in this case, we additionally pass `h`.\n",
    "\n",
    "        Args:\n",
    "            aggr_out: (n, d) - aggregated messages `m_i`\n",
    "            h: (n, d) - initial node features\n",
    "\n",
    "        Returns:\n",
    "            upd_out: (n, d) - updated node features passed through MLP `\\phi`\n",
    "        \"\"\"\n",
    "\n",
    "        upd_out = torch.cat([h, aggr_out], dim=-1)\n",
    "        return self.mlp_upd(upd_out)\n",
    "\n",
    "    def __repr__(self) -> str:\n",
    "        return (f'{self.__class__.__name__}(emb_dim={self.emb_dim}, aggr={self.aggr})')"
   ]
  },
  {
   "cell_type": "code",
   "execution_count": 26,
   "metadata": {
    "id": "Q0vqS1NAU_ZN"
   },
   "outputs": [],
   "source": [
    "class MPNNModel(Module):\n",
    "    def __init__(self, num_layers=4, emb_dim=64, in_dim=49, edge_dim=1, out_dim=1):\n",
    "        \"\"\"Message Passing Neural Network model for graph property prediction\n",
    "\n",
    "        Args:\n",
    "            num_layers: (int) - number of message passing layers `L`\n",
    "            emb_dim: (int) - hidden dimension `d`\n",
    "            in_dim: (int) - initial node feature dimension `d_n`\n",
    "            edge_dim: (int) - edge feature dimension `d_e`\n",
    "            out_dim: (int) - output dimension (fixed to 1)\n",
    "        \"\"\"\n",
    "        super().__init__()\n",
    "\n",
    "        # Linear projection for initial node features\n",
    "        # dim: d_n -> d\n",
    "        self.lin_in = Linear(in_dim, emb_dim)\n",
    "\n",
    "        # Stack of MPNN layers\n",
    "        self.convs = torch.nn.ModuleList()\n",
    "        for layer in range(num_layers):\n",
    "            self.convs.append(MPNNLayer(emb_dim, edge_dim, aggr='add'))\n",
    "\n",
    "        # Global pooling/readout function `R` (mean pooling)\n",
    "        # PyG handles the underlying logic via `global_mean_pool()`\n",
    "        self.pool = global_mean_pool\n",
    "\n",
    "        # Linear prediction head\n",
    "        # dim: d -> out_dim\n",
    "        self.lin_pred = Linear(emb_dim, out_dim)\n",
    "\n",
    "    def forward(self, data):\n",
    "        \"\"\"\n",
    "        Args:\n",
    "            data: (PyG.Data) - batch of PyG graphs\n",
    "\n",
    "        Returns:\n",
    "            out: (batch_size, out_dim) - prediction for each graph\n",
    "        \"\"\"\n",
    "        h = self.lin_in(data.x) # (n, d_n) -> (n, d)\n",
    "\n",
    "        for conv in self.convs:\n",
    "            h = h + conv(h, data.edge_index, data.edge_attr) # (n, d) -> (n, d)\n",
    "            # Note that we add a residual connection after each MPNN layer\n",
    "\n",
    "        h_graph = self.pool(h, data.batch) # (n, d) -> (batch_size, d)\n",
    "\n",
    "        out = self.lin_pred(h_graph) # (batch_size, d) -> (batch_size, 1)\n",
    "\n",
    "        return out.view(-1)"
   ]
  },
  {
   "cell_type": "markdown",
   "metadata": {
    "id": "W4xlvC8bZEv_"
   },
   "source": [
    "Unit tests"
   ]
  },
  {
   "cell_type": "code",
   "execution_count": 27,
   "metadata": {
    "id": "vXuzZIqpZVqS"
   },
   "outputs": [],
   "source": [
    "def permute_graph(data, perm):\n",
    "    \"\"\"Helper function for permuting PyG Data object attributes consistently.\n",
    "    \"\"\"\n",
    "    # Permute the node attribute ordering\n",
    "    data.x = data.x[perm]\n",
    "    data.batch = data.batch[perm]\n",
    "\n",
    "    # Permute the edge index\n",
    "    adj = to_dense_adj(data.edge_index)\n",
    "    adj = adj[:, perm, :]\n",
    "    adj = adj[:, :, perm]\n",
    "    data.edge_index = dense_to_sparse(adj)[0]\n",
    "\n",
    "    # Note:\n",
    "    # (1) While we originally defined the permutation matrix P as only having\n",
    "    #     entries 0 and 1, its implementation via `perm` uses indexing into\n",
    "    #     torch tensors, instead.\n",
    "    # (2) It is cumbersome to permute the edge_attr, so we set it to constant\n",
    "    #     dummy values. For any experiments beyond unit testing, all GNN models\n",
    "    #     use the original edge_attr.\n",
    "\n",
    "    return data\n",
    "\n",
    "def permutation_invariance_unit_test(module, dataloader):\n",
    "    \"\"\"Unit test for checking whether a module (GNN model) is\n",
    "    permutation invariant.\n",
    "    \"\"\"\n",
    "    it = iter(dataloader)\n",
    "    data = next(it)\n",
    "\n",
    "    # Set edge_attr to dummy values (for simplicity)\n",
    "    data.edge_attr = torch.zeros(data.edge_attr.shape)\n",
    "\n",
    "    # Forward pass on original example\n",
    "    out_1 = module(data)\n",
    "\n",
    "    # Create random permutation\n",
    "    perm = torch.randperm(data.x.shape[0])\n",
    "    data = permute_graph(data, perm)\n",
    "\n",
    "    # Forward pass on permuted example\n",
    "    out_2 = module(data)\n",
    "\n",
    "    # Check whether output varies after applying transformations\n",
    "    return torch.allclose(out_1, out_2, atol=1e-04)\n",
    "\n",
    "\n",
    "def permutation_equivariance_unit_test(module, dataloader):\n",
    "    \"\"\"Unit test for checking whether a module (GNN layer) is\n",
    "    permutation equivariant.\n",
    "    \"\"\"\n",
    "    it = iter(dataloader)\n",
    "    data = next(it)\n",
    "\n",
    "    # Set edge_attr to dummy values (for simplicity)\n",
    "    data.edge_attr = torch.zeros(data.edge_attr.shape)\n",
    "\n",
    "    # Forward pass on original example\n",
    "    out_1 = module(data.x, data.edge_index, data.edge_attr)\n",
    "\n",
    "    # Create random permutation\n",
    "    perm = torch.randperm(data.x.shape[0])\n",
    "    data = permute_graph(data, perm)\n",
    "\n",
    "    # Forward pass on permuted example\n",
    "    out_2 = module(data.x, data.edge_index, data.edge_attr)\n",
    "\n",
    "    # Check whether output varies after applying transformations\n",
    "    return torch.allclose(out_1[perm], out_2, atol=1e-04)"
   ]
  },
  {
   "cell_type": "code",
   "execution_count": 28,
   "metadata": {
    "id": "sNAxOxMQkDwf"
   },
   "outputs": [
    {
     "name": "stdout",
     "output_type": "stream",
     "text": [
      "Is MPNNModel permutation invariant? --> True!\n",
      "Is MPNNLayer permutation equivariant? --> True!\n"
     ]
    }
   ],
   "source": [
    "# Instantiate temporary model, layer, and dataloader for unit testing\n",
    "layer = MPNNLayer(emb_dim=49, edge_dim=1)\n",
    "model = MPNNModel(num_layers=4, emb_dim=64, in_dim=49, edge_dim=1, out_dim=1)\n",
    "dataloader = DataLoader(train_dataset, batch_size=1, shuffle=True)\n",
    "\n",
    "# Permutation invariance unit test for MPNN model\n",
    "print(f\"Is {type(model).__name__} permutation invariant? --> {permutation_invariance_unit_test(model, dataloader)}!\")\n",
    "\n",
    "# Permutation equivariance unit for MPNN layer\n",
    "print(f\"Is {type(layer).__name__} permutation equivariant? --> {permutation_equivariance_unit_test(layer, dataloader)}!\")"
   ]
  },
  {
   "cell_type": "markdown",
   "metadata": {
    "id": "g-cmASemh0wA"
   },
   "source": [
    "Training and evaluation"
   ]
  },
  {
   "cell_type": "code",
   "execution_count": 29,
   "metadata": {
    "cellView": "form",
    "id": "FrYb8xr5iZQM"
   },
   "outputs": [],
   "source": [
    "#@title [RUN] Helper functions for managing experiments, training, and evaluating models.\n",
    "\n",
    "def train(model, train_loader, optimizer, device):\n",
    "    model.train()\n",
    "    loss_all = 0\n",
    "\n",
    "    for data in train_loader:\n",
    "        data = data.to(device)\n",
    "        optimizer.zero_grad()\n",
    "        y_pred = model(data)\n",
    "        loss = F.mse_loss(y_pred, data.y)\n",
    "        loss.backward()\n",
    "        loss_all += loss.item() * data.num_graphs\n",
    "        optimizer.step()\n",
    "    return loss_all / len(train_loader.dataset)\n",
    "\n",
    "    \n",
    "def eval(model, loader, device):\n",
    "    model.eval()\n",
    "    error = 0\n",
    "\n",
    "    for data in loader:\n",
    "        data = data.to(device)\n",
    "        with torch.no_grad():\n",
    "            y_pred = model(data)\n",
    "            error += ((y_pred - data.y)**2).sum().item()\n",
    "    return error / len(loader.dataset)\n",
    "\n",
    "\n",
    "def run_experiment(model, model_name, train_loader, val_loader, test_loader, n_epochs=100):\n",
    "\n",
    "    print(f\"Running experiment for {model_name}, training on {len(train_loader.dataset)} samples for {n_epochs} epochs.\")\n",
    "\n",
    "    device = torch.device('cuda' if torch.cuda.is_available() else 'cpu')\n",
    "\n",
    "    print(\"\\nModel architecture:\")\n",
    "    print(model)\n",
    "    total_param = 0\n",
    "    for param in model.parameters():\n",
    "        total_param += np.prod(list(param.data.size()))\n",
    "    print(f'Total parameters: {total_param}')\n",
    "    model = model.to(device)\n",
    "\n",
    "    # Adam optimizer with LR 1e-3\n",
    "    optimizer = torch.optim.Adam(model.parameters(), lr=0.001)\n",
    "\n",
    "    # LR scheduler which decays LR when validation metric doesn't improve\n",
    "    scheduler = torch.optim.lr_scheduler.ReduceLROnPlateau(\n",
    "        optimizer, mode='min', factor=0.9, patience=5, min_lr=0.00001)\n",
    "\n",
    "    print(\"\\nStart training:\")\n",
    "    best_val_error = None\n",
    "    perf_per_epoch = [] # Track Test/Val MAE vs. epoch (for plotting)\n",
    "    t = time.time()\n",
    "    for epoch in range(1, n_epochs+1):\n",
    "        # Call LR scheduler at start of each epoch\n",
    "        lr = scheduler.optimizer.param_groups[0]['lr']\n",
    "\n",
    "        # Train model for one epoch, return avg. training loss\n",
    "        loss = train(model, train_loader, optimizer, device)\n",
    "\n",
    "        # Evaluate model on validation set\n",
    "        val_error = eval(model, val_loader, device)\n",
    "\n",
    "        if best_val_error is None or val_error <= best_val_error:\n",
    "            # Evaluate model on test set if validation metric improves\n",
    "            test_error = eval(model, test_loader, device)\n",
    "            best_val_error = val_error\n",
    "\n",
    "        if epoch % 10 == 0:\n",
    "            # Print and track stats every 10 epochs\n",
    "            print(f'Epoch: {epoch:03d}, LR: {lr:5f}, Loss: {loss:.7f}, '\n",
    "                  f'Val MSE: {val_error:.7f}, Test MSE: {test_error:.7f}')\n",
    "\n",
    "        scheduler.step(val_error)\n",
    "        perf_per_epoch.append((test_error, val_error, epoch, model_name))\n",
    "\n",
    "    t = time.time() - t\n",
    "    train_time = t/60\n",
    "    print(f\"\\nDone! Training took {train_time:.2f} mins. Best validation MSE: {best_val_error:.7f}, corresponding test MSE: {test_error:.7f}.\")\n",
    "\n",
    "    return best_val_error, test_error, train_time, perf_per_epoch"
   ]
  },
  {
   "cell_type": "code",
   "execution_count": 30,
   "metadata": {
    "id": "JsGM5LWmiZQM",
    "scrolled": false
   },
   "outputs": [
    {
     "name": "stdout",
     "output_type": "stream",
     "text": [
      "Running experiment for MPNNModel, training on 3000 samples for 100 epochs.\n",
      "\n",
      "Model architecture:\n",
      "MPNNModel(\n",
      "  (lin_in): Linear(in_features=49, out_features=64, bias=True)\n",
      "  (convs): ModuleList(\n",
      "    (0-3): 4 x MPNNLayer(emb_dim=64, aggr=add)\n",
      "  )\n",
      "  (lin_pred): Linear(in_features=64, out_features=1, bias=True)\n",
      ")\n",
      "Total parameters: 104897\n",
      "\n",
      "Start training:\n",
      "Epoch: 010, LR: 0.001000, Loss: 1.7966863, Val MSE: 9.8530080, Test MSE: 17.7140859\n",
      "Epoch: 020, LR: 0.000810, Loss: 1.3150741, Val MSE: 10.2127406, Test MSE: 17.7140859\n",
      "Epoch: 030, LR: 0.000729, Loss: 0.8172093, Val MSE: 9.7316291, Test MSE: 14.2315086\n",
      "Epoch: 040, LR: 0.000656, Loss: 0.6874445, Val MSE: 9.8298359, Test MSE: 14.2315086\n",
      "Epoch: 050, LR: 0.000531, Loss: 0.5988946, Val MSE: 9.7505825, Test MSE: 14.2315086\n",
      "Epoch: 060, LR: 0.000430, Loss: 0.5281868, Val MSE: 9.7131626, Test MSE: 14.2315086\n",
      "Epoch: 070, LR: 0.000387, Loss: 0.5831034, Val MSE: 9.6150545, Test MSE: 14.2315086\n",
      "Epoch: 080, LR: 0.000314, Loss: 0.4401813, Val MSE: 9.6506667, Test MSE: 14.2315086\n",
      "Epoch: 090, LR: 0.000254, Loss: 0.3962894, Val MSE: 9.7064704, Test MSE: 14.2315086\n",
      "Epoch: 100, LR: 0.000229, Loss: 0.3456323, Val MSE: 9.6921709, Test MSE: 14.2315086\n",
      "\n",
      "Done! Training took 2.54 mins. Best validation MSE: 9.5644326, corresponding test MSE: 14.2315086.\n"
     ]
    },
    {
     "name": "stderr",
     "output_type": "stream",
     "text": [
      "/var/folders/tj/vc_wjrpj36sf3zws4s7s770c0000gn/T/ipykernel_778/3516393161.py:15: FutureWarning: The frame.append method is deprecated and will be removed from pandas in a future version. Use pandas.concat instead.\n",
      "  DF_RESULTS = DF_RESULTS.append(df_temp, ignore_index=True)\n"
     ]
    }
   ],
   "source": [
    "model = MPNNModel(num_layers=4, emb_dim=64, in_dim=49, edge_dim=1, out_dim=1)\n",
    "model_name = type(model).__name__\n",
    "\n",
    "\n",
    "best_val_error, test_error, train_time, perf_per_epoch = run_experiment(\n",
    "    model,\n",
    "    model_name,\n",
    "    train_loader,\n",
    "    val_loader,\n",
    "    test_loader,\n",
    "    n_epochs=100\n",
    ")\n",
    "RESULTS[model_name] = (best_val_error, test_error, train_time)\n",
    "df_temp = pd.DataFrame(perf_per_epoch, columns=[\"Test MSE\", \"Val MSE\", \"Epoch\", \"Model\"])\n",
    "DF_RESULTS = DF_RESULTS.append(df_temp, ignore_index=True)"
   ]
  },
  {
   "cell_type": "code",
   "execution_count": 31,
   "metadata": {
    "id": "e4NWM5CbptmE"
   },
   "outputs": [
    {
     "data": {
      "text/plain": [
       "{'MPNNModel': (9.564432586923242, 14.231508636634622, 2.535191265741984)}"
      ]
     },
     "execution_count": 31,
     "metadata": {},
     "output_type": "execute_result"
    }
   ],
   "source": [
    "RESULTS"
   ]
  },
  {
   "cell_type": "code",
   "execution_count": 32,
   "metadata": {
    "id": "v7rtvD0zvmpF"
   },
   "outputs": [
    {
     "data": {
      "image/png": "[encoded data removed]",
      "text/plain": [
       "<Figure size 640x480 with 1 Axes>"
      ]
     },
     "metadata": {},
     "output_type": "display_data"
    }
   ],
   "source": [
    "p = sns.lineplot(x=\"Epoch\", y=\"Val MSE\", hue=\"Model\", data=DF_RESULTS)\n",
    "#p.set(ylim=(0, 2));"
   ]
  },
  {
   "cell_type": "code",
   "execution_count": 33,
   "metadata": {
    "id": "r1pjr7brqKCz"
   },
   "outputs": [
    {
     "data": {
      "image/png": "[encoded data removed]",
      "text/plain": [
       "<Figure size 640x480 with 1 Axes>"
      ]
     },
     "metadata": {},
     "output_type": "display_data"
    }
   ],
   "source": [
    "p = sns.lineplot(x=\"Epoch\", y=\"Test MSE\", hue=\"Model\", data=DF_RESULTS)\n",
    "#p.set(ylim=(0, 1));"
   ]
  },
  {
   "cell_type": "markdown",
   "metadata": {},
   "source": [
    "Obtain predictions for test set"
   ]
  },
  {
   "cell_type": "code",
   "execution_count": 34,
   "metadata": {
    "id": "xM3HXnhwDk_n"
   },
   "outputs": [],
   "source": [
    "model.eval()\n",
    "\n",
    "y_pred_list = []\n",
    "y0_list = []\n",
    "y_test_list = []\n",
    "\n",
    "\n",
    "for data in test_loader:\n",
    "    data = data.to('cpu')\n",
    "    with torch.no_grad():\n",
    "        y_pred = model(data)\n",
    "        \n",
    "        y0_list += list(data.y0)\n",
    "        y_pred_list = y_pred_list + list(y_pred+data.y0)\n",
    "        y_test_list = y_test_list + list(data.y+data.y0)\n",
    "        \n",
    "y0_arr = np.array(y0_list)\n",
    "y_pred_arr = np.array(y_pred_list)\n",
    "y_test_arr = np.array(y_test_list)"
   ]
  },
  {
   "cell_type": "code",
   "execution_count": 35,
   "metadata": {},
   "outputs": [
    {
     "data": {
      "text/plain": [
       "Text(0, 0.5, '$y_\\\\mathrm{pred}-y_\\\\mathrm{test}$')"
      ]
     },
     "execution_count": 35,
     "metadata": {},
     "output_type": "execute_result"
    },
    {
     "data": {
      "image/png": "[encoded data removed]",
      "text/plain": [
       "<Figure size 640x480 with 1 Axes>"
      ]
     },
     "metadata": {},
     "output_type": "display_data"
    }
   ],
   "source": [
    "plt.scatter(y_test_arr, y_pred_arr-y_test_arr)\n",
    "plt.xlabel(r'$y_\\mathrm{test}$ (binding energy)')\n",
    "plt.ylabel(r'$y_\\mathrm{pred}-y_\\mathrm{test}$')"
   ]
  },
  {
   "cell_type": "code",
   "execution_count": 45,
   "metadata": {},
   "outputs": [
    {
     "data": {
      "text/plain": [
       "13.9463415"
      ]
     },
     "execution_count": 45,
     "metadata": {},
     "output_type": "execute_result"
    }
   ],
   "source": [
    "np.mean((y_pred_arr-y_test_arr)**2)"
   ]
  },
  {
   "cell_type": "code",
   "execution_count": 37,
   "metadata": {},
   "outputs": [
    {
     "data": {
      "text/plain": [
       "Text(0, 0.5, '$y_0-y_\\\\mathrm{test}$')"
      ]
     },
     "execution_count": 37,
     "metadata": {},
     "output_type": "execute_result"
    },
    {
     "data": {
      "image/png": "[encoded data removed]",
      "text/plain": [
       "<Figure size 640x480 with 1 Axes>"
      ]
     },
     "metadata": {},
     "output_type": "display_data"
    }
   ],
   "source": [
    "plt.scatter(y_test_arr, y0_arr-y_test_arr)\n",
    "plt.xlabel(r'$y_\\mathrm{test}$ (binding energy)')\n",
    "plt.ylabel(r'$y_0-y_\\mathrm{test}$')"
   ]
  },
  {
   "cell_type": "code",
   "execution_count": 44,
   "metadata": {},
   "outputs": [
    {
     "data": {
      "text/plain": [
       "48.501595"
      ]
     },
     "execution_count": 44,
     "metadata": {},
     "output_type": "execute_result"
    }
   ],
   "source": [
    "np.mean((y0_arr-y_test_arr)**2)"
   ]
  },
  {
   "cell_type": "code",
   "execution_count": 41,
   "metadata": {},
   "outputs": [
    {
     "data": {
      "text/plain": [
       "<matplotlib.legend.Legend at 0x7ff6d088f610>"
      ]
     },
     "execution_count": 41,
     "metadata": {},
     "output_type": "execute_result"
    },
    {
     "data": {
      "image/png": "[encoded data removed]",
      "text/plain": [
       "<Figure size 640x480 with 1 Axes>"
      ]
     },
     "metadata": {},
     "output_type": "display_data"
    }
   ],
   "source": [
    "plt.scatter(y_test_arr, y_pred_arr-y_test_arr, label='GNN')\n",
    "plt.scatter(y_test_arr, y0_arr-y_test_arr, label='Lookup')\n",
    "\n",
    "plt.xlabel(r'$y_\\mathrm{test}$ (binding energy)')\n",
    "plt.ylabel(r'$y_\\mathrm{pred}-y_\\mathrm{test}$')\n",
    "\n",
    "plt.legend()"
   ]
  },
  {
   "cell_type": "code",
   "execution_count": null,
   "metadata": {},
   "outputs": [],
   "source": []
  }
 ],
 "metadata": {
  "accelerator": "GPU",
  "colab": {
   "collapsed_sections": [
    "_l0tU8gum9eT",
    "TAwoHyWs452X",
    "V03t1f51tW2w",
    "0fZTuGyVNC6n",
    "kY6J_vL3hgCN",
    "wqcJy1HtPgj6",
    "yO7iwRjvDD16",
    "c-az-clhTLLv",
    "04WVO1Mnukdm"
   ],
   "provenance": []
  },
  "kernelspec": {
   "display_name": "Python 3 (ipykernel)",
   "language": "python",
   "name": "python3"
  },
  "language_info": {
   "codemirror_mode": {
    "name": "ipython",
    "version": 3
   },
   "file_extension": ".py",
   "mimetype": "text/x-python",
   "name": "python",
   "nbconvert_exporter": "python",
   "pygments_lexer": "ipython3",
   "version": "3.9.13"
  },
  "vscode": {
   "interpreter": {
    "hash": "94aa676993820a604ac86f7af94f5432e989a749d5dd43e18f9507de2e8c2897"
   }
  }
 },
 "nbformat": 4,
 "nbformat_minor": 1
}
