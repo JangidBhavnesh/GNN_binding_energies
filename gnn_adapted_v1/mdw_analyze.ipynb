{
 "cells": [
  {
   "cell_type": "markdown",
   "id": "b938154a",
   "metadata": {},
   "source": [
    "Basic imports"
   ]
  },
  {
   "cell_type": "code",
   "execution_count": 2,
   "id": "33f9e132",
   "metadata": {
    "cellView": "form",
    "id": "mvIHO8B_RjeG"
   },
   "outputs": [
    {
     "name": "stdout",
     "output_type": "stream",
     "text": [
      "PyTorch version 2.2.2\n",
      "PyG version 2.0.3\n"
     ]
    }
   ],
   "source": [
    "#@title [RUN] Import python modules\n",
    "import os\n",
    "import time\n",
    "import random\n",
    "import numpy as np\n",
    "\n",
    "from scipy.stats import ortho_group\n",
    "\n",
    "import torch\n",
    "import torch.nn.functional as F\n",
    "from torch.nn import Linear, ReLU, BatchNorm1d, Module, Sequential\n",
    "\n",
    "import torch_geometric\n",
    "from torch_geometric.data import Data\n",
    "from torch_geometric.data import Batch\n",
    "from torch_geometric.datasets import QM9\n",
    "import torch_geometric.transforms as T\n",
    "from torch_geometric.utils import remove_self_loops, to_dense_adj, dense_to_sparse\n",
    "from torch_geometric.loader import DataLoader\n",
    "from torch_geometric.nn import MessagePassing, global_mean_pool\n",
    "from torch_geometric.datasets import QM9\n",
    "from torch_scatter import scatter\n",
    "\n",
    "import rdkit.Chem as Chem\n",
    "from rdkit.Geometry.rdGeometry import Point3D\n",
    "from rdkit.Chem import QED, Crippen, rdMolDescriptors, rdmolops\n",
    "from rdkit.Chem.Draw import IPythonConsole\n",
    "\n",
    "import py3Dmol\n",
    "from rdkit.Chem import AllChem\n",
    "\n",
    "import matplotlib.pyplot as plt\n",
    "import seaborn as sns\n",
    "import pandas as pd\n",
    "\n",
    "#from google.colab import files\n",
    "from IPython.display import HTML\n",
    "\n",
    "print(\"PyTorch version {}\".format(torch.__version__))\n",
    "print(\"PyG version {}\".format(torch_geometric.__version__))"
   ]
  },
  {
   "cell_type": "code",
   "execution_count": 3,
   "id": "edf05a18",
   "metadata": {
    "cellView": "form",
    "id": "voXIXbkVOeZm"
   },
   "outputs": [],
   "source": [
    "#@title [RUN] Set random seed for deterministic results\n",
    "\n",
    "def seed(seed=0):\n",
    "    random.seed(seed)\n",
    "    np.random.seed(seed)\n",
    "    torch.manual_seed(seed)\n",
    "    torch.cuda.manual_seed(seed)\n",
    "    torch.cuda.manual_seed_all(seed)\n",
    "    torch.backends.cudnn.deterministic = True\n",
    "    torch.backends.cudnn.benchmark = False\n",
    "\n",
    "seed(1)"
   ]
  },
  {
   "cell_type": "markdown",
   "id": "d1279d3a",
   "metadata": {},
   "source": [
    "Convert networkx inputs to PyG"
   ]
  },
  {
   "cell_type": "code",
   "execution_count": 4,
   "id": "8d51a1f1",
   "metadata": {},
   "outputs": [],
   "source": [
    "import json\n",
    "import networkx as nx\n",
    "import copy\n",
    "\n",
    "def load_data_from_file(filename):\n",
    "    \"\"\"\n",
    "    Load a dictionary of graphs from JSON file.\n",
    "    \"\"\"\n",
    "    with open(filename, \"r\") as file_handle:\n",
    "        string_dict = json.load(file_handle)\n",
    "    return _load_data_from_string_dict(string_dict)\n",
    "\n",
    "def load_data_from_string(json_string):\n",
    "    \"\"\"\n",
    "    Load a dictionary of graphs from JSON string.\n",
    "    \"\"\"\n",
    "    string_dict = json.loads(json_string)\n",
    "    return _load_data_from_string_dict(string_dict)\n",
    "\n",
    "def _load_data_from_string_dict(string_dict):\n",
    "    result_dict = {}\n",
    "    for key in string_dict:\n",
    "\n",
    "        data = copy.deepcopy(string_dict[key])\n",
    "\n",
    "        if 'edges' in data:\n",
    "            data[\"links\"] = data.pop(\"edges\")\n",
    "\n",
    "        graph = nx.node_link_graph(data)\n",
    "        result_dict[key] = graph\n",
    "    return result_dict\n",
    "\n",
    "def write_data_to_json_string(graph_dict, **kwargs):\n",
    "    \"\"\"\n",
    "    Write dictionary of graphs to JSON string.\n",
    "    \"\"\"\n",
    "    json_string = json.dumps(graph_dict, default=nx.node_link_data, **kwargs)\n",
    "    return json_string\n",
    "\n",
    "\n",
    "def write_data_to_json_file(graph_dict, filename, **kwargs):\n",
    "    \"\"\"\n",
    "    Write dictionary of graphs to JSON file.\n",
    "    \"\"\"\n",
    "    with open(filename, \"w\") as file_handle:\n",
    "        file_handle.write(write_data_to_json_string(graph_dict, **kwargs))"
   ]
  },
  {
   "cell_type": "code",
   "execution_count": 5,
   "id": "dcce324d",
   "metadata": {},
   "outputs": [],
   "source": [
    "#train_data = load_data_from_file(\"/Users/thepoetoftwilight/Documents/ML/gnn/ludwigteam/data/graph_data_duplicates_v2.json\") # dictionary of SMILES and values are graphs\n",
    "train_data = load_data_from_file(\"graph_data_duplicates_v2.json\") # dictionary of SMILES and values are graphs"
   ]
  },
  {
   "cell_type": "code",
   "execution_count": 6,
   "id": "ee1266a1",
   "metadata": {},
   "outputs": [],
   "source": [
    "atom_dict = {\n",
    " 'H':1,\n",
    " 'He':2,\n",
    " 'Li': 3,\n",
    " 'B': 5,\n",
    " 'C': 6,\n",
    " 'N': 7,\n",
    " 'O': 8,\n",
    " 'F': 9,\n",
    " 'Ne': 10,\n",
    " 'Na': 11,\n",
    " 'Mg': 12,\n",
    " 'Al': 13,\n",
    " 'Si': 14,\n",
    " 'P': 15,\n",
    " 'S': 16,\n",
    " 'Cl': 17,\n",
    " 'Ar': 18,\n",
    " 'K': 19,\n",
    " 'Ca': 20,\n",
    " 'Ti': 22,\n",
    " 'V': 23,\n",
    " 'Cr': 24,\n",
    " 'Mn': 25,\n",
    " 'Fe': 26,\n",
    " 'Co': 27,\n",
    " 'Ni': 28,\n",
    " 'Cu': 29,\n",
    " 'Zn': 30,\n",
    " 'Ga': 31,\n",
    " 'Ge': 32,\n",
    " 'As': 33,\n",
    " 'Se': 34,\n",
    " 'Br': 35,\n",
    " 'Kr': 36,\n",
    " 'Rb': 37,\n",
    " 'Sr': 38,\n",
    " 'Mo': 42,\n",
    " 'Rh': 45,\n",
    " 'Ag': 47,\n",
    " 'Cd': 48,\n",
    " 'In': 49,\n",
    " 'Sn': 50,\n",
    " 'Sb': 51,\n",
    " 'Te': 52,\n",
    " 'I': 53,\n",
    " 'Xe': 54,\n",
    " 'Cs': 55,\n",
    " 'Ba': 56,\n",
    " 'W': 74,\n",
    " 'Re': 75,\n",
    " 'Hg': 80,\n",
    " 'Tl': 81,\n",
    " 'Pb': 82,\n",
    " 'Bi': 83,\n",
    " 'U': 92\n",
    "}\n",
    "\n",
    "orb_dict = {\n",
    " '1s': [1, 0, 0],\n",
    " '2s': [2, 0, 0],\n",
    " '2p': [2, 1, 0],\n",
    " '2p3/2': [2, 1, 1.5],\n",
    "    \n",
    " '3s': [3, 0, 0],\n",
    " '3p': [3, 1, 0],\n",
    " '3p3/2': [3, 1, 1.5],\n",
    " '3d': [3, 2, 0],\n",
    " '3d5/2': [3, 2, 2.5],\n",
    "    \n",
    " '4s': [4, 0, 0],\n",
    " '4p3/2': [4, 1, 1.5],\n",
    " '4d': [4, 2, 0],\n",
    " '4d5/2': [4, 2, 2.5],\n",
    " '4f7/2': [4, 3, 3.5],\n",
    "    \n",
    " '5s': [5, 0, 0],\n",
    " '5p3/2': [5, 1, 1.5],\n",
    " '5d5/2': [5, 2, 2.5],\n",
    "}\n",
    "\n",
    "orb_list = list(orb_dict.keys())\n",
    "\n",
    "bond_dict = {'SINGLE':1, 'DOUBLE':2, 'TRIPLE':3, 'NONE':0}"
   ]
  },
  {
   "cell_type": "code",
   "execution_count": 7,
   "id": "30152f28",
   "metadata": {},
   "outputs": [],
   "source": [
    "import pandas as pd\n",
    "\n",
    "# Lookup table\n",
    "iso_be_df = pd.read_csv('Isolated_Energy_final.csv')\n",
    "\n",
    "# Embeddings\n",
    "embed_df = pd.read_csv('final_embedding_dim30_induced.csv')"
   ]
  },
  {
   "cell_type": "code",
   "execution_count": 8,
   "id": "276377fa",
   "metadata": {},
   "outputs": [],
   "source": [
    "# Embedding IDs\n",
    "embedded_atoms = list(embed_df['Atoms'])\n",
    "\n",
    "# Embedding vectors\n",
    "embed_dict = {}\n",
    "\n",
    "for i in range(len(embed_df)):\n",
    "    vec = np.fromstring(embed_df.loc[i,'Embeddings'].replace('\\n','').strip('[]'), sep=' ')\n",
    "    embed_dict[embedded_atoms[i]] = vec\n",
    "        \n",
    "# Embedding doesn't have entry for H\n",
    "embed_dict['H'] = np.zeros(30)"
   ]
  },
  {
   "cell_type": "code",
   "execution_count": 9,
   "id": "1900aac7",
   "metadata": {
    "scrolled": true
   },
   "outputs": [],
   "source": [
    "dataset = []\n",
    "\n",
    "for i, mol in enumerate(train_data):\n",
    "    graph = train_data[mol]\n",
    "    \n",
    "    \n",
    "    # Create node features (# atoms by target, atomic embedding, charge, one-hot encoding for orbital)\n",
    "    targets = list(nx.get_node_attributes(graph, \"target\").values())\n",
    "    x = np.zeros((len(targets), 49))\n",
    "\n",
    "    # Indicate target atom\n",
    "    atom_index = targets.index(True)\n",
    "    x[atom_index, 0] = 1  \n",
    "    \n",
    "    # Indicate formal charges\n",
    "    charge = list(nx.get_node_attributes(graph, \"formal_charge\").values())\n",
    "    x[:, 1] = charge  \n",
    "    \n",
    "    # Indicate atom embeddings\n",
    "    atom = list(nx.get_node_attributes(graph, \"atom_type\").values())\n",
    "    embed_mat = np.array([embed_dict[a] for a in atom])\n",
    "    x[:,2:32] = embed_mat\n",
    "    \n",
    "    # One hot encode orbital for target atom\n",
    "    orb = list(nx.get_node_attributes(graph, \"orbitals\").values())\n",
    "    x[atom_index, 32 + orb_list.index(orb[atom_index][0])] = 1 \n",
    "    \n",
    "    # Make PyG friendly\n",
    "    x = torch.tensor(x, dtype=torch.float)\n",
    "    \n",
    "    # Target value\n",
    "    energy = list(nx.get_node_attributes(graph, \"binding_energies\").values())\n",
    "    y = torch.tensor([energy[atom_index][0]], dtype=torch.float)\n",
    "    # Isolated binding energy from lookup table (for delta learning)\n",
    "    be = float(iso_be_df.loc[atom_dict[atom[atom_index]]-1,orb[atom_index][0]]) \n",
    "    \n",
    "\n",
    "    # Fix for edge_index with source and destination nodes\n",
    "    edge_index = torch.tensor(list(graph.edges), dtype=torch.long).t().contiguous()\n",
    "\n",
    "    # Encode edge indices\n",
    "    bond_types = list(nx.get_edge_attributes(graph, \"bond_type\").values())\n",
    "    \n",
    "    # Fix for edge_attr construction\n",
    "    edge_attr = np.zeros((4, len(bond_types), ))\n",
    "    \n",
    "    for j,b in enumerate(bond_types):\n",
    "        edge_attr[bond_dict[b], j] = 1\n",
    "    \n",
    "    edge_attr = torch.tensor(edge_attr, dtype=torch.long).t().contiguous()\n",
    "\n",
    "    # Then proceed with creating the Data object\n",
    "    data = Data(x=x, edge_index=edge_index, edge_attr=edge_attr, y=y-be, name=mol, y0=be)\n",
    "    dataset.append(data)"
   ]
  },
  {
   "cell_type": "markdown",
   "id": "8568931c",
   "metadata": {
    "id": "p98OyJsOZUKn"
   },
   "source": [
    "Data prep and splitting"
   ]
  },
  {
   "cell_type": "code",
   "execution_count": 10,
   "id": "b0027df7",
   "metadata": {
    "id": "RFaBnrDoS2K-"
   },
   "outputs": [
    {
     "name": "stdout",
     "output_type": "stream",
     "text": [
      "Total number of samples: 5192.\n",
      "859\n",
      "Created dataset splits with 3108 training, 1037 validation, 1047 test samples.\n"
     ]
    }
   ],
   "source": [
    "from torch.utils.data import random_split\n",
    "\n",
    "print(f\"Total number of samples: {len(dataset)}.\")\n",
    "\n",
    "mols = np.array(list(train_data.keys()))\n",
    "mols = np.array([mol.split('_')[0] for mol in mols]) # there are no underscores in the molecule names\n",
    "\n",
    "# Get unique molecules and assign unique indices to each\n",
    "unique_molecules, unique_index = np.unique(mols, return_inverse=True)\n",
    "\n",
    "print(unique_index.max()) # goes from 0 to 859 for the 860 unique molecules\n",
    "\n",
    "# Choose a random subset of test molecules\n",
    "unseen_subset = np.random.choice(np.arange(0, 859), size=200, replace=False) # 100 random molecules\n",
    "\n",
    "whitelist = ~np.in1d(unique_index, unseen_subset)\n",
    "train_val_dataset = [dataset[i] for i in range(len(dataset)) if whitelist[i]]\n",
    "test_dataset = [dataset[i] for i in range(len(dataset)) if not whitelist[i]] # Test dataset is the unseen subset\n",
    "\n",
    "# Split datasets (our 3K subset)\n",
    "# Split the dataset into train, validation, and test sets\n",
    "train_size = int(0.75*len(train_val_dataset))\n",
    "test_size = len(train_val_dataset)-train_size\n",
    "split_seed = torch.Generator().manual_seed(42)\n",
    "train_dataset, val_dataset = random_split(train_val_dataset, [train_size, test_size], generator=split_seed)\n",
    "\n",
    "print(f\"Created dataset splits with {len(train_dataset)} training, {len(val_dataset)} validation, {len(test_dataset)} test samples.\")\n",
    "\n",
    "# Create dataloaders with batch size = 32\n",
    "train_loader = DataLoader(train_dataset, batch_size=32, shuffle=True)\n",
    "val_loader = DataLoader(val_dataset, batch_size=32, shuffle=False)\n",
    "test_loader = DataLoader(test_dataset, batch_size=32, shuffle=False)"
   ]
  },
  {
   "cell_type": "markdown",
   "id": "6f9073ed",
   "metadata": {
    "id": "byQrx71Udlv5"
   },
   "source": [
    "### Blueprint of data objects"
   ]
  },
  {
   "cell_type": "code",
   "execution_count": 11,
   "id": "9b17b393",
   "metadata": {
    "id": "wO5GskvZnZ1j"
   },
   "outputs": [],
   "source": [
    "class MPNNLayer(MessagePassing):\n",
    "    def __init__(self, emb_dim=64, edge_dim=4, aggr='add'):\n",
    "        \"\"\"Message Passing Neural Network Layer\n",
    "\n",
    "        Args:\n",
    "            emb_dim: (int) - hidden dimension `d`\n",
    "            edge_dim: (int) - edge feature dimension `d_e`\n",
    "            aggr: (str) - aggregation function `\\oplus` (sum/mean/max)\n",
    "        \"\"\"\n",
    "        # Set the aggregation function\n",
    "        super().__init__(aggr=aggr)\n",
    "\n",
    "        self.emb_dim = emb_dim\n",
    "        self.edge_dim = edge_dim\n",
    "\n",
    "        # MLP `\\psi` for computing messages `m_ij`\n",
    "        # Implemented as a stack of Linear->BN->ReLU->Linear->BN->ReLU\n",
    "        # dims: (2d + d_e) -> d\n",
    "        self.mlp_msg = Sequential(\n",
    "            Linear(2*emb_dim + edge_dim, emb_dim), BatchNorm1d(emb_dim), ReLU(),\n",
    "            Linear(emb_dim, emb_dim), BatchNorm1d(emb_dim), ReLU()\n",
    "          )\n",
    "\n",
    "        # MLP `\\phi` for computing updated node features `h_i^{l+1}`\n",
    "        # Implemented as a stack of Linear->BN->ReLU->Linear->BN->ReLU\n",
    "        # dims: 2d -> d\n",
    "        self.mlp_upd = Sequential(\n",
    "            Linear(2*emb_dim, emb_dim), BatchNorm1d(emb_dim), ReLU(),\n",
    "            Linear(emb_dim, emb_dim), BatchNorm1d(emb_dim), ReLU()\n",
    "          )\n",
    "\n",
    "    def forward(self, h, edge_index, edge_attr):\n",
    "        \"\"\"\n",
    "        The forward pass updates node features `h` via one round of message passing.\n",
    "\n",
    "        As our MPNNLayer class inherits from the PyG MessagePassing parent class,\n",
    "        we simply need to call the `propagate()` function which starts the\n",
    "        message passing procedure: `message()` -> `aggregate()` -> `update()`.\n",
    "\n",
    "        The MessagePassing class handles most of the logic for the implementation.\n",
    "        To build custom GNNs, we only need to define our own `message()`,\n",
    "        `aggregate()`, and `update()` functions (defined subsequently).\n",
    "\n",
    "        Args:\n",
    "            h: (n, d) - initial node features\n",
    "            edge_index: (e, 2) - pairs of edges (i, j)\n",
    "            edge_attr: (e, d_e) - edge features\n",
    "\n",
    "        Returns:\n",
    "            out: (n, d) - updated node features\n",
    "        \"\"\"\n",
    "        out = self.propagate(edge_index, h=h, edge_attr=edge_attr)\n",
    "        return out\n",
    "\n",
    "    def message(self, h_i, h_j, edge_attr):\n",
    "        \"\"\"Step (1) Message\n",
    "\n",
    "        The `message()` function constructs messages from source nodes j\n",
    "        to destination nodes i for each edge (i, j) in `edge_index`.\n",
    "\n",
    "        The arguments can be a bit tricky to understand: `message()` can take\n",
    "        any arguments that were initially passed to `propagate`. Additionally,\n",
    "        we can differentiate destination nodes and source nodes by appending\n",
    "        `_i` or `_j` to the variable name, e.g. for the node features `h`, we\n",
    "        can use `h_i` and `h_j`.\n",
    "\n",
    "        This part is critical to understand as the `message()` function\n",
    "        constructs messages for each edge in the graph. The indexing of the\n",
    "        original node features `h` (or other node variables) is handled under\n",
    "        the hood by PyG.\n",
    "\n",
    "        Args:\n",
    "            h_i: (e, d) - destination node features\n",
    "            h_j: (e, d) - source node features\n",
    "            edge_attr: (e, d_e) - edge features\n",
    "\n",
    "        Returns:\n",
    "            msg: (e, d) - messages `m_ij` passed through MLP `\\psi`\n",
    "        \"\"\"\n",
    "        # SK - note how the dimensions of h_i and h_j were recast compared to forward()\n",
    "        msg = torch.cat([h_i, h_j, edge_attr], dim=-1)\n",
    "        return self.mlp_msg(msg)\n",
    "\n",
    "    def aggregate(self, inputs, index, ptr=None, dim_size=None):\n",
    "\n",
    "        \"\"\"The `aggregate` function aggregates the messages from neighboring nodes,\n",
    "        according to the chosen aggregation function ('sum' by default).\n",
    "\n",
    "        Args:\n",
    "            inputs: (e, d) - messages `m_ij` from destination to source nodes\n",
    "            index: (e, 1) - list of source nodes for each edge/message in `input`\n",
    "\n",
    "        Returns:\n",
    "            aggr_out: (n, d) - aggregated messages `m_i`\n",
    "        \"\"\"\n",
    "        aggr_out = scatter(inputs, index, dim=self.node_dim, dim_size=dim_size, reduce=self.aggr)\n",
    "\n",
    "        return aggr_out\n",
    "\n",
    "    def update(self, aggr_out, h):\n",
    "        \"\"\"\n",
    "        Step (3) Update\n",
    "\n",
    "        The `update()` function computes the final node features by combining the\n",
    "        aggregated messages with the initial node features.\n",
    "\n",
    "        `update()` takes the first argument `aggr_out`, the result of `aggregate()`,\n",
    "        as well as any optional arguments that were initially passed to\n",
    "        `propagate()`. E.g. in this case, we additionally pass `h`.\n",
    "\n",
    "        Args:\n",
    "            aggr_out: (n, d) - aggregated messages `m_i`\n",
    "            h: (n, d) - initial node features\n",
    "\n",
    "        Returns:\n",
    "            upd_out: (n, d) - updated node features passed through MLP `\\phi`\n",
    "        \"\"\"\n",
    "\n",
    "        upd_out = torch.cat([h, aggr_out], dim=-1)\n",
    "        return self.mlp_upd(upd_out)\n",
    "\n",
    "    def __repr__(self) -> str:\n",
    "        return (f'{self.__class__.__name__}(emb_dim={self.emb_dim}, aggr={self.aggr})')"
   ]
  },
  {
   "cell_type": "code",
   "execution_count": 12,
   "id": "905e8ea1",
   "metadata": {
    "id": "Q0vqS1NAU_ZN"
   },
   "outputs": [],
   "source": [
    "class MPNNModel(Module):\n",
    "    def __init__(self, num_layers=4, emb_dim=64, in_dim=49, edge_dim=1, out_dim=1):\n",
    "        \"\"\"Message Passing Neural Network model for graph property prediction\n",
    "\n",
    "        Args:\n",
    "            num_layers: (int) - number of message passing layers `L`\n",
    "            emb_dim: (int) - hidden dimension `d`\n",
    "            in_dim: (int) - initial node feature dimension `d_n`\n",
    "            edge_dim: (int) - edge feature dimension `d_e`\n",
    "            out_dim: (int) - output dimension (fixed to 1)\n",
    "        \"\"\"\n",
    "        super().__init__()\n",
    "\n",
    "        # Linear projection for initial node features\n",
    "        # dim: d_n -> d\n",
    "        self.lin_in = Linear(in_dim, emb_dim)\n",
    "\n",
    "        # Stack of MPNN layers\n",
    "        self.convs = torch.nn.ModuleList()\n",
    "        for layer in range(num_layers):\n",
    "            self.convs.append(MPNNLayer(emb_dim, edge_dim, aggr='add'))\n",
    "\n",
    "        # Global pooling/readout function `R` (mean pooling)\n",
    "        # PyG handles the underlying logic via `global_mean_pool()`\n",
    "        self.pool = global_mean_pool\n",
    "\n",
    "        # Linear prediction head\n",
    "        # dim: d -> out_dim\n",
    "        self.lin_pred = Linear(emb_dim, out_dim)\n",
    "\n",
    "    def forward(self, data):\n",
    "        \"\"\"\n",
    "        Args:\n",
    "            data: (PyG.Data) - batch of PyG graphs\n",
    "\n",
    "        Returns:\n",
    "            out: (batch_size, out_dim) - prediction for each graph\n",
    "        \"\"\"\n",
    "        h = self.lin_in(data.x) # (n, d_n) -> (n, d)\n",
    "\n",
    "        for conv in self.convs:\n",
    "            h = h + conv(h, data.edge_index, data.edge_attr) # (n, d) -> (n, d)\n",
    "            # Note that we add a residual connection after each MPNN layer\n",
    "\n",
    "        h_graph = self.pool(h, data.batch) # (n, d) -> (batch_size, d)\n",
    "\n",
    "        out = self.lin_pred(h_graph) # (batch_size, d) -> (batch_size, 1)\n",
    "\n",
    "        return out.view(-1)"
   ]
  },
  {
   "cell_type": "markdown",
   "id": "e870ae93",
   "metadata": {},
   "source": [
    "Load results for val set"
   ]
  },
  {
   "cell_type": "code",
   "execution_count": 75,
   "id": "d09d99d7",
   "metadata": {},
   "outputs": [],
   "source": [
    "num_layers_grid = np.arange(4,11)\n",
    "emb_dim_grid = np.arange(54,104,10)"
   ]
  },
  {
   "cell_type": "code",
   "execution_count": 76,
   "id": "8c4e36f8",
   "metadata": {},
   "outputs": [],
   "source": [
    "val_mae_grid = np.zeros((len(num_layers_grid), len(emb_dim_grid)))\n",
    "\n",
    "for i in range(len(num_layers_grid)):\n",
    "    for j in range(len(emb_dim_grid)):\n",
    "        \n",
    "        num_layers = num_layers_grid[i]\n",
    "        emb_dim = emb_dim_grid[j]\n",
    "\n",
    "        model = MPNNModel(num_layers=num_layers, emb_dim=emb_dim, in_dim=49, edge_dim=4, out_dim=1)\n",
    "        model.load_state_dict(torch.load('models_MPNN_arch/l{0}_e{1}_model.pth'.format(num_layers, emb_dim), \n",
    "                                         map_location=torch.device('cpu')))\n",
    "\n",
    "        model.eval()\n",
    "\n",
    "        y_pred_list = []\n",
    "        y0_list = []\n",
    "        y_test_list = []\n",
    "\n",
    "\n",
    "        for data in val_loader:\n",
    "            data = data.to('cpu')\n",
    "            with torch.no_grad():\n",
    "                y_pred = model(data)\n",
    "\n",
    "                y0_list += list(data.y0)\n",
    "                y_pred_list = y_pred_list + list(y_pred+data.y0)\n",
    "                y_test_list = y_test_list + list(data.y+data.y0)\n",
    "\n",
    "        y0_arr = np.array(y0_list)\n",
    "        y_pred_arr = np.array(y_pred_list)\n",
    "        y_test_arr = np.array(y_test_list)\n",
    "\n",
    "        val_mae_grid[i,j] = np.mean(np.abs(y_pred_arr-y_test_arr))"
   ]
  },
  {
   "cell_type": "code",
   "execution_count": 77,
   "id": "cf019537",
   "metadata": {},
   "outputs": [
    {
     "data": {
      "text/plain": [
       "(7, 5)"
      ]
     },
     "execution_count": 77,
     "metadata": {},
     "output_type": "execute_result"
    }
   ],
   "source": [
    "val_mae_grid.shape"
   ]
  },
  {
   "cell_type": "code",
   "execution_count": 78,
   "id": "9576d830",
   "metadata": {},
   "outputs": [
    {
     "data": {
      "text/plain": [
       "<matplotlib.colorbar.Colorbar at 0x7f89134a76d0>"
      ]
     },
     "execution_count": 78,
     "metadata": {},
     "output_type": "execute_result"
    },
    {
     "data": {
      "image/png": "[encoded data removed]",
      "text/plain": [
       "<Figure size 500x500 with 2 Axes>"
      ]
     },
     "metadata": {},
     "output_type": "display_data"
    }
   ],
   "source": [
    "fig, ax = plt.subplots(1, figsize=(5,5))\n",
    "\n",
    "extent = [num_layers_grid[0]-.5, num_layers_grid[-1]+.5, emb_dim_grid[0]-5, emb_dim_grid[-1]+5]\n",
    "\n",
    "im = ax.imshow(val_mae_grid.T, extent=extent, origin='lower', aspect='auto', interpolation='none')\n",
    "\n",
    "# Calculate the aspect ratio of the extent\n",
    "#extent_aspect = (extent[1] - extent[0]) / (extent[3] - extent[2])\n",
    "\n",
    "# Set the aspect ratio of the axes to match the extent\n",
    "#ax.set_aspect(extent_aspect)\n",
    "\n",
    "ax.set_xlabel('# MP layers')\n",
    "ax.set_ylabel('Node emb dim')\n",
    "\n",
    "ax.set_xticks([4,5,6,7,8,9,10], [4,5,6,7,8,9,10])\n",
    "ax.set_yticks([54,64,74,84,94], [54,64,74,84,94])\n",
    "#ax.set_yticks([54,64,74,84,94,104], [54,64,74,84,94,104])\n",
    "\n",
    "plt.colorbar(im, label='val MAE')"
   ]
  },
  {
   "cell_type": "code",
   "execution_count": 79,
   "id": "b8b9ed96",
   "metadata": {},
   "outputs": [],
   "source": [
    "min_index_flat = np.argmin(val_mae_grid)\n",
    "min_index_2d = np.unravel_index(min_index_flat, val_mae_grid.shape)"
   ]
  },
  {
   "cell_type": "code",
   "execution_count": 80,
   "id": "814c822f",
   "metadata": {},
   "outputs": [
    {
     "data": {
      "text/plain": [
       "(6, 94)"
      ]
     },
     "execution_count": 80,
     "metadata": {},
     "output_type": "execute_result"
    }
   ],
   "source": [
    "num_layers_grid[min_index_2d[0]], emb_dim_grid[min_index_2d[1]],"
   ]
  },
  {
   "cell_type": "code",
   "execution_count": 84,
   "id": "acef8a98",
   "metadata": {},
   "outputs": [],
   "source": [
    "val_mae_grid = np.zeros((len(num_layers_grid), len(emb_dim_grid)))\n",
    "\n",
    "for i in range(len(num_layers_grid)):\n",
    "    for j in range(len(emb_dim_grid)):\n",
    "        \n",
    "        num_layers = num_layers_grid[i]\n",
    "        emb_dim = emb_dim_grid[j]\n",
    "\n",
    "        model = MPNNModel(num_layers=num_layers, emb_dim=emb_dim, in_dim=49, edge_dim=4, out_dim=1)\n",
    "        model.load_state_dict(torch.load('models_MPNN_arch/l{0}_e{1}_model.pth'.format(num_layers, emb_dim), \n",
    "                                         map_location=torch.device('cpu')))\n",
    "\n",
    "        model.eval()\n",
    "\n",
    "        y_pred_list = []\n",
    "        y0_list = []\n",
    "        y_test_list = []\n",
    "\n",
    "\n",
    "        for data in test_loader:\n",
    "            data = data.to('cpu')\n",
    "            with torch.no_grad():\n",
    "                y_pred = model(data)\n",
    "\n",
    "                y0_list += list(data.y0)\n",
    "                y_pred_list = y_pred_list + list(y_pred+data.y0)\n",
    "                y_test_list = y_test_list + list(data.y+data.y0)\n",
    "\n",
    "        y0_arr = np.array(y0_list)\n",
    "        y_pred_arr = np.array(y_pred_list)\n",
    "        y_test_arr = np.array(y_test_list)\n",
    "\n",
    "        test_mae_grid[i,j] = np.mean(np.abs(y_pred_arr-y_test_arr))"
   ]
  },
  {
   "cell_type": "code",
   "execution_count": 86,
   "id": "c7a13d52",
   "metadata": {},
   "outputs": [
    {
     "data": {
      "text/plain": [
       "0.9571771025657654"
      ]
     },
     "execution_count": 86,
     "metadata": {},
     "output_type": "execute_result"
    }
   ],
   "source": [
    "test_mae_grid[min_index_2d]"
   ]
  },
  {
   "cell_type": "code",
   "execution_count": 88,
   "id": "9f68f67c",
   "metadata": {},
   "outputs": [],
   "source": [
    "model = MPNNModel(num_layers=6, emb_dim=94, in_dim=49, edge_dim=4, out_dim=1)\n",
    "model.load_state_dict(torch.load('models_MPNN_arch/l6_e94_model.pth'.format(num_layers, emb_dim), \n",
    "                                 map_location=torch.device('cpu')))\n",
    "\n",
    "model.eval()\n",
    "\n",
    "y_pred_list = []\n",
    "y0_list = []\n",
    "y_test_list = []\n",
    "\n",
    "\n",
    "for data in test_loader:\n",
    "    data = data.to('cpu')\n",
    "    with torch.no_grad():\n",
    "        y_pred = model(data)\n",
    "\n",
    "        y0_list += list(data.y0)\n",
    "        y_pred_list = y_pred_list + list(y_pred+data.y0)\n",
    "        y_test_list = y_test_list + list(data.y+data.y0)\n",
    "\n",
    "y0_arr = np.array(y0_list)\n",
    "y_pred_arr = np.array(y_pred_list)\n",
    "y_test_arr = np.array(y_test_list)"
   ]
  },
  {
   "cell_type": "code",
   "execution_count": 89,
   "id": "4298065c",
   "metadata": {},
   "outputs": [
    {
     "data": {
      "text/plain": [
       "<matplotlib.legend.Legend at 0x7f890b85cd00>"
      ]
     },
     "execution_count": 89,
     "metadata": {},
     "output_type": "execute_result"
    },
    {
     "data": {
      "image/png": "[encoded data removed]",
      "text/plain": [
       "<Figure size 640x480 with 1 Axes>"
      ]
     },
     "metadata": {},
     "output_type": "display_data"
    }
   ],
   "source": [
    "plt.scatter(y_test_arr, y_pred_arr-y_test_arr, label='GNN')\n",
    "plt.scatter(y_test_arr, y0_arr-y_test_arr, label='Lookup')\n",
    "\n",
    "plt.xlabel(r'$y_\\mathrm{test}$ (binding energy)')\n",
    "plt.ylabel(r'$y_\\mathrm{pred}-y_\\mathrm{test}$')\n",
    "\n",
    "plt.legend()"
   ]
  },
  {
   "cell_type": "code",
   "execution_count": null,
   "id": "deaa7fc5",
   "metadata": {},
   "outputs": [],
   "source": []
  },
  {
   "cell_type": "code",
   "execution_count": null,
   "id": "bc98ce98",
   "metadata": {},
   "outputs": [],
   "source": []
  }
 ],
 "metadata": {
  "kernelspec": {
   "display_name": "Python 3 (ipykernel)",
   "language": "python",
   "name": "python3"
  },
  "language_info": {
   "codemirror_mode": {
    "name": "ipython",
    "version": 3
   },
   "file_extension": ".py",
   "mimetype": "text/x-python",
   "name": "python",
   "nbconvert_exporter": "python",
   "pygments_lexer": "ipython3",
   "version": "3.9.13"
  }
 },
 "nbformat": 4,
 "nbformat_minor": 5
}
