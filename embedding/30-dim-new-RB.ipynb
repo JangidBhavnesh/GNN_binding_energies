{
 "cells": [
  {
   "cell_type": "code",
   "execution_count": 1,
   "id": "e65c9015",
   "metadata": {},
   "outputs": [],
   "source": [
    "import skipatom as sa\n",
    "import pandas as pd\n",
    "from skipatom import SkipAtomInducedModel\n",
    "from skipatom import SkipAtomModel\n",
    "from skipatom import AtomVectors\n",
    "import torch\n",
    "import numpy as np\n",
    "import random"
   ]
  },
  {
   "cell_type": "code",
   "execution_count": 2,
   "id": "97bca0a0",
   "metadata": {},
   "outputs": [],
   "source": [
    "input_data = pd.read_csv('./atomic_binding_energies_fixed.csv')"
   ]
  },
  {
   "cell_type": "code",
   "execution_count": 3,
   "id": "837af521",
   "metadata": {},
   "outputs": [],
   "source": [
    "model_atoms_30_induced = SkipAtomInducedModel.load(\n",
    "    \"embedding_data/mp_2020_10_09.dim30.model\", \n",
    "    \"embedding_data/mp_2020_10_09.training.data\", \n",
    "    min_count=2e7, top_n=5)\n",
    "\n",
    "model_atoms_30_notinduced = SkipAtomModel.load(\n",
    "    \"embedding_data/mp_2020_10_09.dim30.model\", \n",
    "    \"embedding_data/mp_2020_10_09.training.data\")\n",
    "\n",
    "# Get the unique orbitals\n",
    "unique_orbitals = list(np.unique(input_data['Orbital']))"
   ]
  },
  {
   "cell_type": "code",
   "execution_count": 4,
   "id": "4d97cfd5",
   "metadata": {},
   "outputs": [
    {
     "name": "stdout",
     "output_type": "stream",
     "text": [
      "17\n"
     ]
    }
   ],
   "source": [
    "print(len(unique_orbitals))"
   ]
  },
  {
   "cell_type": "code",
   "execution_count": 5,
   "id": "7cac9cec",
   "metadata": {},
   "outputs": [
    {
     "name": "stderr",
     "output_type": "stream",
     "text": [
      "/var/folders/yy/r2ql1k410r7b95r_qpb4t3980000gn/T/ipykernel_92285/1738509331.py:10: DeprecationWarning: __array__ implementation doesn't accept a copy keyword, so passing copy=False failed. __array__ must implement 'dtype' and 'copy' keyword arguments. To learn more, see the migration guide https://numpy.org/devdocs/numpy_2_0_migration_guide.html#adapting-to-changes-in-the-copy-keyword\n",
      "  embeddings.append(np.array(atom_vector))\n"
     ]
    }
   ],
   "source": [
    "# N=30, induced\n",
    "\n",
    "embeddings = []\n",
    "\n",
    "for i in range(len(input_data['Atom'])):\n",
    "    try:\n",
    "        atom_vector = torch.tensor(model_atoms_30_induced.vectors[model_atoms_30_induced.dictionary[input_data['Atom'][i]]], dtype=torch.float32)\n",
    "    except:\n",
    "        atom_vector = torch.tensor(np.zeros(30), dtype=torch.float32)\n",
    "    embeddings.append(np.array(atom_vector))\n",
    "\n",
    "embd = {'Atoms': input_data['Atom'], 'Embeddings': embeddings}\n",
    "embd = pd.DataFrame(embd)\n",
    "\n",
    "embd.to_csv('./30dim_embeddings/final_embedding_dim30_induced.csv', index=False, header = True)\n",
    "\n"
   ]
  },
  {
   "cell_type": "code",
   "execution_count": null,
   "id": "bf8c806f",
   "metadata": {},
   "outputs": [
    {
     "name": "stderr",
     "output_type": "stream",
     "text": [
      "/var/folders/yy/r2ql1k410r7b95r_qpb4t3980000gn/T/ipykernel_92285/2935125980.py:10: DeprecationWarning: __array__ implementation doesn't accept a copy keyword, so passing copy=False failed. __array__ must implement 'dtype' and 'copy' keyword arguments. To learn more, see the migration guide https://numpy.org/devdocs/numpy_2_0_migration_guide.html#adapting-to-changes-in-the-copy-keyword\n",
      "  embeddings.append(np.array(atom_vector))\n"
     ]
    }
   ],
   "source": [
    "# N=30, not-induced.\n",
    "\n",
    "embeddings = []\n",
    "\n",
    "for i in range(len(input_data['Atom'])):\n",
    "    try:\n",
    "        atom_vector = torch.tensor(model_atoms_30_notinduced.vectors[model_atoms_30_notinduced.dictionary[input_data['Atom'][i]]], dtype=torch.float32)\n",
    "    except:\n",
    "        atom_vector = torch.tensor(np.zeros(30), dtype=torch.float32)\n",
    "    embeddings.append(np.array(atom_vector))\n",
    "\n",
    "embd = {'Atoms': input_data['Atom'], 'Embeddings': embeddings}\n",
    "embd = pd.DataFrame(embd)\n",
    "\n",
    "embd.to_csv('./30dim_embeddings/final_embedding_dim30_not-induced.csv', index=False, header = True)\n",
    "\n"
   ]
  }
 ],
 "metadata": {
  "kernelspec": {
   "display_name": "hackathon",
   "language": "python",
   "name": "python3"
  },
  "language_info": {
   "codemirror_mode": {
    "name": "ipython",
    "version": 3
   },
   "file_extension": ".py",
   "mimetype": "text/x-python",
   "name": "python",
   "nbconvert_exporter": "python",
   "pygments_lexer": "ipython3",
   "version": "3.13.2"
  }
 },
 "nbformat": 4,
 "nbformat_minor": 5
}
