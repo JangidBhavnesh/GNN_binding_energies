{
 "cells": [
  {
   "cell_type": "code",
   "execution_count": 1,
   "id": "e65c9015",
   "metadata": {},
   "outputs": [],
   "source": [
    "import skipatom as sa\n",
    "import pandas as pd\n",
    "from skipatom import SkipAtomInducedModel\n",
    "from skipatom import SkipAtomModel\n",
    "from skipatom import AtomVectors\n",
    "import torch\n",
    "import numpy as np\n",
    "import random"
   ]
  },
  {
   "cell_type": "code",
   "execution_count": 2,
   "id": "97bca0a0",
   "metadata": {},
   "outputs": [],
   "source": [
    "input_data = pd.read_csv('./atomic_binding_energies_fixed.csv')"
   ]
  },
  {
   "cell_type": "code",
   "execution_count": 3,
   "id": "837af521",
   "metadata": {},
   "outputs": [],
   "source": [
    "model_atoms_30 = AtomVectors.load(\"embedding_data/atom2vec.dim30.model\")\n",
    "\n",
    "model_atoms_200_induced = SkipAtomInducedModel.load(\n",
    "    \"embedding_data/mp_2020_10_09.dim200.model\", \n",
    "    \"embedding_data/mp_2020_10_09.training.data\", \n",
    "    min_count=2e7, top_n=5)\n",
    "\n",
    "model_atoms_200_notinduced = SkipAtomModel.load(\n",
    "    \"embedding_data/mp_2020_10_09.dim200.model\", \n",
    "    \"embedding_data/mp_2020_10_09.training.data\")\n",
    "\n",
    "# Get the unique orbitals\n",
    "unique_orbitals = list(np.unique(input_data['Orbital']))"
   ]
  },
  {
   "cell_type": "code",
   "execution_count": 4,
   "id": "4d97cfd5",
   "metadata": {},
   "outputs": [],
   "source": [
    "def generate_random_vector(dim=1):\n",
    "    return [random.uniform(0, 1) for _ in range(dim)]\n",
    "\n",
    "def generate_one_hot_vector(dim=1):\n",
    "    one_hot = [0] * dim\n",
    "    index = random.randint(0, dim - 1)\n",
    "    \n",
    "    one_hot[index] = 1\n",
    "    return one_hot\n",
    "\n",
    "orbital_vectors_rand = {orbital: generate_random_vector() for orbital in unique_orbitals}\n",
    "orbital_vectors_onehot = {orbital: generate_one_hot_vector() for orbital in unique_orbitals}\n"
   ]
  },
  {
   "cell_type": "code",
   "execution_count": 5,
   "id": "380321f1",
   "metadata": {},
   "outputs": [
    {
     "data": {
      "text/plain": [
       "array(['Ag', 'Al', 'Ar', 'As', 'B', 'Ba', 'Bi', 'Br', 'C', 'Ca', 'Cd',\n",
       "       'Cl', 'Co', 'Cr', 'Cs', 'Cu', 'F', 'Fe', 'Ga', 'Ge', 'Hg', 'I',\n",
       "       'In', 'K', 'Kr', 'Li', 'Mg', 'Mn', 'Mo', 'N', 'Na', 'Ne', 'Ni',\n",
       "       'O', 'P', 'Pb', 'Rb', 'Re', 'Rh', 'S', 'Sb', 'Se', 'Si', 'Sn',\n",
       "       'Sr', 'Te', 'Ti', 'Tl', 'U', 'V', 'W', 'Xe', 'Zn'], dtype=object)"
      ]
     },
     "execution_count": 5,
     "metadata": {},
     "output_type": "execute_result"
    }
   ],
   "source": [
    "np.unique(input_data['Atom'])"
   ]
  },
  {
   "cell_type": "code",
   "execution_count": 6,
   "id": "639c030b",
   "metadata": {},
   "outputs": [
    {
     "name": "stderr",
     "output_type": "stream",
     "text": [
      "/var/folders/yy/r2ql1k410r7b95r_qpb4t3980000gn/T/ipykernel_33374/2703869445.py:13: DeprecationWarning: __array__ implementation doesn't accept a copy keyword, so passing copy=False failed. __array__ must implement 'dtype' and 'copy' keyword arguments. To learn more, see the migration guide https://numpy.org/devdocs/numpy_2_0_migration_guide.html#adapting-to-changes-in-the-copy-keyword\n",
      "  embeddings.append(np.array(final_embedding))\n"
     ]
    }
   ],
   "source": [
    "# N=30, Random\n",
    "\n",
    "embeddings = []\n",
    "\n",
    "for i in range(len(input_data['Atom'])):\n",
    "    try:\n",
    "        atom_vector = torch.tensor(model_atoms_30.vectors[model_atoms_30.dictionary[input_data['Atom'][i]]], dtype=torch.float32)\n",
    "    except:\n",
    "        atom_vector = torch.tensor(np.zeros(30), dtype=torch.float32)\n",
    "        #print(input_data['Atom'][i])\n",
    "    orbital_vector = torch.tensor(orbital_vectors_rand[input_data['Orbital'][i]], dtype=torch.float32)\n",
    "    final_embedding = torch.cat((atom_vector, orbital_vector))\n",
    "    embeddings.append(np.array(final_embedding))\n",
    "\n",
    "embd = {'Atoms': input_data['Atom'], 'Orbital': input_data['Orbital'], 'Embeddings': embeddings}\n",
    "embd = pd.DataFrame(embd)\n",
    "embd[embd[\"Atoms\"] == \"Tl\"]\n",
    "\n",
    "embd.to_csv('./New_embeddings/final_embedding_dim30_random-orbital.csv', index=False, header = True)\n",
    "\n"
   ]
  },
  {
   "cell_type": "code",
   "execution_count": 7,
   "id": "7e172237",
   "metadata": {},
   "outputs": [
    {
     "name": "stderr",
     "output_type": "stream",
     "text": [
      "/var/folders/yy/r2ql1k410r7b95r_qpb4t3980000gn/T/ipykernel_33374/626731843.py:18: DeprecationWarning: __array__ implementation doesn't accept a copy keyword, so passing copy=False failed. __array__ must implement 'dtype' and 'copy' keyword arguments. To learn more, see the migration guide https://numpy.org/devdocs/numpy_2_0_migration_guide.html#adapting-to-changes-in-the-copy-keyword\n",
      "  embeddings.append(np.array(final_embedding))\n"
     ]
    }
   ],
   "source": [
    "# N=30, One Hot\n",
    "\n",
    "embeddings = []\n",
    "one_hot_check = []\n",
    "\n",
    "for i in range(len(input_data['Atom'])):\n",
    "    try:\n",
    "        atom_vector = torch.tensor(model_atoms_30.vectors[model_atoms_30.dictionary[input_data['Atom'][i]]], dtype=torch.float32)\n",
    "    except:\n",
    "        atom_vector = torch.tensor(np.zeros(30), dtype=torch.float32)\n",
    "        #print(input_data['Atom'][i])\n",
    "    orbital_vector = torch.tensor(orbital_vectors_onehot[input_data['Orbital'][i]], dtype=torch.float32)\n",
    "    if orbital_vector in one_hot_check:\n",
    "        orbital_vector = torch.tensor(orbital_vectors[input_data['Orbital'][i]], dtype=torch.float32)\n",
    "        one_hot_check.append(orbital_vector)\n",
    "\n",
    "    final_embedding = torch.cat((atom_vector, orbital_vector))\n",
    "    embeddings.append(np.array(final_embedding))\n",
    "\n",
    "embd = {'Atoms': input_data['Atom'], 'Orbital': input_data['Orbital'], 'Embeddings': embeddings}\n",
    "embd = pd.DataFrame(embd)\n",
    "embd[embd[\"Atoms\"] == \"Tl\"]\n",
    "\n",
    "embd.to_csv('./New_embeddings/final_embedding_dim30_one-hot-orbital.csv', index=False, header = True)\n",
    "\n"
   ]
  },
  {
   "cell_type": "code",
   "execution_count": 8,
   "id": "db5010f2",
   "metadata": {},
   "outputs": [
    {
     "name": "stderr",
     "output_type": "stream",
     "text": [
      "/var/folders/yy/r2ql1k410r7b95r_qpb4t3980000gn/T/ipykernel_33374/66290559.py:12: DeprecationWarning: __array__ implementation doesn't accept a copy keyword, so passing copy=False failed. __array__ must implement 'dtype' and 'copy' keyword arguments. To learn more, see the migration guide https://numpy.org/devdocs/numpy_2_0_migration_guide.html#adapting-to-changes-in-the-copy-keyword\n",
      "  embeddings.append(np.array(final_embedding))\n"
     ]
    }
   ],
   "source": [
    "# 200 dim, Induced, Random\n",
    "embeddings = []\n",
    "\n",
    "for i in range(len(input_data['Atom'])):\n",
    "    try:\n",
    "        atom_vector = torch.tensor(model_atoms_200_induced.vectors[model_atoms_200_induced.dictionary[input_data['Atom'][i]]], dtype=torch.float32)\n",
    "    except:\n",
    "        atom_vector = torch.tensor(np.zeros(200), dtype=torch.float32)\n",
    "        #print(input_data['Atoms'][i])\n",
    "    orbital_vector = torch.tensor(orbital_vectors_rand[input_data['Orbital'][i]], dtype=torch.float32)\n",
    "    final_embedding = torch.cat((atom_vector, orbital_vector))\n",
    "    embeddings.append(np.array(final_embedding))\n",
    "\n",
    "embd = {'Atoms': input_data['Atom'], 'Orbital': input_data['Orbital'], 'Embeddings': embeddings}\n",
    "embd = pd.DataFrame(embd)\n",
    "embd.to_csv('./New_embeddings/final_embedding_dim200_random-orbital_induced.csv', index=False, header = True)"
   ]
  },
  {
   "cell_type": "code",
   "execution_count": 9,
   "id": "a81b61e3",
   "metadata": {},
   "outputs": [
    {
     "name": "stderr",
     "output_type": "stream",
     "text": [
      "/var/folders/yy/r2ql1k410r7b95r_qpb4t3980000gn/T/ipykernel_33374/1052801397.py:12: DeprecationWarning: __array__ implementation doesn't accept a copy keyword, so passing copy=False failed. __array__ must implement 'dtype' and 'copy' keyword arguments. To learn more, see the migration guide https://numpy.org/devdocs/numpy_2_0_migration_guide.html#adapting-to-changes-in-the-copy-keyword\n",
      "  embeddings.append(np.array(final_embedding))\n"
     ]
    }
   ],
   "source": [
    "# 200 dim, Induced, One Hot\n",
    "embeddings = []\n",
    "\n",
    "for i in range(len(input_data['Atom'])):\n",
    "    try:\n",
    "        atom_vector = torch.tensor(model_atoms_200_induced.vectors[model_atoms_200_induced.dictionary[input_data['Atom'][i]]], dtype=torch.float32)\n",
    "    except:\n",
    "        atom_vector = torch.tensor(np.zeros(200), dtype=torch.float32)\n",
    "        #print(input_data['Atoms'][i])\n",
    "    orbital_vector = torch.tensor(orbital_vectors_onehot[input_data['Orbital'][i]], dtype=torch.float32)\n",
    "    final_embedding = torch.cat((atom_vector, orbital_vector))\n",
    "    embeddings.append(np.array(final_embedding))\n",
    "\n",
    "embd = {'Atoms': input_data['Atom'], 'Orbital': input_data['Orbital'], 'Embeddings': embeddings}\n",
    "embd = pd.DataFrame(embd)\n",
    "embd.to_csv('./New_embeddings/final_embedding_dim200_One-hot-orbital_induced.csv', index=False, header = True)"
   ]
  },
  {
   "cell_type": "code",
   "execution_count": 10,
   "id": "593bf0a2",
   "metadata": {},
   "outputs": [
    {
     "name": "stderr",
     "output_type": "stream",
     "text": [
      "/var/folders/yy/r2ql1k410r7b95r_qpb4t3980000gn/T/ipykernel_33374/744944856.py:12: DeprecationWarning: __array__ implementation doesn't accept a copy keyword, so passing copy=False failed. __array__ must implement 'dtype' and 'copy' keyword arguments. To learn more, see the migration guide https://numpy.org/devdocs/numpy_2_0_migration_guide.html#adapting-to-changes-in-the-copy-keyword\n",
      "  embeddings.append(np.array(final_embedding))\n"
     ]
    }
   ],
   "source": [
    "# 200 dim, Not-Induced, Random\n",
    "embeddings = []\n",
    "\n",
    "for i in range(len(input_data['Atom'])):\n",
    "    try:\n",
    "        atom_vector = torch.tensor(model_atoms_200_notinduced.vectors[model_atoms_200_notinduced.dictionary[input_data['Atom'][i]]], dtype=torch.float32)\n",
    "    except:\n",
    "        atom_vector = torch.tensor(np.zeros(200), dtype=torch.float32)\n",
    "        #print(input_data['Atoms'][i])\n",
    "    orbital_vector = torch.tensor(orbital_vectors_rand[input_data['Orbital'][i]], dtype=torch.float32)\n",
    "    final_embedding = torch.cat((atom_vector, orbital_vector))\n",
    "    embeddings.append(np.array(final_embedding))\n",
    "\n",
    "embd = {'Atoms': input_data['Atom'], 'Orbital': input_data['Orbital'], 'Embeddings': embeddings}\n",
    "embd = pd.DataFrame(embd)\n",
    "embd.to_csv('./New_embeddings/final_embedding_dim200_random-orbital_not-induced.csv', index=False, header = True)"
   ]
  },
  {
   "cell_type": "code",
   "execution_count": 11,
   "id": "062df880",
   "metadata": {},
   "outputs": [
    {
     "name": "stderr",
     "output_type": "stream",
     "text": [
      "/var/folders/yy/r2ql1k410r7b95r_qpb4t3980000gn/T/ipykernel_33374/3281934215.py:12: DeprecationWarning: __array__ implementation doesn't accept a copy keyword, so passing copy=False failed. __array__ must implement 'dtype' and 'copy' keyword arguments. To learn more, see the migration guide https://numpy.org/devdocs/numpy_2_0_migration_guide.html#adapting-to-changes-in-the-copy-keyword\n",
      "  embeddings.append(np.array(final_embedding))\n"
     ]
    }
   ],
   "source": [
    "# 200 dim, Not-Induced, One Hot\n",
    "embeddings = []\n",
    "\n",
    "for i in range(len(input_data['Atom'])):\n",
    "    try:\n",
    "        atom_vector = torch.tensor(model_atoms_200_notinduced.vectors[model_atoms_200_notinduced.dictionary[input_data['Atom'][i]]], dtype=torch.float32)\n",
    "    except:\n",
    "        atom_vector = torch.tensor(np.zeros(200), dtype=torch.float32)\n",
    "        #print(input_data['Atoms'][i])\n",
    "    orbital_vector = torch.tensor(orbital_vectors_onehot[input_data['Orbital'][i]], dtype=torch.float32)\n",
    "    final_embedding = torch.cat((atom_vector, orbital_vector))\n",
    "    embeddings.append(np.array(final_embedding))\n",
    "\n",
    "embd = {'Atoms': input_data['Atom'], 'Orbital': input_data['Orbital'], 'Embeddings': embeddings}\n",
    "embd = pd.DataFrame(embd)\n",
    "embd.to_csv('./New_embeddings/final_embedding_dim200_One-hot-orbital_not-induced.csv', index=False, header = True)"
   ]
  },
  {
   "cell_type": "code",
   "execution_count": null,
   "id": "f8662828",
   "metadata": {},
   "outputs": [],
   "source": []
  }
 ],
 "metadata": {
  "kernelspec": {
   "display_name": "hackathon",
   "language": "python",
   "name": "python3"
  },
  "language_info": {
   "codemirror_mode": {
    "name": "ipython",
    "version": 3
   },
   "file_extension": ".py",
   "mimetype": "text/x-python",
   "name": "python",
   "nbconvert_exporter": "python",
   "pygments_lexer": "ipython3",
   "version": "3.13.2"
  }
 },
 "nbformat": 4,
 "nbformat_minor": 5
}
