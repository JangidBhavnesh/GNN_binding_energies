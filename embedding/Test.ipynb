{
 "cells": [
  {
   "cell_type": "code",
   "execution_count": 2,
   "id": "e65c9015",
   "metadata": {},
   "outputs": [],
   "source": [
    "import skipatom as sa\n",
    "import pandas as pd\n",
    "from skipatom import SkipAtomInducedModel\n",
    "from skipatom import RandomVectors\n",
    "import torch\n",
    "import numpy as np\n",
    "import random"
   ]
  },
  {
   "cell_type": "code",
   "execution_count": 3,
   "id": "97bca0a0",
   "metadata": {},
   "outputs": [],
   "source": [
    "input_data = pd.read_csv('./atomic_binding_energies.csv')"
   ]
  },
  {
   "cell_type": "code",
   "execution_count": 4,
   "id": "837af521",
   "metadata": {},
   "outputs": [],
   "source": [
    "model_atoms = SkipAtomInducedModel.load(\n",
    "    \"embedding_data/mp_2020_10_09.dim200.model\", \n",
    "    \"embedding_data/mp_2020_10_09.training.data\", \n",
    "    min_count=2e7, top_n=5)\n",
    "\n",
    "# Get the unique orbitals\n",
    "unique_orbitals = list(np.unique(input_data['Orbital']))"
   ]
  },
  {
   "cell_type": "code",
   "execution_count": 5,
   "id": "4d97cfd5",
   "metadata": {},
   "outputs": [],
   "source": [
    "# Function to generate random vectors (for example, 3D vectors)\n",
    "def generate_random_vector(dim=1):\n",
    "    return [random.uniform(0, 1) for _ in range(dim)]\n",
    "\n",
    "# Assign random vectors to each string in the list\n",
    "orbital_vectors = {orbital: generate_random_vector() for orbital in unique_orbitals}\n"
   ]
  },
  {
   "cell_type": "code",
   "execution_count": 6,
   "id": "65d296c1",
   "metadata": {},
   "outputs": [
    {
     "name": "stdout",
     "output_type": "stream",
     "text": [
      "dict_keys(['Si', 'C', 'Pb', 'I', 'Br', 'Cl', 'Eu', 'O', 'Fe', 'Sb', 'In', 'S', 'N', 'U', 'Mn', 'Lu', 'Se', 'Tl', 'Hf', 'Ir', 'Ca', 'Ta', 'Cr', 'K', 'Pm', 'Mg', 'Zn', 'Cu', 'Sn', 'Ti', 'B', 'W', 'P', 'H', 'Pd', 'As', 'Co', 'Np', 'Tc', 'Hg', 'Pu', 'Al', 'Tm', 'Tb', 'Ho', 'Nb', 'Ge', 'Zr', 'Cd', 'V', 'Sr', 'Ni', 'Rh', 'Th', 'Na', 'Ru', 'La', 'Re', 'Y', 'Er', 'Ce', 'Pt', 'Ga', 'Li', 'Cs', 'F', 'Ba', 'Te', 'Mo', 'Gd', 'Pr', 'Bi', 'Sc', 'Ag', 'Rb', 'Dy', 'Yb', 'Nd', 'Au', 'Os', 'Pa', 'Sm', 'Be', 'Ac', 'Xe', 'Kr'])\n"
     ]
    }
   ],
   "source": [
    "# Print all keys in model.dictionary\n",
    "print(model_atoms.dictionary.keys())\n"
   ]
  },
  {
   "cell_type": "code",
   "execution_count": 11,
   "id": "639c030b",
   "metadata": {},
   "outputs": [
    {
     "name": "stdout",
     "output_type": "stream",
     "text": [
      "Ne\n",
      "Ar\n",
      "Ne\n",
      "Ar\n"
     ]
    },
    {
     "name": "stderr",
     "output_type": "stream",
     "text": [
      "/var/folders/yy/r2ql1k410r7b95r_qpb4t3980000gn/T/ipykernel_23162/1818184346.py:11: DeprecationWarning: __array__ implementation doesn't accept a copy keyword, so passing copy=False failed. __array__ must implement 'dtype' and 'copy' keyword arguments. To learn more, see the migration guide https://numpy.org/devdocs/numpy_2_0_migration_guide.html#adapting-to-changes-in-the-copy-keyword\n",
      "  embeddings.append(np.array(final_embedding))\n"
     ]
    }
   ],
   "source": [
    "embeddings = []\n",
    "\n",
    "for i in range(len(input_data['Atoms'])):\n",
    "    try:\n",
    "        atom_vector = torch.tensor(model_atoms.vectors[model_atoms.dictionary[input_data['Atoms'][i]]], dtype=torch.float32)\n",
    "    except:\n",
    "        atom_vector = torch.tensor(np.zeros(200), dtype=torch.float32)\n",
    "        print(input_data['Atoms'][i])\n",
    "    orbital_vector = torch.tensor(orbital_vectors[input_data['Orbital'][i]], dtype=torch.float32)\n",
    "    final_embedding = torch.cat((atom_vector, orbital_vector))\n",
    "    embeddings.append(np.array(final_embedding))\n"
   ]
  },
  {
   "cell_type": "code",
   "execution_count": 12,
   "id": "4dd309a9",
   "metadata": {},
   "outputs": [],
   "source": [
    "embd = {'Atoms': input_data['Atoms'], 'Orbital': input_data['Orbital'], 'Embeddings': embeddings}\n",
    "embd = pd.DataFrame(embd)\n",
    "embd.to_csv('final_embedding.csv', index=False, header = True)"
   ]
  },
  {
   "cell_type": "code",
   "execution_count": null,
   "id": "810481f7",
   "metadata": {},
   "outputs": [],
   "source": []
  }
 ],
 "metadata": {
  "kernelspec": {
   "display_name": "hackathon",
   "language": "python",
   "name": "python3"
  },
  "language_info": {
   "codemirror_mode": {
    "name": "ipython",
    "version": 3
   },
   "file_extension": ".py",
   "mimetype": "text/x-python",
   "name": "python",
   "nbconvert_exporter": "python",
   "pygments_lexer": "ipython3",
   "version": "3.13.2"
  }
 },
 "nbformat": 4,
 "nbformat_minor": 5
}
