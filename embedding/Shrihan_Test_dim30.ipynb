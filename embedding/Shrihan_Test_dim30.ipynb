{
 "cells": [
  {
   "cell_type": "code",
   "execution_count": 3,
   "id": "e65c9015",
   "metadata": {},
   "outputs": [],
   "source": [
    "import skipatom as sa\n",
    "import pandas as pd\n",
    "from skipatom import SkipAtomInducedModel\n",
    "from skipatom import AtomVectors\n",
    "import torch\n",
    "import numpy as np\n",
    "import random"
   ]
  },
  {
   "cell_type": "code",
   "execution_count": 4,
   "id": "97bca0a0",
   "metadata": {},
   "outputs": [],
   "source": [
    "input_data = pd.read_csv('./atomic_binding_energies.csv')"
   ]
  },
  {
   "cell_type": "code",
   "execution_count": 6,
   "id": "837af521",
   "metadata": {},
   "outputs": [],
   "source": [
    "model_atoms = AtomVectors.load(\"embedding_data/atom2vec.dim30.model\")\n",
    "\n",
    "# Get the unique orbitals\n",
    "unique_orbitals = list(np.unique(input_data['Orbital']))"
   ]
  },
  {
   "cell_type": "code",
   "execution_count": 7,
   "id": "fcfca572",
   "metadata": {},
   "outputs": [
    {
     "data": {
      "text/plain": [
       "87"
      ]
     },
     "execution_count": 7,
     "metadata": {},
     "output_type": "execute_result"
    }
   ],
   "source": [
    "len(model_atoms.dictionary)"
   ]
  },
  {
   "cell_type": "code",
   "execution_count": null,
   "id": "4d97cfd5",
   "metadata": {},
   "outputs": [],
   "source": [
    "def generate_random_vector(dim=1):\n",
    "    return [random.uniform(0, 1) for _ in range(dim)]\n",
    "\n",
    "orbital_vectors = {orbital: generate_random_vector() for orbital in unique_orbitals}\n"
   ]
  },
  {
   "cell_type": "code",
   "execution_count": 9,
   "id": "65d296c1",
   "metadata": {},
   "outputs": [
    {
     "name": "stdout",
     "output_type": "stream",
     "text": [
      "dict_keys(['H', 'He', 'Li', 'Be', 'B', 'C', 'N', 'O', 'F', 'Na', 'Mg', 'Al', 'Si', 'P', 'S', 'Cl', 'K', 'Ca', 'Sc', 'Ti', 'V', 'Cr', 'Mn', 'Fe', 'Co', 'Ni', 'Cu', 'Zn', 'Ga', 'Ge', 'As', 'Se', 'Br', 'Kr', 'Rb', 'Sr', 'Y', 'Zr', 'Nb', 'Mo', 'Tc', 'Ru', 'Rh', 'Pd', 'Ag', 'Cd', 'In', 'Sn', 'Sb', 'Te', 'I', 'Xe', 'Cs', 'Ba', 'La', 'Ce', 'Pr', 'Nd', 'Pm', 'Sm', 'Eu', 'Gd', 'Tb', 'Dy', 'Ho', 'Er', 'Tm', 'Yb', 'Lu', 'Hf', 'Ta', 'W', 'Re', 'Os', 'Ir', 'Pt', 'Au', 'Hg', 'Tl', 'Pb', 'Bi', 'Ac', 'Th', 'Pa', 'U', 'Np', 'Pu'])\n"
     ]
    }
   ],
   "source": [
    "print(model_atoms.dictionary.keys())\n"
   ]
  },
  {
   "cell_type": "code",
   "execution_count": 10,
   "id": "639c030b",
   "metadata": {},
   "outputs": [
    {
     "name": "stdout",
     "output_type": "stream",
     "text": [
      "Ne\n",
      "Ar\n",
      "Ne\n",
      "Ar\n"
     ]
    }
   ],
   "source": [
    "embeddings = []\n",
    "\n",
    "for i in range(len(input_data['Atoms'])):\n",
    "    try:\n",
    "        atom_vector = torch.tensor(model_atoms.vectors[model_atoms.dictionary[input_data['Atoms'][i]]], dtype=torch.float32)\n",
    "    except:\n",
    "        atom_vector = torch.tensor(np.zeros(200), dtype=torch.float32)\n",
    "        print(input_data['Atoms'][i])\n",
    "    orbital_vector = torch.tensor(orbital_vectors[input_data['Orbital'][i]], dtype=torch.float32)\n",
    "    final_embedding = torch.cat((atom_vector, orbital_vector))\n",
    "    embeddings.append(np.array(final_embedding))\n"
   ]
  },
  {
   "cell_type": "code",
   "execution_count": 11,
   "id": "4dd309a9",
   "metadata": {},
   "outputs": [],
   "source": [
    "embd = {'Atoms': input_data['Atoms'], 'Orbital': input_data['Orbital'], 'Embeddings': embeddings}\n",
    "embd = pd.DataFrame(embd)\n",
    "embd.to_csv('final_embedding_dim30.csv', index=False, header = True)"
   ]
  },
  {
   "cell_type": "code",
   "execution_count": null,
   "id": "810481f7",
   "metadata": {},
   "outputs": [],
   "source": []
  }
 ],
 "metadata": {
  "kernelspec": {
   "display_name": "shri_gnnpytorch",
   "language": "python",
   "name": "python3"
  },
  "language_info": {
   "codemirror_mode": {
    "name": "ipython",
    "version": 3
   },
   "file_extension": ".py",
   "mimetype": "text/x-python",
   "name": "python",
   "nbconvert_exporter": "python",
   "pygments_lexer": "ipython3",
   "version": "3.11.4"
  }
 },
 "nbformat": 4,
 "nbformat_minor": 5
}
