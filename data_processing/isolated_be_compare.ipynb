{
 "cells": [
  {
   "cell_type": "code",
   "execution_count": 1,
   "id": "edab51fb",
   "metadata": {},
   "outputs": [],
   "source": [
    "import networkx as nx\n",
    "import json\n",
    "import numpy as np\n",
    "import pandas as pd\n",
    "import copy\n",
    "import matplotlib.pyplot as plt"
   ]
  },
  {
   "cell_type": "markdown",
   "id": "295ea28d",
   "metadata": {},
   "source": [
    "Load networkx graphs"
   ]
  },
  {
   "cell_type": "code",
   "execution_count": 2,
   "id": "67a55cbe",
   "metadata": {},
   "outputs": [],
   "source": [
    "def load_data_from_file(filename):\n",
    "    with open(filename, \"r\") as file_handle:\n",
    "        string_dict = json.load(file_handle)\n",
    "    return _load_data_from_string_dict(string_dict)\n",
    "\n",
    "def _load_data_from_string_dict(string_dict):\n",
    "    result_dict = {}\n",
    "    for key in string_dict:\n",
    "        data = copy.deepcopy(string_dict[key])\n",
    "        if 'edges' in data:\n",
    "            data[\"links\"] = data.pop(\"edges\")\n",
    "        graph = nx.node_link_graph(data)\n",
    "        result_dict[key] = graph\n",
    "    return result_dict"
   ]
  },
  {
   "cell_type": "code",
   "execution_count": 3,
   "id": "4e491a2b",
   "metadata": {},
   "outputs": [],
   "source": [
    "# dictionary of SMILES and values are graphs\n",
    "loaddir = \"../data/graphs/\"\n",
    "train_data = load_data_from_file(loaddir+\"cleaned_graph_data.json\") "
   ]
  },
  {
   "cell_type": "markdown",
   "id": "0d60bd7f",
   "metadata": {},
   "source": [
    "Pick out isolated atoms"
   ]
  },
  {
   "cell_type": "code",
   "execution_count": 4,
   "id": "150e1cce",
   "metadata": {},
   "outputs": [],
   "source": [
    "isolated_atoms = {}\n",
    "\n",
    "for mol in train_data:\n",
    "    if len(train_data[mol].nodes)==1:\n",
    "        isolated_atoms[mol] = train_data[mol]"
   ]
  },
  {
   "cell_type": "markdown",
   "id": "4dba32ab",
   "metadata": {},
   "source": [
    "Lookup table for isolated atoms"
   ]
  },
  {
   "cell_type": "code",
   "execution_count": 5,
   "id": "0e129ee7",
   "metadata": {},
   "outputs": [],
   "source": [
    "# Lookup table for isolated binding energies\n",
    "iso_be_df = pd.read_csv('../data/lookups/lwnl.csv')"
   ]
  },
  {
   "cell_type": "code",
   "execution_count": 6,
   "id": "c43c116f",
   "metadata": {},
   "outputs": [
    {
     "name": "stdout",
     "output_type": "stream",
     "text": [
      "Ca,2p3/2 not in lookup!\n",
      "Ca,2s not in lookup!\n",
      "Ca,3p3/2 not in lookup!\n",
      "Cd,3p not in lookup!\n",
      "Ge,3d not in lookup!\n",
      "Mg,1s not in lookup!\n",
      "Mn,2p3/2 not in lookup!\n",
      "Na,1s not in lookup!\n",
      "Na,2s not in lookup!\n",
      "Se,3d not in lookup!\n",
      "Si,2p not in lookup!\n",
      "Sr,3d5/2 not in lookup!\n",
      "Sr,3p3/2 not in lookup!\n",
      "Sr,4p3/2 not in lookup!\n"
     ]
    }
   ],
   "source": [
    "atom_orb_list = []\n",
    "be_list = []\n",
    "be_lookup_list = []\n",
    "\n",
    "for mol in isolated_atoms:\n",
    "    node = isolated_atoms[mol].nodes[0]\n",
    "    atom = node['atom_type']\n",
    "    \n",
    "    for orb, be in zip(node['orbitals'], node['binding_energies']):\n",
    "        \n",
    "        be_lookup = iso_be_df[(iso_be_df['Element']==atom) & (iso_be_df['Orbital']==orb)]['Binding Energy']\n",
    "        \n",
    "        if len(be_lookup)>0:\n",
    "            atom_orb_list.append((atom, orb))\n",
    "            be_list.append(be)\n",
    "            be_lookup_list.append(float(be_lookup))\n",
    "        else:\n",
    "            print(atom + ',' + orb + ' not in lookup!')\n",
    "            \n",
    "be_list = np.array(be_list)\n",
    "be_lookup_list = np.array(be_lookup_list)\n",
    "be_diff = np.round(be_list-be_lookup_list, 1)\n",
    "\n",
    "atom_orb_list = [ao for _, ao in sorted(zip(np.abs(be_diff), atom_orb_list), reverse=True)]\n",
    "be_list = [be for _, be in sorted(zip(np.abs(be_diff), be_list), reverse=True)]\n",
    "be_lookup_list = [be_lu for _, be_lu in sorted(zip(np.abs(be_diff), be_lookup_list), reverse=True)]\n",
    "be_diff = [be_d for _, be_d in sorted(zip(np.abs(be_diff), be_diff), reverse=True)]"
   ]
  },
  {
   "cell_type": "code",
   "execution_count": 12,
   "id": "7f2fa038",
   "metadata": {},
   "outputs": [
    {
     "data": {
      "text/plain": [
       "52"
      ]
     },
     "execution_count": 12,
     "metadata": {},
     "output_type": "execute_result"
    }
   ],
   "source": [
    "len(atom_orb_list)"
   ]
  },
  {
   "cell_type": "code",
   "execution_count": 7,
   "id": "78a0ca61",
   "metadata": {},
   "outputs": [
    {
     "data": {
      "text/plain": [
       "Text(0, 0.5, '$\\\\Delta$BE (training-lookup)')"
      ]
     },
     "execution_count": 7,
     "metadata": {},
     "output_type": "execute_result"
    },
    {
     "data": {
      "image/png": "[encoded data removed]",
      "text/plain": [
       "<Figure size 400x400 with 1 Axes>"
      ]
     },
     "metadata": {},
     "output_type": "display_data"
    }
   ],
   "source": [
    "fig, ax = plt.subplots(1, figsize=(4,4))\n",
    "\n",
    "ax.scatter(be_list, be_diff)\n",
    "\n",
    "ax.set_xlabel('BE (training)')\n",
    "ax.set_ylabel(r'$\\Delta$BE (training-lookup)')"
   ]
  },
  {
   "cell_type": "code",
   "execution_count": 11,
   "id": "7fa3f48a",
   "metadata": {},
   "outputs": [
    {
     "name": "stdout",
     "output_type": "stream",
     "text": [
      "(atom, orb), training, lookup, diff\n",
      "------------------------------------\n",
      "('P', '2p3/2') 2150 135.0 2015.0\n",
      "('Mg', '2p3/2') 1311 49.5 1261.5\n",
      "('Mg', '2s') 1311 88.7 1222.3\n",
      "('Zn', '3p3/2') 1031 88.6 942.4\n",
      "('Ne', '2s') 870 48.5 821.5\n",
      "('Xe', '4p3/2') 940 145.5 794.5\n",
      "('Hg', '4s') 107 802.2 -695.2\n",
      "('Xe', '4d5/2') 676 67.5 608.5\n",
      "('I', '4d5/2') 627 48.9 578.1\n",
      "('Hg', '4f7/2') 583 99.9 483.1\n"
     ]
    }
   ],
   "source": [
    "print('(atom, orb), training, lookup, diff')\n",
    "print('------------------------------------')\n",
    "\n",
    "for i in range(10):\n",
    "    \n",
    "    ao = atom_orb_list[i]\n",
    "    be = be_list[i]\n",
    "    be_lu = be_lookup_list[i]\n",
    "    be_d = be_diff[i]\n",
    "\n",
    "    print(ao, be, be_lu, be_d)"
   ]
  },
  {
   "cell_type": "code",
   "execution_count": null,
   "id": "dc1edaec",
   "metadata": {},
   "outputs": [],
   "source": []
  }
 ],
 "metadata": {
  "kernelspec": {
   "display_name": "Python 3 (ipykernel)",
   "language": "python",
   "name": "python3"
  },
  "language_info": {
   "codemirror_mode": {
    "name": "ipython",
    "version": 3
   },
   "file_extension": ".py",
   "mimetype": "text/x-python",
   "name": "python",
   "nbconvert_exporter": "python",
   "pygments_lexer": "ipython3",
   "version": "3.9.13"
  }
 },
 "nbformat": 4,
 "nbformat_minor": 5
}
