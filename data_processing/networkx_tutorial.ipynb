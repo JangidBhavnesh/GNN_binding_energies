{
 "cells": [
  {
   "cell_type": "markdown",
   "metadata": {},
   "source": [
    "This is our data and how networkx parses through our data. I am exploring the data so I can understanding networkx and then move on to data analysis."
   ]
  },
  {
   "cell_type": "code",
   "execution_count": 41,
   "metadata": {},
   "outputs": [],
   "source": [
    "import networkx as nx\n",
    "import helper\n",
    "\n",
    "train_data = helper.load_data_from_file(\"../data/graph_data.json\") # dictionary of SMILES and values are graphs\n",
    "\n",
    "graph = train_data[\"B1(C2=C(C=CS2)C=NN1C)C\"] # example of networkx graph"
   ]
  },
  {
   "cell_type": "code",
   "execution_count": 42,
   "metadata": {},
   "outputs": [
    {
     "data": {
      "text/plain": [
       "<networkx.classes.graph.Graph at 0x7f4d759164a0>"
      ]
     },
     "execution_count": 42,
     "metadata": {},
     "output_type": "execute_result"
    }
   ],
   "source": [
    "# Graph is a netowrkx class\n",
    "graph"
   ]
  },
  {
   "cell_type": "code",
   "execution_count": 43,
   "metadata": {},
   "outputs": [
    {
     "name": "stdout",
     "output_type": "stream",
     "text": [
      "B1(C2=C(C=CS2)C=NN1C)C : Graph with 11 nodes and 12 edges\n",
      "[B-](C)(C)(C)C#[N+]C(C)(C)C : Graph with 10 nodes and 9 edges\n"
     ]
    }
   ],
   "source": [
    "# Training data is currently a dictionary of SMILES strings and corresponding graphs\n",
    "for i in range(23, 25):\n",
    "    r = list(train_data.keys())[i]\n",
    "    print(r, \":\" , train_data[r])\n",
    "    "
   ]
  },
  {
   "cell_type": "code",
   "execution_count": 44,
   "metadata": {},
   "outputs": [
    {
     "data": {
      "image/png": "[encoded data removed]",
      "text/plain": [
       "<IPython.core.display.Image object>"
      ]
     },
     "metadata": {},
     "output_type": "display_data"
    }
   ],
   "source": [
    "from IPython.display import Image, display\n",
    "\n",
    "# Smiles to image converter: http://hulab.rxnfinder.org/smi2img/\n",
    "\n",
    "# B1(C2=C(C=CS2)C=NN1C)C\n",
    "display(Image(filename='tempimg.png'))"
   ]
  },
  {
   "cell_type": "code",
   "execution_count": 45,
   "metadata": {},
   "outputs": [
    {
     "data": {
      "text/plain": [
       "NodeView((0, 1, 2, 3, 4, 5, 6, 7, 8, 9, 10))"
      ]
     },
     "execution_count": 45,
     "metadata": {},
     "output_type": "execute_result"
    }
   ],
   "source": [
    "# graph nodes\n",
    "graph.nodes"
   ]
  },
  {
   "cell_type": "code",
   "execution_count": 46,
   "metadata": {},
   "outputs": [
    {
     "data": {
      "text/plain": [
       "{'atom_type': 'B',\n",
       " 'formal_charge': 0,\n",
       " 'orbitals': ['1s'],\n",
       " 'binding_energies': [194.9]}"
      ]
     },
     "execution_count": 46,
     "metadata": {},
     "output_type": "execute_result"
    }
   ],
   "source": [
    "graph.nodes(data=True)[0] # get data for node 0 (Boron)"
   ]
  },
  {
   "cell_type": "code",
   "execution_count": 47,
   "metadata": {},
   "outputs": [
    {
     "data": {
      "text/plain": [
       "EdgeView([(0, 1), (0, 10), (0, 8), (1, 2), (1, 5), (2, 3), (2, 6), (3, 4), (4, 5), (6, 7), (7, 8), (8, 9)])"
      ]
     },
     "execution_count": 47,
     "metadata": {},
     "output_type": "execute_result"
    }
   ],
   "source": [
    "graph.edges"
   ]
  },
  {
   "cell_type": "code",
   "execution_count": 48,
   "metadata": {},
   "outputs": [
    {
     "data": {
      "text/plain": [
       "(1, 2, {'bond_type': 'DOUBLE'})"
      ]
     },
     "execution_count": 48,
     "metadata": {},
     "output_type": "execute_result"
    }
   ],
   "source": [
    "# bond types are 'SINGLE', 'DOUBLE', 'TRIPLE'\n",
    "list(graph.edges(data=True))[3]  # Get data for the first edge"
   ]
  },
  {
   "cell_type": "code",
   "execution_count": null,
   "metadata": {},
   "outputs": [],
   "source": [
    "# add edge to node 2\n",
    "graph.add_edge(2, 4, bond_type='SINGLE')"
   ]
  },
  {
   "cell_type": "code",
   "execution_count": 50,
   "metadata": {},
   "outputs": [
    {
     "data": {
      "text/plain": [
       "EdgeView([(0, 1), (0, 10), (0, 8), (1, 2), (1, 5), (2, 3), (2, 6), (2, 4), (3, 4), (4, 5), (6, 7), (7, 8), (8, 9)])"
      ]
     },
     "execution_count": 50,
     "metadata": {},
     "output_type": "execute_result"
    }
   ],
   "source": [
    "graph.edges"
   ]
  },
  {
   "cell_type": "code",
   "execution_count": 51,
   "metadata": {},
   "outputs": [
    {
     "data": {
      "text/plain": [
       "EdgeView([(0, 1), (0, 10), (0, 8), (1, 2), (1, 5), (2, 3), (2, 6), (3, 4), (4, 5), (6, 7), (7, 8), (8, 9)])"
      ]
     },
     "execution_count": 51,
     "metadata": {},
     "output_type": "execute_result"
    }
   ],
   "source": [
    "# remove edge from node 2\n",
    "graph.remove_edge(2, 4)\n",
    "graph.edges"
   ]
  },
  {
   "cell_type": "code",
   "execution_count": null,
   "metadata": {},
   "outputs": [
    {
     "data": {
      "text/plain": [
       "AtlasView({1: {'bond_type': 'DOUBLE'}, 3: {'bond_type': 'SINGLE'}, 6: {'bond_type': 'SINGLE'}})"
      ]
     },
     "metadata": {},
     "output_type": "display_data"
    }
   ],
   "source": [
    "graph[2] # get all edges for node 2"
   ]
  },
  {
   "cell_type": "code",
   "execution_count": null,
   "metadata": {},
   "outputs": [
    {
     "data": {
      "text/plain": [
       "{'bond_type': 'SINGLE'}"
      ]
     },
     "execution_count": 81,
     "metadata": {},
     "output_type": "execute_result"
    }
   ],
   "source": [
    "graph[2][3] # get data for edge 2,3"
   ]
  },
  {
   "cell_type": "code",
   "execution_count": 72,
   "metadata": {},
   "outputs": [
    {
     "data": {
      "text/plain": [
       "'B'"
      ]
     },
     "execution_count": 72,
     "metadata": {},
     "output_type": "execute_result"
    }
   ],
   "source": [
    "graph.nodes[0].get('atom_type') # get atom type for node 0 (Boron)"
   ]
  },
  {
   "cell_type": "code",
   "execution_count": 77,
   "metadata": {},
   "outputs": [],
   "source": [
    "# subgraph view of only carbon atoms\n",
    "subg = nx.graphviews.subgraph_view(graph, filter_node=lambda d: graph.nodes[d].get('atom_type') == 'C')"
   ]
  },
  {
   "cell_type": "code",
   "execution_count": 78,
   "metadata": {},
   "outputs": [
    {
     "data": {
      "text/plain": [
       "NodeDataView({1: {'atom_type': 'C', 'formal_charge': 0, 'orbitals': [-1], 'binding_energies': [-1]}, 2: {'atom_type': 'C', 'formal_charge': 0, 'orbitals': [-1], 'binding_energies': [-1]}, 3: {'atom_type': 'C', 'formal_charge': 0, 'orbitals': [-1], 'binding_energies': [-1]}, 4: {'atom_type': 'C', 'formal_charge': 0, 'orbitals': [-1], 'binding_energies': [-1]}, 6: {'atom_type': 'C', 'formal_charge': 0, 'orbitals': [-1], 'binding_energies': [-1]}, 9: {'atom_type': 'C', 'formal_charge': 0, 'orbitals': [-1], 'binding_energies': [-1]}, 10: {'atom_type': 'C', 'formal_charge': 0, 'orbitals': [-1], 'binding_energies': [-1]}})"
      ]
     },
     "execution_count": 78,
     "metadata": {},
     "output_type": "execute_result"
    }
   ],
   "source": [
    "subg.nodes(data=True) # get data for all nodes in the subgraph"
   ]
  },
  {
   "cell_type": "code",
   "execution_count": null,
   "metadata": {},
   "outputs": [],
   "source": []
  },
  {
   "cell_type": "code",
   "execution_count": null,
   "metadata": {},
   "outputs": [],
   "source": []
  },
  {
   "cell_type": "code",
   "execution_count": null,
   "metadata": {},
   "outputs": [],
   "source": []
  },
  {
   "cell_type": "code",
   "execution_count": null,
   "metadata": {},
   "outputs": [],
   "source": []
  },
  {
   "cell_type": "code",
   "execution_count": 5,
   "metadata": {},
   "outputs": [
    {
     "name": "stdout",
     "output_type": "stream",
     "text": [
      " \n",
      "We have 861 molecular graphs to train with.\n",
      "Please adhere to best practices during training.\n",
      "\n",
      "The networkx graphs in the graph_data.json file are lablled by SMILES strings\n",
      "For more details on SMILES, visit: https://en.wikipedia.org/wiki/Simplified_molecular-input_line-entry_system\n",
      "\n",
      "Below is an example of the graph nodes called by the SMILE string C[CH2-].C[CH2-].[Zn+2].\n",
      "\n",
      "Graph Nodes:\n",
      "Node 0: {'atom_type': 'C', 'formal_charge': 0, 'orbitals': [-1], 'binding_energies': [-1]}\n",
      "Node 1: {'atom_type': 'C', 'formal_charge': -1, 'orbitals': [-1], 'binding_energies': [-1]}\n",
      "Node 2: {'atom_type': 'C', 'formal_charge': 0, 'orbitals': [-1], 'binding_energies': [-1]}\n",
      "Node 3: {'atom_type': 'C', 'formal_charge': -1, 'orbitals': [-1], 'binding_energies': [-1]}\n",
      "Node 4: {'atom_type': 'Zn', 'formal_charge': 2, 'orbitals': ['3d5/2'], 'binding_energies': [16.709]}\n",
      "\n",
      "Graph Edges:\n",
      "Edge (0, 1): {'bond_type': 'SINGLE'}\n",
      "Edge (2, 3): {'bond_type': 'SINGLE'}\n",
      " \n",
      "Let's examine the organization of the nodes by printing node 0:\n",
      "Remember, the index has no inherent meaning;\n",
      "your results should be consistent even if these indices are permuted.\n",
      "Permutation Invariance!\n",
      "\n",
      "'atom_type', 'formal_charge' and 'orbitals' are the attributes available for node featurization, 'binding_energies' are the node labels to predict:\n",
      "\n",
      "\t'atom_type' represents the atomic number, or the number of protons in an atom's nucleus.\n",
      "\t\tThis number differentiates elements, e.g., 6 for carbon and 1 for hydrogen.\n",
      "\t\tThis dataset contains 55 different atom types, use a one-hot encoding vector of length 55,\n",
      "\t\t... or try different atom representations available in the literature (SkipAtom, Mat2Vec ...)\n",
      "\n",
      "\t'formal_charge' is the integer charge of the atom in the molecule.\n",
      "\n",
      "\t'orbitals' is a vector of the orbitals types with binding energy values.\n",
      "\t\tThe length of this vector is same length as the binding energies vector.\n",
      "\n",
      "\t'binding_energies' is a vector of the output node labels to predict.\n",
      "\n",
      "The binding energy data is sparse, many of the orbitals and binding energies above are assigned -1 dummy values.\n",
      "\n",
      "Furthermore, some graph nodes will have many binding energy values.\n",
      "There are even some single atom graphs in the data.\n",
      "For example the Xe atom (SMILE string [Xe]) has many binding energies:\n",
      "\n",
      "Graph for [Xe]:\n",
      "[(0, {'atom_type': 'Xe', 'formal_charge': 0, 'orbitals': ['3s', '3d5/2', '3p3/2', '4s', '4p3/2', '4d5/2'], 'binding_energies': [1148.7, 676.5133333333334, 940.6, 213.26, 145.505, 67.5]})]\n",
      " \n",
      "We suggest two ideas for handling the multidimensional nature of the outputs in the project presentation slides.\n",
      "\n",
      "For the edges, the 'bond_type' feature is categorical and given as a string.\n",
      "\n",
      "\tPossible types are SINGLE, DOUBLE, TRIPLE. use a one-hot encoding for the bond-types.\n",
      "\tIn the example above, Node 4 is not bonded to any other atoms.\n",
      "\tTherefore you should turn this data into fully connected graphs and create another 'bond_type' catergory called NONE.\n",
      "\n",
      "One possible way to improve the predictions is to include more features to the graphs\n",
      "This can be done through modifying database_2_graph.py, see the comment in line 323 of this code\n",
      "This would will reduce the size of the traning data as the modification will induce rdkit errors,\n",
      "for some molecules.\n",
      "\n",
      "The following google colab tutorial is good starting point for molecular graph neural networks in PyTorch:\n",
      "\n",
      "https://colab.research.google.com/github/chaitjo/geometric-gnn-dojo/blob/main/geometric_gnn_101.ipynb\n",
      "\n",
      "The conda envrionment for this project will enable you to run the code from this tutorial on the gpu's provided\n",
      "\n",
      "Only the intro and Part 0 of the tutorial is appliciable for this project, as the present data does not contain\n",
      "molecular geometry information.\n",
      "\n"
     ]
    }
   ],
   "source": [
    "print(\" \")\n",
    "print(f\"We have {len(train_data.keys())} molecular graphs to train with.\")\n",
    "print(\"Please adhere to best practices during training.\\n\")\n",
    "\n",
    "print(\"The networkx graphs in the graph_data.json file are lablled by SMILES strings\")\n",
    "print(\"For more details on SMILES, visit: https://en.wikipedia.org/wiki/Simplified_molecular-input_line-entry_system\\n\")\n",
    "print(\"Below is an example of the graph nodes called by the SMILE string C[CH2-].C[CH2-].[Zn+2].\\n\")\n",
    "\n",
    "print(\"Graph Nodes:\")\n",
    "for node, data in graph.nodes(data=True):\n",
    "     print(f\"Node {node}: {data}\")\n",
    "\n",
    "print(\"\\nGraph Edges:\")\n",
    "for u, v, data in graph.edges(data=True):  \n",
    "     print(f\"Edge ({u}, {v}): {data}\")\n",
    "print(\" \")\n",
    "\n",
    "print(\"Let's examine the organization of the nodes by printing node 0:\")\n",
    "print(\"Remember, the index has no inherent meaning;\")\n",
    "print(\"your results should be consistent even if these indices are permuted.\")\n",
    "print(\"Permutation Invariance!\\n\")\n",
    "\n",
    "print(\"'atom_type', 'formal_charge' and 'orbitals' are the attributes available for node featurization, 'binding_energies' are the node labels to predict:\\n\")\n",
    "print(\"\\t'atom_type' represents the atomic number, or the number of protons in an atom's nucleus.\")\n",
    "print(\"\\t\\tThis number differentiates elements, e.g., 6 for carbon and 1 for hydrogen.\")\n",
    "print(\"\\t\\tThis dataset contains 55 different atom types, use a one-hot encoding vector of length 55,\")\n",
    "print(\"\\t\\t... or try different atom representations available in the literature (SkipAtom, Mat2Vec ...)\\n\")\n",
    "\n",
    "print(\"\\t'formal_charge' is the integer charge of the atom in the molecule.\\n\")\n",
    "\n",
    "print(\"\\t'orbitals' is a vector of the orbitals types with binding energy values.\")\n",
    "print(\"\\t\\tThe length of this vector is same length as the binding energies vector.\\n\")\n",
    "\n",
    "print(\"\\t'binding_energies' is a vector of the output node labels to predict.\\n\")\n",
    "\n",
    "print(\"The binding energy data is sparse, many of the orbitals and binding energies above are assigned -1 dummy values.\\n\")\n",
    "\n",
    "print(\"Furthermore, some graph nodes will have many binding energy values.\")\n",
    "print(\"There are even some single atom graphs in the data.\")\n",
    "print(\"For example the Xe atom (SMILE string [Xe]) has many binding energies:\\n\")\n",
    "\n",
    "atom_graph = train_data[\"[Xe]\"]\n",
    "print(\"Graph for [Xe]:\")\n",
    "print(atom_graph.nodes(data=True))\n",
    "print(\" \")\n",
    "\n",
    "print(\"We suggest two ideas for handling the multidimensional nature of the outputs in the project presentation slides.\\n\") \n",
    "\n",
    "print(\"For the edges, the 'bond_type' feature is categorical and given as a string.\\n\") \n",
    "print(\"\\tPossible types are SINGLE, DOUBLE, TRIPLE. use a one-hot encoding for the bond-types.\")\n",
    "print(\"\\tIn the example above, Node 4 is not bonded to any other atoms.\") \n",
    "print(\"\\tTherefore you should turn this data into fully connected graphs and create another 'bond_type' catergory called NONE.\\n\")\n",
    "\n",
    "print(\"One possible way to improve the predictions is to include more features to the graphs\")\n",
    "print(\"This can be done through modifying database_2_graph.py, see the comment in line 323 of this code\")\n",
    "print(\"This would will reduce the size of the traning data as the modification will induce rdkit errors,\")\n",
    "print(\"for some molecules.\\n\")\n",
    "\n",
    "print(\"The following google colab tutorial is good starting point for molecular graph neural networks in PyTorch:\\n\")\n",
    "\n",
    "print(\"https://colab.research.google.com/github/chaitjo/geometric-gnn-dojo/blob/main/geometric_gnn_101.ipynb\")\n",
    "\n",
    "print(\"\\nThe conda envrionment for this project will enable you to run the code from this tutorial on the gpu's provided\\n\")\n",
    "\n",
    "print(\"Only the intro and Part 0 of the tutorial is appliciable for this project, as the present data does not contain\") \n",
    "print(\"molecular geometry information.\\n\")"
   ]
  }
 ],
 "metadata": {
  "kernelspec": {
   "display_name": "Python 3",
   "language": "python",
   "name": "python3"
  },
  "language_info": {
   "codemirror_mode": {
    "name": "ipython",
    "version": 3
   },
   "file_extension": ".py",
   "mimetype": "text/x-python",
   "name": "python",
   "nbconvert_exporter": "python",
   "pygments_lexer": "ipython3",
   "version": "3.10.17"
  }
 },
 "nbformat": 4,
 "nbformat_minor": 2
}
