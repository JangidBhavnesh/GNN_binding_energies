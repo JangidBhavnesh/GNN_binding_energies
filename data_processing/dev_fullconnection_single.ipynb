{
 "cells": [
  {
   "cell_type": "code",
   "execution_count": 1,
   "metadata": {},
   "outputs": [],
   "source": [
    "import networkx as nx\n",
    "import helper\n",
    "\n",
    "train_data = helper.load_data_from_file(\"../data/graph_data.json\") # dictionary of SMILES and values are graphs"
   ]
  },
  {
   "cell_type": "code",
   "execution_count": 20,
   "metadata": {},
   "outputs": [
    {
     "data": {
      "text/plain": [
       "'[Xe]'"
      ]
     },
     "execution_count": 20,
     "metadata": {},
     "output_type": "execute_result"
    }
   ],
   "source": [
    "mol = list(train_data.keys())[857]\n",
    "mol"
   ]
  },
  {
   "cell_type": "code",
   "execution_count": 21,
   "metadata": {},
   "outputs": [],
   "source": [
    "graph = train_data[mol] # we want to fully connect all target nodes in this graph so message passing works"
   ]
  },
  {
   "cell_type": "code",
   "execution_count": 22,
   "metadata": {},
   "outputs": [],
   "source": [
    "# get the target nodes\n",
    "target_node_indices = [n for n, v in graph.nodes(data=True) if v['orbitals'][0] != -1]"
   ]
  },
  {
   "cell_type": "code",
   "execution_count": 23,
   "metadata": {},
   "outputs": [
    {
     "data": {
      "text/plain": [
       "{0: ['3s', '3d5/2', '3p3/2', '4s', '4p3/2', '4d5/2']}"
      ]
     },
     "execution_count": 23,
     "metadata": {},
     "output_type": "execute_result"
    }
   ],
   "source": [
    "nx.get_node_attributes(graph, 'orbitals')"
   ]
  },
  {
   "cell_type": "code",
   "execution_count": 24,
   "metadata": {},
   "outputs": [
    {
     "data": {
      "text/plain": [
       "{'atom_type': 'Xe',\n",
       " 'formal_charge': 0,\n",
       " 'orbitals': ['3s', '3d5/2', '3p3/2', '4s', '4p3/2', '4d5/2'],\n",
       " 'binding_energies': [1148.7, 676.5133333333334, 940.6, 213.26, 145.505, 67.5]}"
      ]
     },
     "execution_count": 24,
     "metadata": {},
     "output_type": "execute_result"
    }
   ],
   "source": [
    "graph.nodes[0]"
   ]
  },
  {
   "cell_type": "code",
   "execution_count": 25,
   "metadata": {},
   "outputs": [],
   "source": [
    "# add NONE bonds to all target nodes\n",
    "all_graphs = []\n",
    "\n",
    "for n_i in target_node_indices: # for each target node\n",
    "    graph_i = graph.copy()\n",
    "    for nb_i in nx.non_neighbors(graph_i, n_i): # get all neighbors for target node\n",
    "        graph_i.add_edge(n_i, nb_i, bond_type='NONE') # add edge to target node\n",
    "    for j in range(len(graph_i.nodes[n_i]['orbitals'])):\n",
    "        graph_ij = graph_i.copy()\n",
    "        if graph_ij.nodes[n_i]['orbitals'][j] == -1:\n",
    "            continue\n",
    "        graph_ij.nodes[n_i]['orbitals'] = [graph_ij.nodes[n_i]['orbitals'][j]]\n",
    "        graph_ij.nodes[n_i]['binding_energies'] = [graph_ij.nodes[n_i]['binding_energies'][j]]\n",
    "        graph_ij.nodes[n_i]['target'] = True\n",
    "        all_graphs.append(graph_ij) # add graph to list of graphs"
   ]
  },
  {
   "cell_type": "code",
   "execution_count": 26,
   "metadata": {},
   "outputs": [
    {
     "data": {
      "text/plain": [
       "[<networkx.classes.graph.Graph at 0x7f35779fda90>,\n",
       " <networkx.classes.graph.Graph at 0x7f3577a17bd0>,\n",
       " <networkx.classes.graph.Graph at 0x7f3577a20410>,\n",
       " <networkx.classes.graph.Graph at 0x7f3577a210d0>,\n",
       " <networkx.classes.graph.Graph at 0x7f3577a21810>,\n",
       " <networkx.classes.graph.Graph at 0x7f3577a21e90>]"
      ]
     },
     "execution_count": 26,
     "metadata": {},
     "output_type": "execute_result"
    }
   ],
   "source": [
    "all_graphs"
   ]
  },
  {
   "cell_type": "code",
   "execution_count": 28,
   "metadata": {},
   "outputs": [
    {
     "data": {
      "image/png": "[encoded data removed]",
      "text/plain": [
       "<Figure size 640x480 with 1 Axes>"
      ]
     },
     "metadata": {},
     "output_type": "display_data"
    }
   ],
   "source": [
    "# Index of target node to visualize\n",
    "i = 4\n",
    "\n",
    "# Define a color map for bond types\n",
    "bond_type_colors = {'SINGLE': 'black', 'DOUBLE': 'blue', 'TRIPLE': 'green', 'NONE': 'red'}\n",
    "\n",
    "# Get the colors for each edge based on bond_type\n",
    "edge_colors = [bond_type_colors.get(data['bond_type'], 'black') for _, _, data in all_graphs[i].edges(data=True)]\n",
    "\n",
    "# Create labels for nodes using their atom_type and number\n",
    "node_labels = {n: f\"{v['atom_type']}{n}\" for n, v in all_graphs[i].nodes(data=True)}\n",
    "\n",
    "# Draw the graph with node labels\n",
    "nx.draw(all_graphs[i], with_labels=True, labels=node_labels, node_color='lightblue', node_size=500, font_size=10, font_color='black', font_weight='bold', edge_color=edge_colors)\n"
   ]
  },
  {
   "cell_type": "code",
   "execution_count": null,
   "metadata": {},
   "outputs": [],
   "source": []
  },
  {
   "cell_type": "code",
   "execution_count": null,
   "metadata": {},
   "outputs": [],
   "source": []
  }
 ],
 "metadata": {
  "kernelspec": {
   "display_name": "shri_gnnpytorch",
   "language": "python",
   "name": "python3"
  },
  "language_info": {
   "codemirror_mode": {
    "name": "ipython",
    "version": 3
   },
   "file_extension": ".py",
   "mimetype": "text/x-python",
   "name": "python",
   "nbconvert_exporter": "python",
   "pygments_lexer": "ipython3",
   "version": "3.11.4"
  }
 },
 "nbformat": 4,
 "nbformat_minor": 2
}
