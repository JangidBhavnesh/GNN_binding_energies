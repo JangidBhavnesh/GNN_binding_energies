{
 "cells": [
  {
   "cell_type": "code",
   "execution_count": null,
   "metadata": {},
   "outputs": [],
   "source": [
    "import networkx as nx\n",
    "import helper\n",
    "\n",
    "train_data = helper.load_data_from_file(\"../data/graph_data.json\") # dictionary of SMILES and values are graphs"
   ]
  },
  {
   "cell_type": "code",
   "execution_count": 8,
   "metadata": {},
   "outputs": [
    {
     "data": {
      "text/plain": [
       "'C/C(=C\\\\C(=O)C(F)(F)F)/O[Al](O/C(=C\\\\C(=O)C(F)(F)F)/C)O/C(=C\\\\C(=O)C(F)(F)F)/C'"
      ]
     },
     "execution_count": 8,
     "metadata": {},
     "output_type": "execute_result"
    }
   ],
   "source": [
    "mol = list(train_data.keys())[1]\n",
    "mol"
   ]
  },
  {
   "cell_type": "code",
   "execution_count": 9,
   "metadata": {},
   "outputs": [],
   "source": [
    "graph = train_data[mol] # we want to fully connect all target nodes in this graph so message passing works"
   ]
  },
  {
   "cell_type": "code",
   "execution_count": 10,
   "metadata": {},
   "outputs": [],
   "source": [
    "# get the target nodes\n",
    "target_node_indices = [n for n, v in graph.nodes(data=True) if v['orbitals'][0] != -1]"
   ]
  },
  {
   "cell_type": "code",
   "execution_count": 11,
   "metadata": {},
   "outputs": [
    {
     "data": {
      "text/plain": [
       "{0: ['1s'],\n",
       " 1: ['1s'],\n",
       " 2: ['1s'],\n",
       " 3: ['1s'],\n",
       " 4: ['1s'],\n",
       " 5: ['1s'],\n",
       " 6: [-1],\n",
       " 7: [-1],\n",
       " 8: [-1],\n",
       " 9: ['1s'],\n",
       " 10: ['2p3/2'],\n",
       " 11: ['1s'],\n",
       " 12: ['1s'],\n",
       " 13: ['1s'],\n",
       " 14: ['1s'],\n",
       " 15: ['1s'],\n",
       " 16: ['1s'],\n",
       " 17: [-1],\n",
       " 18: [-1],\n",
       " 19: [-1],\n",
       " 20: ['1s'],\n",
       " 21: ['1s'],\n",
       " 22: ['1s'],\n",
       " 23: ['1s'],\n",
       " 24: ['1s'],\n",
       " 25: ['1s'],\n",
       " 26: ['1s'],\n",
       " 27: [-1],\n",
       " 28: [-1],\n",
       " 29: [-1],\n",
       " 30: ['1s']}"
      ]
     },
     "execution_count": 11,
     "metadata": {},
     "output_type": "execute_result"
    }
   ],
   "source": [
    "nx.get_node_attributes(graph, 'orbitals')"
   ]
  },
  {
   "cell_type": "code",
   "execution_count": 6,
   "metadata": {},
   "outputs": [],
   "source": [
    "# add NONE bonds to all target nodes\n",
    "all_graphs = []\n",
    "\n",
    "for n_i in target_node_indices: # for each target node\n",
    "    graph_i = graph.copy()\n",
    "    for nb_i in nx.non_neighbors(graph_i, n_i): # get all neighbors for target node\n",
    "        graph_i.add_edge(n_i, nb_i, bond_type='NONE') # add edge to target node\n",
    "    all_graphs.append(graph_i) # add graph to list of graphs"
   ]
  },
  {
   "cell_type": "code",
   "execution_count": 7,
   "metadata": {},
   "outputs": [
    {
     "data": {
      "image/png": "[encoded data removed]",
      "text/plain": [
       "<Figure size 640x480 with 1 Axes>"
      ]
     },
     "metadata": {},
     "output_type": "display_data"
    }
   ],
   "source": [
    "# Index of target node to visualize\n",
    "i = 0\n",
    "\n",
    "# Define a color map for bond types\n",
    "bond_type_colors = {'SINGLE': 'black', 'DOUBLE': 'blue', 'TRIPLE': 'green', 'NONE': 'red'}\n",
    "\n",
    "# Get the colors for each edge based on bond_type\n",
    "edge_colors = [bond_type_colors.get(data['bond_type'], 'black') for _, _, data in all_graphs[i].edges(data=True)]\n",
    "\n",
    "# Create labels for nodes using their atom_type and number\n",
    "node_labels = {n: f\"{v['atom_type']}{n}\" for n, v in all_graphs[i].nodes(data=True)}\n",
    "\n",
    "# Draw the graph with node labels\n",
    "nx.draw(all_graphs[i], with_labels=True, labels=node_labels, node_color='lightblue', node_size=500, font_size=10, font_color='black', font_weight='bold', edge_color=edge_colors)\n"
   ]
  },
  {
   "cell_type": "code",
   "execution_count": null,
   "metadata": {},
   "outputs": [],
   "source": []
  }
 ],
 "metadata": {
  "kernelspec": {
   "display_name": "Python 3 (ipykernel)",
   "language": "python",
   "name": "python3"
  },
  "language_info": {
   "codemirror_mode": {
    "name": "ipython",
    "version": 3
   },
   "file_extension": ".py",
   "mimetype": "text/x-python",
   "name": "python",
   "nbconvert_exporter": "python",
   "pygments_lexer": "ipython3",
   "version": "3.9.13"
  }
 },
 "nbformat": 4,
 "nbformat_minor": 2
}
