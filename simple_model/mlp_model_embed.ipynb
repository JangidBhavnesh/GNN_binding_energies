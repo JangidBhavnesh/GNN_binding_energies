{
  "nbformat": 4,
  "nbformat_minor": 0,
  "metadata": {
    "colab": {
      "provenance": [],
      "gpuType": "T4"
    },
    "kernelspec": {
      "name": "python3",
      "display_name": "Python 3"
    },
    "language_info": {
      "name": "python"
    },
    "accelerator": "GPU"
  },
  "cells": [
    {
      "cell_type": "code",
      "execution_count": 1,
      "metadata": {
        "id": "daea5f32"
      },
      "outputs": [],
      "source": [
        "import networkx as nx\n",
        "import matplotlib.pyplot as plt\n",
        "import numpy as np\n",
        "from tqdm import tqdm\n",
        "from sklearn.model_selection import train_test_split\n",
        "import torch\n",
        "import torch.nn as nn\n",
        "import torch.optim as optim\n",
        "from torch.utils.data import DataLoader, TensorDataset\n",
        "import pandas as pd"
      ]
    },
    {
      "cell_type": "code",
      "source": [
        "from google.colab import drive\n",
        "drive.mount('/content/drive')"
      ],
      "metadata": {
        "colab": {
          "base_uri": "https://localhost:8080/"
        },
        "id": "BXz3PPImA-nX",
        "outputId": "e3b1c96c-fb4b-4906-e230-da3a14d37daa"
      },
      "execution_count": 2,
      "outputs": [
        {
          "output_type": "stream",
          "name": "stdout",
          "text": [
            "Drive already mounted at /content/drive; to attempt to forcibly remount, call drive.mount(\"/content/drive\", force_remount=True).\n"
          ]
        }
      ]
    },
    {
      "cell_type": "code",
      "source": [
        "import json\n",
        "import networkx as nx\n",
        "import copy\n",
        "\n",
        "def load_data_from_file(filename):\n",
        "    \"\"\"\n",
        "    Load a dictionary of graphs from JSON file.\n",
        "    \"\"\"\n",
        "    with open(filename, \"r\") as file_handle:\n",
        "        string_dict = json.load(file_handle)\n",
        "    return _load_data_from_string_dict(string_dict)\n",
        "\n",
        "def load_data_from_string(json_string):\n",
        "    \"\"\"\n",
        "    Load a dictionary of graphs from JSON string.\n",
        "    \"\"\"\n",
        "    string_dict = json.loads(json_string)\n",
        "    return _load_data_from_string_dict(string_dict)\n",
        "\n",
        "def _load_data_from_string_dict(string_dict):\n",
        "    result_dict = {}\n",
        "    for key in string_dict:\n",
        "\n",
        "        data = copy.deepcopy(string_dict[key])\n",
        "\n",
        "        if 'edges' in data:\n",
        "            data[\"links\"] = data.pop(\"edges\")\n",
        "\n",
        "        graph = nx.node_link_graph(data)\n",
        "        result_dict[key] = graph\n",
        "    return result_dict\n",
        "\n",
        "def write_data_to_json_string(graph_dict, **kwargs):\n",
        "    \"\"\"\n",
        "    Write dictionary of graphs to JSON string.\n",
        "    \"\"\"\n",
        "    json_string = json.dumps(graph_dict, default=nx.node_link_data, **kwargs)\n",
        "    return json_string\n",
        "\n",
        "\n",
        "def write_data_to_json_file(graph_dict, filename, **kwargs):\n",
        "    \"\"\"\n",
        "    Write dictionary of graphs to JSON file.\n",
        "    \"\"\"\n",
        "    with open(filename, \"w\") as file_handle:\n",
        "        file_handle.write(write_data_to_json_string(graph_dict, **kwargs))"
      ],
      "metadata": {
        "id": "I8HfKY2D_83m"
      },
      "execution_count": 3,
      "outputs": []
    },
    {
      "cell_type": "markdown",
      "metadata": {
        "id": "0aa85b9d"
      },
      "source": [
        "First, load unique data points"
      ]
    },
    {
      "cell_type": "code",
      "execution_count": 4,
      "metadata": {
        "colab": {
          "base_uri": "https://localhost:8080/"
        },
        "id": "d53b1aa9",
        "outputId": "85e56084-a66f-4db5-e270-cae68d24dc75"
      },
      "outputs": [
        {
          "output_type": "stream",
          "name": "stderr",
          "text": [
            "/usr/local/lib/python3.11/dist-packages/networkx/readwrite/json_graph/node_link.py:287: FutureWarning: \n",
            "The default value will be changed to `edges=\"edges\" in NetworkX 3.6.\n",
            "\n",
            "To make this warning go away, explicitly set the edges kwarg, e.g.:\n",
            "\n",
            "  nx.node_link_graph(data, edges=\"links\") to preserve current behavior, or\n",
            "  nx.node_link_graph(data, edges=\"edges\") for forward compatibility.\n",
            "  warnings.warn(\n"
          ]
        }
      ],
      "source": [
        "train_data = load_data_from_file(\"/content/drive/My Drive/GNN-hack/graph_data.json\") # dictionary of SMILES and values are graphs\n",
        "embeddings = pd.read_csv('/content/drive/My Drive/GNN-hack/final_embedding_dim30.csv')"
      ]
    },
    {
      "cell_type": "code",
      "source": [
        "# Embedding IDs\n",
        "embedded_atoms = list(embeddings['Atoms'])\n",
        "embedded_orbitals = list(embeddings['Orbital'])\n",
        "\n",
        "embedded_IDs = [a+','+o for a,o in zip(embedded_atoms, embedded_orbitals)]\n",
        "\n",
        "# Embedding vectors\n",
        "embedded_vectors = []\n",
        "\n",
        "for i in range(len(embeddings)):\n",
        "  a = list(np.fromstring(embeddings.loc[i,'Embeddings'].replace('\\n','').strip('[]'), sep=' '))\n",
        "  if len(a)>31: # Noble gas elements?\n",
        "    a = list(a[-31:])\n",
        "\n",
        "  embedded_vectors.append(a)"
      ],
      "metadata": {
        "id": "Y_mfWjXzmUgr"
      },
      "execution_count": 5,
      "outputs": []
    },
    {
      "cell_type": "code",
      "source": [
        "embedded_IDs.index('Co,3p')"
      ],
      "metadata": {
        "colab": {
          "base_uri": "https://localhost:8080/"
        },
        "id": "zSgAcxYWpr8y",
        "outputId": "c70b45c1-1706-433d-b788-09eeea025b0e"
      },
      "execution_count": 6,
      "outputs": [
        {
          "output_type": "execute_result",
          "data": {
            "text/plain": [
              "60"
            ]
          },
          "metadata": {},
          "execution_count": 6
        }
      ]
    },
    {
      "cell_type": "code",
      "execution_count": 7,
      "metadata": {
        "id": "2c1f9f94"
      },
      "outputs": [],
      "source": [
        "# get all the unique atom types, orbitals and their respective binding energies\n",
        "\n",
        "atoms = []\n",
        "charges = []\n",
        "orbs = []\n",
        "energies = []\n",
        "\n",
        "\n",
        "for mol in train_data:\n",
        "    graph = train_data[mol]\n",
        "\n",
        "    atom = list(nx.get_node_attributes(graph, \"atom_type\").values())\n",
        "    charge = list(nx.get_node_attributes(graph, \"formal_charge\").values())\n",
        "    orb = list(nx.get_node_attributes(graph, \"orbitals\").values())\n",
        "    energy = list(nx.get_node_attributes(graph, \"binding_energies\").values())\n",
        "\n",
        "    for i in range(len(orb)):\n",
        "        for j in range(len(orb[i])):\n",
        "            if energy[i][j]!=-1:\n",
        "                atoms.append(atom[i])\n",
        "                charges.append(charge[i])\n",
        "                orbs.append(orb[i][j])\n",
        "                energies.append(energy[i][j])\n",
        "\n",
        "# Also get embedding vectors for each species, if embedding exists\n",
        "ids = [a+','+o for a,o in zip(atoms, orbs)]\n",
        "\n",
        "states = []\n",
        "\n",
        "for i in range(len(ids)):\n",
        "  id = ids[i]\n",
        "  if id in embedded_IDs:\n",
        "    states.append(embedded_vectors[embedded_IDs.index(id)])\n",
        "  else:\n",
        "    states.append([0]*31)"
      ]
    },
    {
      "cell_type": "markdown",
      "metadata": {
        "id": "db3694ee"
      },
      "source": [
        "Encode these data points, both atomic number and quantum numbers for orbitals"
      ]
    },
    {
      "cell_type": "code",
      "execution_count": 8,
      "metadata": {
        "id": "58ffa7c2"
      },
      "outputs": [],
      "source": [
        "atom_dict = {\n",
        " 'Li': 3,\n",
        " 'B': 5,\n",
        " 'C': 6,\n",
        " 'N': 7,\n",
        " 'O': 8,\n",
        " 'F': 9,\n",
        " 'Ne': 10,\n",
        " 'Na': 11,\n",
        " 'Mg': 12,\n",
        " 'Al': 13,\n",
        " 'Si': 14,\n",
        " 'P': 15,\n",
        " 'S': 16,\n",
        " 'Cl': 17,\n",
        " 'Ar': 18,\n",
        " 'K': 19,\n",
        " 'Ca': 20,\n",
        " 'Ti': 22,\n",
        " 'V': 23,\n",
        " 'Cr': 24,\n",
        " 'Mn': 25,\n",
        " 'Fe': 26,\n",
        " 'Co': 27,\n",
        " 'Ni': 28,\n",
        " 'Cu': 29,\n",
        " 'Zn': 30,\n",
        " 'Ga': 31,\n",
        " 'Ge': 32,\n",
        " 'As': 33,\n",
        " 'Se': 34,\n",
        " 'Br': 35,\n",
        " 'Kr': 36,\n",
        " 'Rb': 37,\n",
        " 'Sr': 38,\n",
        " 'Mo': 42,\n",
        " 'Rh': 45,\n",
        " 'Ag': 47,\n",
        " 'Cd': 48,\n",
        " 'In': 49,\n",
        " 'Sn': 50,\n",
        " 'Sb': 51,\n",
        " 'Te': 52,\n",
        " 'I': 53,\n",
        " 'Xe': 54,\n",
        " 'Cs': 55,\n",
        " 'Ba': 56,\n",
        " 'W': 74,\n",
        " 'Re': 75,\n",
        " 'Hg': 80,\n",
        " 'Tl': 81,\n",
        " 'Pb': 82,\n",
        " 'Bi': 83,\n",
        " 'U': 92\n",
        "}\n",
        "\n",
        "orb_dict = {\n",
        " '2p': [2, 1, 0],\n",
        " '2p3/2': [2, 1, 1.5],\n",
        " '4p3/2': [4, 1, 1.5],\n",
        " '3d5/2': [3, 2, 2.5],\n",
        " '3d': [3, 2, 0],\n",
        " '5p3/2': [5, 1, 1.5],\n",
        " '2s': [2, 0, 0],\n",
        " '1s': [1, 0, 0],\n",
        " '4s': [4, 0, 0],\n",
        " '3p': [3, 1, 0],\n",
        " '5d5/2': [5, 2, 2.5],\n",
        " '5s': [5, 0, 0],\n",
        " '3s': [3, 0, 0],\n",
        " '3p3/2': [3, 1, 1.5],\n",
        " '4d5/2': [4, 2, 2.5],\n",
        " '4d': [4, 2, 0],\n",
        " '4f7/2': [4, 3, 3.5]\n",
        "}"
      ]
    },
    {
      "cell_type": "code",
      "execution_count": 9,
      "metadata": {
        "id": "74fba627"
      },
      "outputs": [],
      "source": [
        "data = []\n",
        "\n",
        "for i in range(len(atoms)):\n",
        "    atom = atoms[i]\n",
        "    charge = charges[i]\n",
        "    orb = orbs[i]\n",
        "    energy = energies[i]\n",
        "\n",
        "    atomic_number = atom_dict[atom]\n",
        "    q_numbers = orb_dict[orb]\n",
        "\n",
        "    state = states[i]\n",
        "\n",
        "    data.append([atomic_number]+[charge]+q_numbers+state+[energy])\n",
        "\n",
        "data = np.array(data)"
      ]
    },
    {
      "cell_type": "code",
      "source": [
        "data.shape"
      ],
      "metadata": {
        "colab": {
          "base_uri": "https://localhost:8080/"
        },
        "id": "e-xVUz9GrEW-",
        "outputId": "412908b1-90f0-4301-d915-6de2b7aa49b9"
      },
      "execution_count": 10,
      "outputs": [
        {
          "output_type": "execute_result",
          "data": {
            "text/plain": [
              "(5192, 37)"
            ]
          },
          "metadata": {},
          "execution_count": 10
        }
      ]
    },
    {
      "cell_type": "markdown",
      "metadata": {
        "id": "a21ac284"
      },
      "source": [
        "Let us split into training and testing sets"
      ]
    },
    {
      "cell_type": "code",
      "execution_count": 11,
      "metadata": {
        "id": "e9432cdc"
      },
      "outputs": [],
      "source": [
        "data_train, data_test = train_test_split(data, train_size=0.8)\n",
        "data_train = np.float64(data_train)\n",
        "data_test = np.float64(data_test)"
      ]
    },
    {
      "cell_type": "markdown",
      "metadata": {
        "id": "cdc580ce"
      },
      "source": [
        "First, the training - let us split into input and output vectors"
      ]
    },
    {
      "cell_type": "code",
      "execution_count": 12,
      "metadata": {
        "id": "d95d77bc"
      },
      "outputs": [],
      "source": [
        "X_train = data_train[:,:-1]\n",
        "y_train = data_train[:,-1]\n",
        "y_train = y_train.reshape(-1, 1)"
      ]
    },
    {
      "cell_type": "code",
      "execution_count": 14,
      "metadata": {
        "id": "524228df"
      },
      "outputs": [],
      "source": [
        "# Define the MLP model\n",
        "import torch.nn.functional as F\n",
        "\n",
        "class MLP(nn.Module):\n",
        "    def __init__(self, input_size, hidden_size=64, output_size=1, dropout_rate=0.2):\n",
        "        super(MLP, self).__init__()\n",
        "        self.fc1 = nn.Linear(input_size, hidden_size)\n",
        "        self.bn1 = nn.BatchNorm1d(hidden_size)\n",
        "        self.dropout = nn.Dropout(dropout_rate)\n",
        "        self.fc2 = nn.Linear(hidden_size, hidden_size)\n",
        "        self.bn2 = nn.BatchNorm1d(hidden_size)\n",
        "        self.fc3 = nn.Linear(hidden_size, output_size)\n",
        "\n",
        "    def forward(self, x):\n",
        "        x = self.fc1(x)\n",
        "        x = self.bn1(x)\n",
        "        x = F.leaky_relu(x, 0.1)\n",
        "        x = self.dropout(x)\n",
        "        x = self.fc2(x)\n",
        "        x = self.bn2(x)\n",
        "        x = F.leaky_relu(x, 0.1)\n",
        "        x = self.fc3(x)\n",
        "        return x"
      ]
    },
    {
      "cell_type": "code",
      "execution_count": 15,
      "metadata": {
        "id": "b1c0b64a"
      },
      "outputs": [],
      "source": [
        "# Model parameters\n",
        "input_size = 36\n",
        "hidden_size = 64\n",
        "output_size = 1\n",
        "batch_size = 8\n",
        "learning_rate = 1e-5\n",
        "num_epochs = 200"
      ]
    },
    {
      "cell_type": "code",
      "execution_count": 16,
      "metadata": {
        "id": "35d2a81c"
      },
      "outputs": [],
      "source": [
        "# Instantiate the model\n",
        "model = MLP(input_size, hidden_size, output_size)\n",
        "\n",
        "# Define the loss function and optimizer\n",
        "criterion = nn.MSELoss()\n",
        "optimizer = torch.optim.Adam(model.parameters(), lr=1e-3, weight_decay=1e-5)"
      ]
    },
    {
      "cell_type": "code",
      "source": [
        "scheduler = torch.optim.lr_scheduler.ReduceLROnPlateau(\n",
        "    optimizer, mode='min', factor=0.5, patience=5, verbose=True\n",
        ")"
      ],
      "metadata": {
        "id": "5h-Cp7NSB--t",
        "colab": {
          "base_uri": "https://localhost:8080/"
        },
        "outputId": "c60e3fa1-9e9f-4494-ab31-c38d4cb9d8c3"
      },
      "execution_count": 17,
      "outputs": [
        {
          "output_type": "stream",
          "name": "stderr",
          "text": [
            "/usr/local/lib/python3.11/dist-packages/torch/optim/lr_scheduler.py:62: UserWarning: The verbose parameter is deprecated. Please use get_last_lr() to access the learning rate.\n",
            "  warnings.warn(\n"
          ]
        }
      ]
    },
    {
      "cell_type": "code",
      "source": [
        "num_epochs = 100\n",
        "batch_size = 16"
      ],
      "metadata": {
        "id": "WlI8nmMHCK8s"
      },
      "execution_count": 18,
      "outputs": []
    },
    {
      "cell_type": "code",
      "source": [
        "# Split training data into train and validation\n",
        "X_train_actual, X_val, y_train_actual, y_val = train_test_split(\n",
        "    X_train, y_train, test_size=0.2, random_state=42\n",
        ")"
      ],
      "metadata": {
        "id": "Rfl3ZEzkCNqk"
      },
      "execution_count": 19,
      "outputs": []
    },
    {
      "cell_type": "code",
      "execution_count": 20,
      "metadata": {
        "id": "3fb3de08"
      },
      "outputs": [],
      "source": [
        "# Create datasets and dataloaders\n",
        "train_dataset = TensorDataset(\n",
        "    torch.tensor(X_train_actual, dtype=torch.float32),\n",
        "    torch.tensor(y_train_actual, dtype=torch.float32)\n",
        ")\n",
        "val_dataset = TensorDataset(\n",
        "    torch.tensor(X_val, dtype=torch.float32),\n",
        "    torch.tensor(y_val, dtype=torch.float32)\n",
        ")"
      ]
    },
    {
      "cell_type": "code",
      "source": [
        "train_loader = DataLoader(train_dataset, batch_size=batch_size, shuffle=True)\n",
        "val_loader = DataLoader(val_dataset, batch_size=batch_size)"
      ],
      "metadata": {
        "id": "RUR3kqp-CS_i"
      },
      "execution_count": 21,
      "outputs": []
    },
    {
      "cell_type": "code",
      "execution_count": 22,
      "metadata": {
        "colab": {
          "base_uri": "https://localhost:8080/"
        },
        "id": "68f2e6d0",
        "outputId": "29346908-d883-40e4-c838-3d4fa45dec5e"
      },
      "outputs": [
        {
          "output_type": "stream",
          "name": "stdout",
          "text": [
            "Epoch 10/100: Train Loss: 45727.8581, Val Loss: 45622.2264\n",
            "Epoch 20/100: Train Loss: 20088.5110, Val Loss: 21683.2174\n",
            "Epoch 30/100: Train Loss: 16289.3647, Val Loss: 15938.0398\n",
            "Epoch 40/100: Train Loss: 13703.5397, Val Loss: 14193.0475\n",
            "Epoch 50/100: Train Loss: 12032.1201, Val Loss: 11941.0984\n",
            "Epoch 60/100: Train Loss: 10778.0596, Val Loss: 10379.9301\n",
            "Epoch 70/100: Train Loss: 9410.2281, Val Loss: 8210.5982\n",
            "Epoch 80/100: Train Loss: 7827.3310, Val Loss: 6930.1901\n",
            "Epoch 90/100: Train Loss: 6753.7339, Val Loss: 5683.5758\n",
            "Epoch 100/100: Train Loss: 6730.3433, Val Loss: 5743.3317\n"
          ]
        }
      ],
      "source": [
        "# Training loop with validation\n",
        "best_val_loss = float('inf')\n",
        "for epoch in range(num_epochs):\n",
        "    # Training phase\n",
        "    model.train()\n",
        "    train_loss = 0.0\n",
        "    for inputs, targets in train_loader:\n",
        "        optimizer.zero_grad()\n",
        "        outputs = model(inputs)\n",
        "        loss = F.mse_loss(outputs, targets)\n",
        "        loss.backward()\n",
        "        torch.nn.utils.clip_grad_norm_(model.parameters(), max_norm=1.0)  # Gradient clipping\n",
        "        optimizer.step()\n",
        "        train_loss += loss.item()\n",
        "\n",
        "    train_loss /= len(train_loader)\n",
        "\n",
        "    # Validation phase\n",
        "    model.eval()\n",
        "    val_loss = 0.0\n",
        "    with torch.no_grad():\n",
        "        for inputs, targets in val_loader:\n",
        "            outputs = model(inputs)\n",
        "            val_loss += F.mse_loss(outputs, targets).item()\n",
        "\n",
        "    val_loss /= len(val_loader)\n",
        "\n",
        "    # Learning rate adjustment\n",
        "    scheduler.step(val_loss)\n",
        "\n",
        "    # Print metrics and save best model\n",
        "    if (epoch + 1) % 10 == 0:\n",
        "        print(f\"Epoch {epoch+1}/{num_epochs}: Train Loss: {train_loss:.4f}, Val Loss: {val_loss:.4f}\")\n",
        "\n",
        "    if val_loss < best_val_loss:\n",
        "        best_val_loss = val_loss\n",
        "        torch.save(model.state_dict(), '/content/drive/My Drive/GNN-hack/best_model_emb.pt')"
      ]
    },
    {
      "cell_type": "markdown",
      "metadata": {
        "id": "bdfbce33"
      },
      "source": [
        "Evaluate model predictions on test set"
      ]
    },
    {
      "cell_type": "code",
      "execution_count": 23,
      "metadata": {
        "id": "9aa4a5dc"
      },
      "outputs": [],
      "source": [
        "X_test = data_test[:,:-1]"
      ]
    },
    {
      "cell_type": "code",
      "execution_count": 24,
      "metadata": {
        "id": "78ded8a7"
      },
      "outputs": [],
      "source": [
        "# Minimal batch prediction approach\n",
        "# Kernel dies in the simplest approach\n",
        "\n",
        "# Set model to evaluation mode\n",
        "model.eval()\n",
        "\n",
        "# Define a reasonable batch size\n",
        "batch_size = 16\n",
        "\n",
        "# Create empty array for predictions\n",
        "num_samples = X_test.shape[0]\n",
        "y_pred_test = np.zeros((num_samples, 1))\n",
        "\n",
        "# Process in batches\n",
        "for i in range(0, num_samples, batch_size):\n",
        "    end_idx = min(i + batch_size, num_samples)\n",
        "    batch_X = X_test[i:end_idx]\n",
        "\n",
        "    # Convert to tensor, ensure float type\n",
        "    batch_tensor = torch.tensor(batch_X, dtype=torch.float32)\n",
        "\n",
        "    # Make prediction with no gradient tracking\n",
        "    with torch.no_grad():\n",
        "        y_pred_test[i:end_idx] = model(batch_tensor).numpy()\n",
        "\n",
        "# Get actual test values and evaluate\n",
        "y_test = data_test[:, -1].reshape(-1, 1)"
      ]
    },
    {
      "cell_type": "code",
      "execution_count": 25,
      "metadata": {
        "colab": {
          "base_uri": "https://localhost:8080/"
        },
        "id": "a85edcba",
        "outputId": "7f3c75e0-9a47-4bde-8f3c-050de378deca"
      },
      "outputs": [
        {
          "output_type": "execute_result",
          "data": {
            "text/plain": [
              "np.float64(4077.4652965402624)"
            ]
          },
          "metadata": {},
          "execution_count": 25
        }
      ],
      "source": [
        "np.mean((y_test-y_pred_test)**2)"
      ]
    },
    {
      "cell_type": "code",
      "execution_count": 28,
      "metadata": {
        "id": "2d62082d",
        "colab": {
          "base_uri": "https://localhost:8080/",
          "height": 410
        },
        "outputId": "522ce765-215a-482a-d03b-8d44b0f696da"
      },
      "outputs": [
        {
          "output_type": "execute_result",
          "data": {
            "text/plain": [
              "Text(0, 0.5, '$y_\\\\mathrm{pred}-y_\\\\mathrm{test}$ (Binding energy)')"
            ]
          },
          "metadata": {},
          "execution_count": 28
        },
        {
          "output_type": "display_data",
          "data": {
            "text/plain": [
              "<Figure size 400x400 with 1 Axes>"
            ],
            "image/png": "[encoded data removed]"
          },
          "metadata": {}
        }
      ],
      "source": [
        "fig, ax = plt.subplots(1, figsize=(4,4))\n",
        "\n",
        "ax.scatter(y_test, y_pred_test-y_test)\n",
        "ax.set_xlabel(r'$y_\\mathrm{test}$ (Binding energy)')\n",
        "ax.set_ylabel(r'$y_\\mathrm{pred}-y_\\mathrm{test}$ (Binding energy)')"
      ]
    },
    {
      "cell_type": "code",
      "source": [],
      "metadata": {
        "id": "nJJFFu7Ms03e"
      },
      "execution_count": null,
      "outputs": []
    }
  ]
}