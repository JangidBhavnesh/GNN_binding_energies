{
 "cells": [
  {
   "cell_type": "code",
   "execution_count": 1,
   "id": "651d52fc",
   "metadata": {},
   "outputs": [],
   "source": [
    "import networkx as nx\n",
    "import matplotlib.pyplot as plt\n",
    "import numpy as np\n",
    "import helper\n",
    "from tqdm import tqdm"
   ]
  },
  {
   "cell_type": "code",
   "execution_count": 2,
   "id": "3e161a63",
   "metadata": {},
   "outputs": [],
   "source": [
    "train_data = helper.load_data_from_file(\"../data/graph_data_cleaned.json\") # dictionary of SMILES and values are graphs"
   ]
  },
  {
   "cell_type": "code",
   "execution_count": 3,
   "id": "dfbaad31",
   "metadata": {},
   "outputs": [],
   "source": [
    "# get all the unique atom types, orbitals and their respective binding energies\n",
    "atomic_energies = {}\n",
    "for mol in train_data:\n",
    "    graph = train_data[mol]\n",
    "    atom = list(nx.get_node_attributes(graph, \"atom_type\").values())\n",
    "    orb = list(nx.get_node_attributes(graph, \"orbitals\").values())\n",
    "    energy = list(nx.get_node_attributes(graph, \"binding_energies\").values())\n",
    "\n",
    "    for i in range(len(atom)):\n",
    "        if atom[i] not in atomic_energies:\n",
    "            atomic_energies[atom[i]] = {}\n",
    "        for orb_type, orb_energy in zip(orb[i], energy[i]):\n",
    "            if orb_type == - 1:\n",
    "                continue\n",
    "            if orb_type not in atomic_energies[atom[i]]:\n",
    "                atomic_energies[atom[i]][orb_type] = []\n",
    "            atomic_energies[atom[i]][orb_type].append(orb_energy)"
   ]
  },
  {
   "cell_type": "code",
   "execution_count": 4,
   "id": "e966eb4e",
   "metadata": {},
   "outputs": [
    {
     "data": {
      "text/plain": [
       "[2490.1, 2483.7, 2478.5]"
      ]
     },
     "execution_count": 4,
     "metadata": {},
     "output_type": "execute_result"
    }
   ],
   "source": [
    "atomic_energies['S']['1s']"
   ]
  },
  {
   "cell_type": "code",
   "execution_count": null,
   "id": "6c1a7183",
   "metadata": {},
   "outputs": [],
   "source": []
  }
 ],
 "metadata": {
  "kernelspec": {
   "display_name": "Python 3 (ipykernel)",
   "language": "python",
   "name": "python3"
  },
  "language_info": {
   "codemirror_mode": {
    "name": "ipython",
    "version": 3
   },
   "file_extension": ".py",
   "mimetype": "text/x-python",
   "name": "python",
   "nbconvert_exporter": "python",
   "pygments_lexer": "ipython3",
   "version": "3.9.13"
  }
 },
 "nbformat": 4,
 "nbformat_minor": 5
}
