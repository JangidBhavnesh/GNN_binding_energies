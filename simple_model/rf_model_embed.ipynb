{
  "nbformat": 4,
  "nbformat_minor": 0,
  "metadata": {
    "colab": {
      "provenance": []
    },
    "kernelspec": {
      "name": "python3",
      "display_name": "Python 3"
    },
    "language_info": {
      "name": "python"
    }
  },
  "cells": [
    {
      "cell_type": "code",
      "execution_count": 1,
      "metadata": {
        "id": "daea5f32"
      },
      "outputs": [],
      "source": [
        "import networkx as nx\n",
        "import matplotlib.pyplot as plt\n",
        "import numpy as np\n",
        "from sklearn.model_selection import train_test_split\n",
        "import pandas as pd"
      ]
    },
    {
      "cell_type": "code",
      "source": [
        "from google.colab import drive\n",
        "drive.mount('/content/drive')"
      ],
      "metadata": {
        "colab": {
          "base_uri": "https://localhost:8080/"
        },
        "id": "BXz3PPImA-nX",
        "outputId": "7b0755d9-3c17-4150-d974-6754bc3e9aed"
      },
      "execution_count": 2,
      "outputs": [
        {
          "output_type": "stream",
          "name": "stdout",
          "text": [
            "Mounted at /content/drive\n"
          ]
        }
      ]
    },
    {
      "cell_type": "code",
      "source": [
        "import json\n",
        "import networkx as nx\n",
        "import copy\n",
        "\n",
        "def load_data_from_file(filename):\n",
        "    \"\"\"\n",
        "    Load a dictionary of graphs from JSON file.\n",
        "    \"\"\"\n",
        "    with open(filename, \"r\") as file_handle:\n",
        "        string_dict = json.load(file_handle)\n",
        "    return _load_data_from_string_dict(string_dict)\n",
        "\n",
        "def load_data_from_string(json_string):\n",
        "    \"\"\"\n",
        "    Load a dictionary of graphs from JSON string.\n",
        "    \"\"\"\n",
        "    string_dict = json.loads(json_string)\n",
        "    return _load_data_from_string_dict(string_dict)\n",
        "\n",
        "def _load_data_from_string_dict(string_dict):\n",
        "    result_dict = {}\n",
        "    for key in string_dict:\n",
        "\n",
        "        data = copy.deepcopy(string_dict[key])\n",
        "\n",
        "        if 'edges' in data:\n",
        "            data[\"links\"] = data.pop(\"edges\")\n",
        "\n",
        "        graph = nx.node_link_graph(data)\n",
        "        result_dict[key] = graph\n",
        "    return result_dict\n",
        "\n",
        "def write_data_to_json_string(graph_dict, **kwargs):\n",
        "    \"\"\"\n",
        "    Write dictionary of graphs to JSON string.\n",
        "    \"\"\"\n",
        "    json_string = json.dumps(graph_dict, default=nx.node_link_data, **kwargs)\n",
        "    return json_string\n",
        "\n",
        "\n",
        "def write_data_to_json_file(graph_dict, filename, **kwargs):\n",
        "    \"\"\"\n",
        "    Write dictionary of graphs to JSON file.\n",
        "    \"\"\"\n",
        "    with open(filename, \"w\") as file_handle:\n",
        "        file_handle.write(write_data_to_json_string(graph_dict, **kwargs))"
      ],
      "metadata": {
        "id": "I8HfKY2D_83m"
      },
      "execution_count": 3,
      "outputs": []
    },
    {
      "cell_type": "markdown",
      "metadata": {
        "id": "0aa85b9d"
      },
      "source": [
        "First, load unique data points"
      ]
    },
    {
      "cell_type": "code",
      "execution_count": 4,
      "metadata": {
        "colab": {
          "base_uri": "https://localhost:8080/"
        },
        "id": "d53b1aa9",
        "outputId": "e0e5a025-8a15-4181-b5dc-192200983fa8"
      },
      "outputs": [
        {
          "output_type": "stream",
          "name": "stderr",
          "text": [
            "/usr/local/lib/python3.11/dist-packages/networkx/readwrite/json_graph/node_link.py:287: FutureWarning: \n",
            "The default value will be changed to `edges=\"edges\" in NetworkX 3.6.\n",
            "\n",
            "To make this warning go away, explicitly set the edges kwarg, e.g.:\n",
            "\n",
            "  nx.node_link_graph(data, edges=\"links\") to preserve current behavior, or\n",
            "  nx.node_link_graph(data, edges=\"edges\") for forward compatibility.\n",
            "  warnings.warn(\n"
          ]
        }
      ],
      "source": [
        "train_data = load_data_from_file(\"/content/drive/My Drive/GNN-hack/graph_data.json\") # dictionary of SMILES and values are graphs\n",
        "embeddings = pd.read_csv('/content/drive/My Drive/GNN-hack/final_embedding_dim30.csv')"
      ]
    },
    {
      "cell_type": "code",
      "source": [
        "# Embedding IDs\n",
        "embedded_atoms = list(embeddings['Atoms'])\n",
        "embedded_orbitals = list(embeddings['Orbital'])\n",
        "\n",
        "embedded_IDs = [a+','+o for a,o in zip(embedded_atoms, embedded_orbitals)]\n",
        "\n",
        "# Embedding vectors\n",
        "embedded_vectors = []\n",
        "\n",
        "for i in range(len(embeddings)):\n",
        "  a = np.fromstring(embeddings.loc[i,'Embeddings'].replace('\\n','').strip('[]'), sep=' ')[:-1]\n",
        "\n",
        "  if len(a)>30: # Noble gas elements?\n",
        "    a = a[:30]\n",
        "\n",
        "  embedded_vectors.append(a)"
      ],
      "metadata": {
        "id": "Y_mfWjXzmUgr"
      },
      "execution_count": 52,
      "outputs": []
    },
    {
      "cell_type": "code",
      "execution_count": 54,
      "metadata": {
        "id": "2c1f9f94"
      },
      "outputs": [],
      "source": [
        "# get all the unique atom types, orbitals and their respective binding energies\n",
        "\n",
        "atoms = []\n",
        "charges = []\n",
        "orbs = []\n",
        "energies = []\n",
        "\n",
        "\n",
        "for mol in train_data:\n",
        "    graph = train_data[mol]\n",
        "\n",
        "    atom = list(nx.get_node_attributes(graph, \"atom_type\").values())\n",
        "    charge = list(nx.get_node_attributes(graph, \"formal_charge\").values())\n",
        "    orb = list(nx.get_node_attributes(graph, \"orbitals\").values())\n",
        "    energy = list(nx.get_node_attributes(graph, \"binding_energies\").values())\n",
        "\n",
        "    for i in range(len(orb)):\n",
        "        for j in range(len(orb[i])):\n",
        "            if energy[i][j]!=-1:\n",
        "                atoms.append(atom[i])\n",
        "                charges.append(charge[i])\n",
        "                orbs.append(orb[i][j])\n",
        "                energies.append(energy[i][j])\n",
        "\n",
        "# Also get embedding vectors for each species, if embedding exists\n",
        "ids = [a+','+o for a,o in zip(atoms, orbs)]\n",
        "\n",
        "states = []\n",
        "\n",
        "for i in range(len(ids)):\n",
        "  id = ids[i]\n",
        "  if id in embedded_IDs:\n",
        "    states.append(embedded_vectors[embedded_IDs.index(id)])\n",
        "  else:\n",
        "    states.append([0]*30)"
      ]
    },
    {
      "cell_type": "markdown",
      "metadata": {
        "id": "db3694ee"
      },
      "source": [
        "Encode these data points, both atomic number and quantum numbers for orbitals"
      ]
    },
    {
      "cell_type": "code",
      "execution_count": 55,
      "metadata": {
        "id": "58ffa7c2"
      },
      "outputs": [],
      "source": [
        "atom_dict = {\n",
        " 'Li': 3,\n",
        " 'B': 5,\n",
        " 'C': 6,\n",
        " 'N': 7,\n",
        " 'O': 8,\n",
        " 'F': 9,\n",
        " 'Ne': 10,\n",
        " 'Na': 11,\n",
        " 'Mg': 12,\n",
        " 'Al': 13,\n",
        " 'Si': 14,\n",
        " 'P': 15,\n",
        " 'S': 16,\n",
        " 'Cl': 17,\n",
        " 'Ar': 18,\n",
        " 'K': 19,\n",
        " 'Ca': 20,\n",
        " 'Ti': 22,\n",
        " 'V': 23,\n",
        " 'Cr': 24,\n",
        " 'Mn': 25,\n",
        " 'Fe': 26,\n",
        " 'Co': 27,\n",
        " 'Ni': 28,\n",
        " 'Cu': 29,\n",
        " 'Zn': 30,\n",
        " 'Ga': 31,\n",
        " 'Ge': 32,\n",
        " 'As': 33,\n",
        " 'Se': 34,\n",
        " 'Br': 35,\n",
        " 'Kr': 36,\n",
        " 'Rb': 37,\n",
        " 'Sr': 38,\n",
        " 'Mo': 42,\n",
        " 'Rh': 45,\n",
        " 'Ag': 47,\n",
        " 'Cd': 48,\n",
        " 'In': 49,\n",
        " 'Sn': 50,\n",
        " 'Sb': 51,\n",
        " 'Te': 52,\n",
        " 'I': 53,\n",
        " 'Xe': 54,\n",
        " 'Cs': 55,\n",
        " 'Ba': 56,\n",
        " 'W': 74,\n",
        " 'Re': 75,\n",
        " 'Hg': 80,\n",
        " 'Tl': 81,\n",
        " 'Pb': 82,\n",
        " 'Bi': 83,\n",
        " 'U': 92\n",
        "}\n",
        "\n",
        "orb_dict = {\n",
        " '1s': [1, 0, 0],\n",
        " '2s': [2, 0, 0],\n",
        " '2p': [2, 1, 0],\n",
        " '2p3/2': [2, 1, 1.5],\n",
        "\n",
        " '3s': [3, 0, 0],\n",
        " '3p': [3, 1, 0],\n",
        " '3p3/2': [3, 1, 1.5],\n",
        " '3d': [3, 2, 0],\n",
        " '3d5/2': [3, 2, 2.5],\n",
        "\n",
        " '4s': [4, 0, 0],\n",
        " '4p3/2': [4, 1, 1.5],\n",
        " '4d': [4, 2, 0],\n",
        " '4d5/2': [4, 2, 2.5],\n",
        " '4f7/2': [4, 3, 3.5],\n",
        "\n",
        " '5s': [5, 0, 0],\n",
        " '5p3/2': [5, 1, 1.5],\n",
        " '5d5/2': [5, 2, 2.5],\n",
        "}\n",
        "\n",
        "orb_list = list(orb_dict.keys())"
      ]
    },
    {
      "cell_type": "code",
      "execution_count": 59,
      "metadata": {
        "id": "74fba627",
        "colab": {
          "base_uri": "https://localhost:8080/"
        },
        "outputId": "09dd6681-eaec-4ac3-9e9d-23ea5fddd1ab"
      },
      "outputs": [
        {
          "output_type": "stream",
          "name": "stdout",
          "text": [
            "30 17\n"
          ]
        }
      ],
      "source": [
        "data = []\n",
        "\n",
        "for i in range(len(atoms)):\n",
        "\n",
        "    orb = orbs[i]\n",
        "    orb_vec = np.zeros(len(orb_list))\n",
        "    orb_vec[orb_list.index(orb)] = 1 # One-hot encoded vector\n",
        "\n",
        "    energy = energies[i]\n",
        "\n",
        "    state = states[i]\n",
        "\n",
        "    if i==5179:\n",
        "      print(len(state), len(orb_vec))\n",
        "\n",
        "    row = np.concatenate((state, orb_vec, [energy]))\n",
        "\n",
        "    data.append(row)\n",
        "\n",
        "data = np.array(data)"
      ]
    },
    {
      "cell_type": "markdown",
      "metadata": {
        "id": "a21ac284"
      },
      "source": [
        "Let us split into training and testing sets"
      ]
    },
    {
      "cell_type": "code",
      "execution_count": 60,
      "metadata": {
        "id": "e9432cdc"
      },
      "outputs": [],
      "source": [
        "data_train, data_test = train_test_split(data, train_size=0.8)\n",
        "data_train = np.float64(data_train)\n",
        "data_test = np.float64(data_test)"
      ]
    },
    {
      "cell_type": "code",
      "source": [
        "X_train = data_train[:,:-1]\n",
        "y_train = data_train[:,-1]\n",
        "y_train = y_train.reshape(-1, 1)"
      ],
      "metadata": {
        "id": "zN9JjHEpxHr6"
      },
      "execution_count": 61,
      "outputs": []
    },
    {
      "cell_type": "code",
      "source": [
        "from sklearn.ensemble import RandomForestRegressor\n",
        "from sklearn.model_selection import GridSearchCV\n",
        "from sklearn.metrics import mean_squared_error"
      ],
      "metadata": {
        "id": "LendEt7tylVX"
      },
      "execution_count": 62,
      "outputs": []
    },
    {
      "cell_type": "code",
      "source": [
        "# Define the model\n",
        "rf = RandomForestRegressor(random_state=42)\n",
        "\n",
        "# Define the hyperparameter grid\n",
        "param_grid = {\n",
        "    'n_estimators': [50, 100, 200],\n",
        "    'max_depth': [None, 5, 10, 20]\n",
        "}\n",
        "\n",
        "# Set up GridSearchCV\n",
        "grid_search = GridSearchCV(\n",
        "    estimator=rf,\n",
        "    param_grid=param_grid,\n",
        "    cv=5,\n",
        "    scoring='neg_mean_squared_error',  # or 'r2', 'neg_mean_absolute_error', etc.\n",
        "    n_jobs=-1,  # use all cores\n",
        "    verbose=2\n",
        ")"
      ],
      "metadata": {
        "id": "-CsaqGtkyoHM"
      },
      "execution_count": 64,
      "outputs": []
    },
    {
      "cell_type": "code",
      "source": [
        "# Fit the model\n",
        "grid_search.fit(X_train, y_train)\n",
        "\n",
        "# Best parameters and score\n",
        "print(\"Best parameters:\", grid_search.best_params_)\n",
        "print(\"Best score (neg MSE):\", grid_search.best_score_)\n",
        "\n",
        "# Best estimator (model ready for prediction)\n",
        "best_rf = grid_search.best_estimator_"
      ],
      "metadata": {
        "colab": {
          "base_uri": "https://localhost:8080/"
        },
        "id": "Q5uybWW0yqdy",
        "outputId": "6959c5a1-d578-4773-958a-c13e10870b80"
      },
      "execution_count": 65,
      "outputs": [
        {
          "output_type": "stream",
          "name": "stdout",
          "text": [
            "Fitting 5 folds for each of 12 candidates, totalling 60 fits\n"
          ]
        },
        {
          "output_type": "stream",
          "name": "stderr",
          "text": [
            "/usr/local/lib/python3.11/dist-packages/sklearn/base.py:1389: DataConversionWarning: A column-vector y was passed when a 1d array was expected. Please change the shape of y to (n_samples,), for example using ravel().\n",
            "  return fit_method(estimator, *args, **kwargs)\n"
          ]
        },
        {
          "output_type": "stream",
          "name": "stdout",
          "text": [
            "Best parameters: {'max_depth': 10, 'n_estimators': 200}\n",
            "Best score (neg MSE): -2933.3205924505583\n"
          ]
        }
      ]
    },
    {
      "cell_type": "markdown",
      "source": [
        "Test set prediction"
      ],
      "metadata": {
        "id": "GgKLez4Oy1WR"
      }
    },
    {
      "cell_type": "code",
      "source": [
        "X_test = data_test[:,:-1]\n",
        "y_pred = best_rf.predict(X_test)\n",
        "\n",
        "y_test = data_test[:,-1]"
      ],
      "metadata": {
        "id": "uCLIi640yr_2"
      },
      "execution_count": 68,
      "outputs": []
    },
    {
      "cell_type": "code",
      "source": [
        "np.mean((y_pred-y_test)**2)"
      ],
      "metadata": {
        "colab": {
          "base_uri": "https://localhost:8080/"
        },
        "id": "XXbJwbwUy9CD",
        "outputId": "7a4ab159-012a-4177-a131-3dfd70f65a50"
      },
      "execution_count": 69,
      "outputs": [
        {
          "output_type": "execute_result",
          "data": {
            "text/plain": [
              "np.float64(522.2249966785187)"
            ]
          },
          "metadata": {},
          "execution_count": 69
        }
      ]
    },
    {
      "cell_type": "code",
      "source": [
        "fig, ax = plt.subplots(1, figsize=(4,4))\n",
        "\n",
        "ax.scatter(y_test, y_pred-y_test)\n",
        "ax.set_xlabel(r'$y_\\mathrm{test}$ (Binding energy)')\n",
        "ax.set_ylabel(r'$y_\\mathrm{pred}-y_\\mathrm{test}$')"
      ],
      "metadata": {
        "colab": {
          "base_uri": "https://localhost:8080/",
          "height": 412
        },
        "id": "aYbcgLnWzA4T",
        "outputId": "00d2ace8-bd23-4d69-8691-1e2240629f7b"
      },
      "execution_count": 70,
      "outputs": [
        {
          "output_type": "execute_result",
          "data": {
            "text/plain": [
              "Text(0, 0.5, '$y_\\\\mathrm{pred}-y_\\\\mathrm{test}$')"
            ]
          },
          "metadata": {},
          "execution_count": 70
        },
        {
          "output_type": "display_data",
          "data": {
            "text/plain": [
              "<Figure size 400x400 with 1 Axes>"
            ],
            "image/png": "[encoded data removed]"
          },
          "metadata": {}
        }
      ]
    },
    {
      "cell_type": "code",
      "source": [],
      "metadata": {
        "id": "OuHoAd7ZzNSZ"
      },
      "execution_count": null,
      "outputs": []
    }
  ]
}