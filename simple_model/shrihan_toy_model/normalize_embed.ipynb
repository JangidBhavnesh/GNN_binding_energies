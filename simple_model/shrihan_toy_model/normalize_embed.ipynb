{
  "cells": [
    {
      "cell_type": "code",
      "execution_count": 1,
      "metadata": {
        "id": "daea5f32"
      },
      "outputs": [],
      "source": [
        "import networkx as nx\n",
        "import matplotlib.pyplot as plt\n",
        "import numpy as np\n",
        "from tqdm import tqdm\n",
        "from sklearn.model_selection import train_test_split\n",
        "import torch\n",
        "import torch.nn as nn\n",
        "import torch.optim as optim\n",
        "from torch.utils.data import DataLoader, TensorDataset\n",
        "import pandas as pd\n",
        "from sklearn.preprocessing import MinMaxScaler\n"
      ]
    },
    {
      "cell_type": "code",
      "execution_count": null,
      "metadata": {
        "id": "I8HfKY2D_83m"
      },
      "outputs": [],
      "source": [
        "# CURRENTLY THIS NOTEBOOK IS BROKEN\n",
        "import json\n",
        "import networkx as nx\n",
        "import copy\n",
        "\n",
        "def load_data_from_file(filename):\n",
        "    \"\"\"\n",
        "    Load a dictionary of graphs from JSON file.\n",
        "    \"\"\"\n",
        "    with open(filename, \"r\") as file_handle:\n",
        "        string_dict = json.load(file_handle)\n",
        "    return _load_data_from_string_dict(string_dict)\n",
        "\n",
        "def load_data_from_string(json_string):\n",
        "    \"\"\"\n",
        "    Load a dictionary of graphs from JSON string.\n",
        "    \"\"\"\n",
        "    string_dict = json.loads(json_string)\n",
        "    return _load_data_from_string_dict(string_dict)\n",
        "\n",
        "def _load_data_from_string_dict(string_dict):\n",
        "    result_dict = {}\n",
        "    for key in string_dict:\n",
        "\n",
        "        data = copy.deepcopy(string_dict[key])\n",
        "\n",
        "        if 'edges' in data:\n",
        "            data[\"links\"] = data.pop(\"edges\")\n",
        "\n",
        "        graph = nx.node_link_graph(data)\n",
        "        result_dict[key] = graph\n",
        "    return result_dict\n",
        "\n",
        "def write_data_to_json_string(graph_dict, **kwargs):\n",
        "    \"\"\"\n",
        "    Write dictionary of graphs to JSON string.\n",
        "    \"\"\"\n",
        "    json_string = json.dumps(graph_dict, default=nx.node_link_data, **kwargs)\n",
        "    return json_string\n",
        "\n",
        "\n",
        "def write_data_to_json_file(graph_dict, filename, **kwargs):\n",
        "    \"\"\"\n",
        "    Write dictionary of graphs to JSON file.\n",
        "    \"\"\"\n",
        "    with open(filename, \"w\") as file_handle:\n",
        "        file_handle.write(write_data_to_json_string(graph_dict, **kwargs))"
      ]
    },
    {
      "cell_type": "markdown",
      "metadata": {
        "id": "0aa85b9d"
      },
      "source": [
        "First, load unique data points"
      ]
    },
    {
      "cell_type": "code",
      "execution_count": 3,
      "metadata": {
        "colab": {
          "base_uri": "https://localhost:8080/"
        },
        "id": "d53b1aa9",
        "outputId": "85e56084-a66f-4db5-e270-cae68d24dc75"
      },
      "outputs": [
        {
          "name": "stderr",
          "output_type": "stream",
          "text": [
            "/project/ai4s-hackathon/R2S2/shrihan/venvs/shri_gnnpytorch/lib/python3.11/site-packages/networkx/readwrite/json_graph/node_link.py:287: FutureWarning: \n",
            "The default value will be changed to `edges=\"edges\" in NetworkX 3.6.\n",
            "\n",
            "To make this warning go away, explicitly set the edges kwarg, e.g.:\n",
            "\n",
            "  nx.node_link_graph(data, edges=\"links\") to preserve current behavior, or\n",
            "  nx.node_link_graph(data, edges=\"edges\") for forward compatibility.\n",
            "  warnings.warn(\n"
          ]
        }
      ],
      "source": [
        "train_data = load_data_from_file(\"../../data/graph_data.json\") # dictionary of SMILES and values are graphs\n",
        "embeddings = pd.read_csv('../../embedding/final_embedding_dim30.csv')"
      ]
    },
    {
      "cell_type": "code",
      "execution_count": 61,
      "metadata": {},
      "outputs": [
        {
          "data": {
            "text/html": [
              "<div>\n",
              "<style scoped>\n",
              "    .dataframe tbody tr th:only-of-type {\n",
              "        vertical-align: middle;\n",
              "    }\n",
              "\n",
              "    .dataframe tbody tr th {\n",
              "        vertical-align: top;\n",
              "    }\n",
              "\n",
              "    .dataframe thead th {\n",
              "        text-align: right;\n",
              "    }\n",
              "</style>\n",
              "<table border=\"1\" class=\"dataframe\">\n",
              "  <thead>\n",
              "    <tr style=\"text-align: right;\">\n",
              "      <th></th>\n",
              "      <th>Atoms</th>\n",
              "      <th>Orbital</th>\n",
              "      <th>Embeddings</th>\n",
              "    </tr>\n",
              "  </thead>\n",
              "  <tbody>\n",
              "    <tr>\n",
              "      <th>0</th>\n",
              "      <td>B</td>\n",
              "      <td>1s</td>\n",
              "      <td>[ 0.7674839  -1.064584    1.375875    4.891208...</td>\n",
              "    </tr>\n",
              "    <tr>\n",
              "      <th>1</th>\n",
              "      <td>C</td>\n",
              "      <td>1s</td>\n",
              "      <td>[ 1.4762408  -0.5725381  -3.6370533  -3.381879...</td>\n",
              "    </tr>\n",
              "    <tr>\n",
              "      <th>2</th>\n",
              "      <td>F</td>\n",
              "      <td>1s</td>\n",
              "      <td>[ 3.5082635e-01  5.3094700e-04 -8.5528314e-01 ...</td>\n",
              "    </tr>\n",
              "    <tr>\n",
              "      <th>3</th>\n",
              "      <td>Li</td>\n",
              "      <td>1s</td>\n",
              "      <td>[ -0.9012349    0.45608097  -1.4500529   -0.68...</td>\n",
              "    </tr>\n",
              "    <tr>\n",
              "      <th>4</th>\n",
              "      <td>Mg</td>\n",
              "      <td>1s</td>\n",
              "      <td>[ -5.154729     5.9465804   10.670059     4.06...</td>\n",
              "    </tr>\n",
              "    <tr>\n",
              "      <th>...</th>\n",
              "      <td>...</td>\n",
              "      <td>...</td>\n",
              "      <td>...</td>\n",
              "    </tr>\n",
              "    <tr>\n",
              "      <th>100</th>\n",
              "      <td>Xe</td>\n",
              "      <td>4s</td>\n",
              "      <td>[-0.00260831 -0.03788212  0.05341679  0.044250...</td>\n",
              "    </tr>\n",
              "    <tr>\n",
              "      <th>101</th>\n",
              "      <td>Hg</td>\n",
              "      <td>5d5/2</td>\n",
              "      <td>[ 4.4642348e+00 -5.6740198e+00 -3.0377681e+00 ...</td>\n",
              "    </tr>\n",
              "    <tr>\n",
              "      <th>102</th>\n",
              "      <td>Pb</td>\n",
              "      <td>5d5/2</td>\n",
              "      <td>[-1.1037469  -5.14788    -0.6410701   1.611648...</td>\n",
              "    </tr>\n",
              "    <tr>\n",
              "      <th>103</th>\n",
              "      <td>Hg</td>\n",
              "      <td>5p3/2</td>\n",
              "      <td>[ 4.4642348e+00 -5.6740198e+00 -3.0377681e+00 ...</td>\n",
              "    </tr>\n",
              "    <tr>\n",
              "      <th>104</th>\n",
              "      <td>Hg</td>\n",
              "      <td>5s</td>\n",
              "      <td>[ 4.4642348e+00 -5.6740198e+00 -3.0377681e+00 ...</td>\n",
              "    </tr>\n",
              "  </tbody>\n",
              "</table>\n",
              "<p>105 rows × 3 columns</p>\n",
              "</div>"
            ],
            "text/plain": [
              "    Atoms Orbital                                         Embeddings\n",
              "0       B      1s  [ 0.7674839  -1.064584    1.375875    4.891208...\n",
              "1       C      1s  [ 1.4762408  -0.5725381  -3.6370533  -3.381879...\n",
              "2       F      1s  [ 3.5082635e-01  5.3094700e-04 -8.5528314e-01 ...\n",
              "3      Li      1s  [ -0.9012349    0.45608097  -1.4500529   -0.68...\n",
              "4      Mg      1s  [ -5.154729     5.9465804   10.670059     4.06...\n",
              "..    ...     ...                                                ...\n",
              "100    Xe      4s  [-0.00260831 -0.03788212  0.05341679  0.044250...\n",
              "101    Hg   5d5/2  [ 4.4642348e+00 -5.6740198e+00 -3.0377681e+00 ...\n",
              "102    Pb   5d5/2  [-1.1037469  -5.14788    -0.6410701   1.611648...\n",
              "103    Hg   5p3/2  [ 4.4642348e+00 -5.6740198e+00 -3.0377681e+00 ...\n",
              "104    Hg      5s  [ 4.4642348e+00 -5.6740198e+00 -3.0377681e+00 ...\n",
              "\n",
              "[105 rows x 3 columns]"
            ]
          },
          "execution_count": 61,
          "metadata": {},
          "output_type": "execute_result"
        }
      ],
      "source": [
        "embeddings"
      ]
    },
    {
      "cell_type": "code",
      "execution_count": 65,
      "metadata": {},
      "outputs": [],
      "source": [
        "def convert_to_embedding(atom, orbital, embeddings):\n",
        "    \"\"\"\n",
        "    Convert graph dictionary to embedding matrix.\n",
        "    \"\"\"\n",
        "    \n",
        "    # Embedding IDs\n",
        "    change_to_list = lambda x: list(np.fromstring(x.replace('\\n','').strip('[]'), sep=' '))\n",
        "    emb_vector = embeddings[(embeddings['Atoms'] == atom) & (embeddings['Orbital'] == orbital)][\"Embeddings\"].iloc[0]\n",
        "    \n",
        "    return change_to_list(emb_vector)\n",
        "    "
      ]
    },
    {
      "cell_type": "code",
      "execution_count": 68,
      "metadata": {
        "id": "2c1f9f94"
      },
      "outputs": [],
      "source": [
        "# get all the unique atom types, orbitals and their respective binding energies\n",
        "\n",
        "atoms = []\n",
        "charges = []\n",
        "orbs = []\n",
        "energies = []\n",
        "embedded_vectors = []\n",
        "\n",
        "\n",
        "for mol in train_data:\n",
        "    graph = train_data[mol]\n",
        "\n",
        "    atom = list(nx.get_node_attributes(graph, \"atom_type\").values())\n",
        "    charge = list(nx.get_node_attributes(graph, \"formal_charge\").values())\n",
        "    orb = list(nx.get_node_attributes(graph, \"orbitals\").values())\n",
        "    energy = list(nx.get_node_attributes(graph, \"binding_energies\").values())\n",
        "\n",
        "    for i in range(len(orb)):\n",
        "        for j in range(len(orb[i])):\n",
        "            if energy[i][j]!=-1:\n",
        "                atoms.append(atom[i])\n",
        "                charges.append(charge[i])\n",
        "                orbs.append(orb[i][j])\n",
        "                energies.append(energy[i][j])\n",
        "                embedded_vectors.append(convert_to_embedding(atom[i], orb[i][j], embeddings))"
      ]
    },
    {
      "cell_type": "markdown",
      "metadata": {
        "id": "db3694ee"
      },
      "source": [
        "Encode these data points, both atomic number and quantum numbers for orbitals"
      ]
    },
    {
      "cell_type": "code",
      "execution_count": 69,
      "metadata": {
        "id": "58ffa7c2"
      },
      "outputs": [],
      "source": [
        "atom_dict = {\n",
        " 'Li': 3,\n",
        " 'B': 5,\n",
        " 'C': 6,\n",
        " 'N': 7,\n",
        " 'O': 8,\n",
        " 'F': 9,\n",
        " 'Ne': 10,\n",
        " 'Na': 11,\n",
        " 'Mg': 12,\n",
        " 'Al': 13,\n",
        " 'Si': 14,\n",
        " 'P': 15,\n",
        " 'S': 16,\n",
        " 'Cl': 17,\n",
        " 'Ar': 18,\n",
        " 'K': 19,\n",
        " 'Ca': 20,\n",
        " 'Ti': 22,\n",
        " 'V': 23,\n",
        " 'Cr': 24,\n",
        " 'Mn': 25,\n",
        " 'Fe': 26,\n",
        " 'Co': 27,\n",
        " 'Ni': 28,\n",
        " 'Cu': 29,\n",
        " 'Zn': 30,\n",
        " 'Ga': 31,\n",
        " 'Ge': 32,\n",
        " 'As': 33,\n",
        " 'Se': 34,\n",
        " 'Br': 35,\n",
        " 'Kr': 36,\n",
        " 'Rb': 37,\n",
        " 'Sr': 38,\n",
        " 'Mo': 42,\n",
        " 'Rh': 45,\n",
        " 'Ag': 47,\n",
        " 'Cd': 48,\n",
        " 'In': 49,\n",
        " 'Sn': 50,\n",
        " 'Sb': 51,\n",
        " 'Te': 52,\n",
        " 'I': 53,\n",
        " 'Xe': 54,\n",
        " 'Cs': 55,\n",
        " 'Ba': 56,\n",
        " 'W': 74,\n",
        " 'Re': 75,\n",
        " 'Hg': 80,\n",
        " 'Tl': 81,\n",
        " 'Pb': 82,\n",
        " 'Bi': 83,\n",
        " 'U': 92\n",
        "}\n",
        "\n",
        "orb_dict = {\n",
        " '2p': [2, 1, 0],\n",
        " '2p3/2': [2, 1, 1.5],\n",
        " '4p3/2': [4, 1, 1.5],\n",
        " '3d5/2': [3, 2, 2.5],\n",
        " '3d': [3, 2, 0],\n",
        " '5p3/2': [5, 1, 1.5],\n",
        " '2s': [2, 0, 0],\n",
        " '1s': [1, 0, 0],\n",
        " '4s': [4, 0, 0],\n",
        " '3p': [3, 1, 0],\n",
        " '5d5/2': [5, 2, 2.5],\n",
        " '5s': [5, 0, 0],\n",
        " '3s': [3, 0, 0],\n",
        " '3p3/2': [3, 1, 1.5],\n",
        " '4d5/2': [4, 2, 2.5],\n",
        " '4d': [4, 2, 0],\n",
        " '4f7/2': [4, 3, 3.5]\n",
        "}"
      ]
    },
    {
      "cell_type": "code",
      "execution_count": 70,
      "metadata": {
        "id": "74fba627"
      },
      "outputs": [],
      "source": [
        "raw_features = []\n",
        "\n",
        "for i in range(len(atoms)):\n",
        "    atom = atoms[i]\n",
        "    charge = charges[i]\n",
        "    orb = orbs[i]\n",
        "    state = embedded_vectors[i]\n",
        "\n",
        "    atomic_number = atom_dict[atom]\n",
        "    q_numbers = orb_dict[orb]\n",
        "    raw_features.append([atomic_number]+[charge]+q_numbers)\n",
        "    \n",
        "raw_features = np.array(raw_features)"
      ]
    },
    {
      "cell_type": "code",
      "execution_count": 73,
      "metadata": {},
      "outputs": [
        {
          "ename": "ValueError",
          "evalue": "setting an array element with a sequence. The requested array has an inhomogeneous shape after 1 dimensions. The detected shape was (5192,) + inhomogeneous part.",
          "output_type": "error",
          "traceback": [
            "\u001b[0;31m---------------------------------------------------------------------------\u001b[0m",
            "\u001b[0;31mValueError\u001b[0m                                Traceback (most recent call last)",
            "Cell \u001b[0;32mIn[73], line 4\u001b[0m\n\u001b[1;32m      2\u001b[0m features \u001b[38;5;241m=\u001b[39m scaler\u001b[38;5;241m.\u001b[39mfit_transform(raw_features)\n\u001b[1;32m      3\u001b[0m log_energies \u001b[38;5;241m=\u001b[39m np\u001b[38;5;241m.\u001b[39mlog10(energies)\n\u001b[0;32m----> 4\u001b[0m embedded_data \u001b[38;5;241m=\u001b[39m np\u001b[38;5;241m.\u001b[39marray(embedded_vectors)\n",
            "\u001b[0;31mValueError\u001b[0m: setting an array element with a sequence. The requested array has an inhomogeneous shape after 1 dimensions. The detected shape was (5192,) + inhomogeneous part."
          ]
        }
      ],
      "source": [
        "scaler = MinMaxScaler()\n",
        "features = scaler.fit_transform(raw_features)\n",
        "log_energies = np.log10(energies)\n",
        "embedded_data = np.array(embedded_vectors)"
      ]
    },
    {
      "cell_type": "code",
      "execution_count": 72,
      "metadata": {},
      "outputs": [
        {
          "data": {
            "text/plain": [
              "((5192, 5), (5192, 31), (5192, 1))"
            ]
          },
          "execution_count": 72,
          "metadata": {},
          "output_type": "execute_result"
        }
      ],
      "source": [
        "features.shape,  embedded_data.shape, log_energies.reshape(5192, 1).shape"
      ]
    },
    {
      "cell_type": "code",
      "execution_count": 11,
      "metadata": {},
      "outputs": [],
      "source": [
        "data = np.concatenate([features, embedded_data, np.expand_dims(log_energies, axis=1)], axis=1)"
      ]
    },
    {
      "cell_type": "code",
      "execution_count": 12,
      "metadata": {},
      "outputs": [
        {
          "data": {
            "text/plain": [
              "array([  0.49438202,   0.25      ,   0.5       ,   0.66666667,\n",
              "         0.71428571,   6.735933  ,  -6.153499  ,  -1.8008256 ,\n",
              "        -2.9908068 ,   0.48990375,   2.2316253 ,  -0.21028805,\n",
              "        -1.2430507 ,   0.94597477,   0.09425366,  -1.2222649 ,\n",
              "        -0.81588507,   2.032324  ,   7.849218  ,   3.0435503 ,\n",
              "        -3.0817854 ,  -3.3048282 ,   0.6487707 ,   4.5218997 ,\n",
              "         0.80362695,   0.49908733,   4.5457454 ,   8.526806  ,\n",
              "         1.712713  ,   0.55380374, -10.5964365 ,   8.409174  ,\n",
              "        -7.5938244 ,   1.912712  ,  16.921257  ,   0.43240336,\n",
              "         2.57466777])"
            ]
          },
          "execution_count": 12,
          "metadata": {},
          "output_type": "execute_result"
        }
      ],
      "source": [
        "# example datapoint\n",
        "data[0]"
      ]
    },
    {
      "cell_type": "markdown",
      "metadata": {
        "id": "a21ac284"
      },
      "source": [
        "Let us split into training and testing sets"
      ]
    },
    {
      "cell_type": "code",
      "execution_count": 13,
      "metadata": {
        "id": "e9432cdc"
      },
      "outputs": [],
      "source": [
        "data_train, data_test = train_test_split(data, train_size=0.8)\n",
        "data_train = np.float64(data_train)\n",
        "data_test = np.float64(data_test)"
      ]
    },
    {
      "cell_type": "markdown",
      "metadata": {
        "id": "cdc580ce"
      },
      "source": [
        "First, the training - let us split into input and output vectors"
      ]
    },
    {
      "cell_type": "code",
      "execution_count": 14,
      "metadata": {
        "id": "d95d77bc"
      },
      "outputs": [],
      "source": [
        "X_train = data_train[:,:-1]\n",
        "y_train = data_train[:,-1]\n",
        "y_train = y_train.reshape(-1, 1)"
      ]
    },
    {
      "cell_type": "code",
      "execution_count": 15,
      "metadata": {
        "id": "524228df"
      },
      "outputs": [],
      "source": [
        "# Define the MLP model\n",
        "import torch.nn.functional as F\n",
        "\n",
        "class MLP(nn.Module):\n",
        "    def __init__(self, input_size, hidden_size=64, output_size=1, dropout_rate=0.2):\n",
        "        super(MLP, self).__init__()\n",
        "        self.fc1 = nn.Linear(input_size, hidden_size)\n",
        "        self.bn1 = nn.BatchNorm1d(hidden_size)\n",
        "        self.dropout = nn.Dropout(dropout_rate)\n",
        "        self.fc2 = nn.Linear(hidden_size, hidden_size)\n",
        "        self.bn2 = nn.BatchNorm1d(hidden_size)\n",
        "        self.fc3 = nn.Linear(hidden_size, output_size)\n",
        "\n",
        "    def forward(self, x):\n",
        "        x = self.fc1(x)\n",
        "        x = self.bn1(x)\n",
        "        x = F.leaky_relu(x, 0.1)\n",
        "        x = self.dropout(x)\n",
        "        x = self.fc2(x)\n",
        "        x = self.bn2(x)\n",
        "        x = F.leaky_relu(x, 0.1)\n",
        "        x = self.fc3(x)\n",
        "        return x"
      ]
    },
    {
      "cell_type": "code",
      "execution_count": 17,
      "metadata": {
        "id": "b1c0b64a"
      },
      "outputs": [],
      "source": [
        "# Model parameters\n",
        "input_size = 36\n",
        "hidden_size = 64\n",
        "output_size = 1\n",
        "batch_size = 8\n",
        "learning_rate = 1e-2\n",
        "num_epochs = 100"
      ]
    },
    {
      "cell_type": "code",
      "execution_count": 18,
      "metadata": {
        "id": "35d2a81c"
      },
      "outputs": [],
      "source": [
        "# Instantiate the model\n",
        "model = MLP(input_size, hidden_size, output_size)\n",
        "\n",
        "# Define the loss function and optimizer\n",
        "criterion = nn.MSELoss()\n",
        "optimizer = torch.optim.Adam(model.parameters(), lr=learning_rate, weight_decay=1e-5)"
      ]
    },
    {
      "cell_type": "code",
      "execution_count": 19,
      "metadata": {
        "colab": {
          "base_uri": "https://localhost:8080/"
        },
        "id": "5h-Cp7NSB--t",
        "outputId": "c60e3fa1-9e9f-4494-ab31-c38d4cb9d8c3"
      },
      "outputs": [
        {
          "name": "stderr",
          "output_type": "stream",
          "text": [
            "/project/ai4s-hackathon/R2S2/shrihan/venvs/shri_gnnpytorch/lib/python3.11/site-packages/torch/optim/lr_scheduler.py:28: UserWarning: The verbose parameter is deprecated. Please use get_last_lr() to access the learning rate.\n",
            "  warnings.warn(\"The verbose parameter is deprecated. Please use get_last_lr() \"\n"
          ]
        }
      ],
      "source": [
        "scheduler = torch.optim.lr_scheduler.ReduceLROnPlateau(\n",
        "    optimizer, mode='min', factor=0.5, patience=5, verbose=True\n",
        ")"
      ]
    },
    {
      "cell_type": "code",
      "execution_count": 20,
      "metadata": {
        "id": "Rfl3ZEzkCNqk"
      },
      "outputs": [],
      "source": [
        "# Split training data into train and validation\n",
        "X_train_actual, X_val, y_train_actual, y_val = train_test_split(\n",
        "    X_train, y_train, test_size=0.2, random_state=42\n",
        ")"
      ]
    },
    {
      "cell_type": "code",
      "execution_count": 21,
      "metadata": {
        "id": "3fb3de08"
      },
      "outputs": [],
      "source": [
        "# Create datasets and dataloaders\n",
        "train_dataset = TensorDataset(\n",
        "    torch.tensor(X_train_actual, dtype=torch.float32),\n",
        "    torch.tensor(y_train_actual, dtype=torch.float32)\n",
        ")\n",
        "val_dataset = TensorDataset(\n",
        "    torch.tensor(X_val, dtype=torch.float32),\n",
        "    torch.tensor(y_val, dtype=torch.float32)\n",
        ")"
      ]
    },
    {
      "cell_type": "code",
      "execution_count": 22,
      "metadata": {
        "id": "RUR3kqp-CS_i"
      },
      "outputs": [],
      "source": [
        "train_loader = DataLoader(train_dataset, batch_size=batch_size, shuffle=True)\n",
        "val_loader = DataLoader(val_dataset, batch_size=batch_size)"
      ]
    },
    {
      "cell_type": "code",
      "execution_count": 23,
      "metadata": {
        "colab": {
          "base_uri": "https://localhost:8080/"
        },
        "id": "68f2e6d0",
        "outputId": "29346908-d883-40e4-c838-3d4fa45dec5e"
      },
      "outputs": [
        {
          "name": "stdout",
          "output_type": "stream",
          "text": [
            "Epoch 10/100: Train Loss: 0.0304, Val Loss: 0.0287, Learning Rate: 0.010000\n",
            "Epoch 20/100: Train Loss: 0.0250, Val Loss: 0.0286, Learning Rate: 0.002500\n",
            "Epoch 30/100: Train Loss: 0.0219, Val Loss: 0.0306, Learning Rate: 0.001250\n",
            "Epoch 40/100: Train Loss: 0.0212, Val Loss: 0.0351, Learning Rate: 0.000313\n",
            "Epoch 50/100: Train Loss: 0.0200, Val Loss: 0.0336, Learning Rate: 0.000156\n",
            "Epoch 60/100: Train Loss: 0.0205, Val Loss: 0.0290, Learning Rate: 0.000039\n",
            "Epoch 70/100: Train Loss: 0.0203, Val Loss: 0.0342, Learning Rate: 0.000010\n",
            "Epoch 80/100: Train Loss: 0.0204, Val Loss: 0.0322, Learning Rate: 0.000005\n",
            "Epoch 90/100: Train Loss: 0.0202, Val Loss: 0.0346, Learning Rate: 0.000001\n",
            "Epoch 100/100: Train Loss: 0.0205, Val Loss: 0.0416, Learning Rate: 0.000000\n"
          ]
        }
      ],
      "source": [
        "# Training loop with validation\n",
        "train_losses = []\n",
        "val_losses = []\n",
        "\n",
        "best_val_loss = float('inf')\n",
        "for epoch in range(num_epochs):\n",
        "    # Training phase\n",
        "    model.train()\n",
        "    train_loss = 0.0\n",
        "    for inputs, targets in train_loader:\n",
        "        optimizer.zero_grad()\n",
        "        outputs = model(inputs)\n",
        "        loss = F.mse_loss(outputs, targets)\n",
        "        loss.backward()\n",
        "        torch.nn.utils.clip_grad_norm_(model.parameters(), max_norm=1.0)  # Gradient clipping\n",
        "        optimizer.step()\n",
        "        train_loss += loss.item()\n",
        "\n",
        "    train_loss /= len(train_loader)\n",
        "\n",
        "    # Validation phase\n",
        "    model.eval()\n",
        "    val_loss = 0.0\n",
        "    with torch.no_grad():\n",
        "        for inputs, targets in val_loader:\n",
        "            outputs = model(inputs)\n",
        "            val_loss += F.mse_loss(outputs, targets).item()\n",
        "\n",
        "    val_loss /= len(val_loader)\n",
        "    train_losses.append(train_loss)\n",
        "    val_losses.append(val_loss)\n",
        "    # Learning rate adjustment\n",
        "    scheduler.step(val_loss)\n",
        "\n",
        "    # Print metrics and save best model\n",
        "    if (epoch + 1) % 10 == 0:\n",
        "        current_lr = optimizer.param_groups[0]['lr']\n",
        "        print(f\"Epoch {epoch+1}/{num_epochs}: Train Loss: {train_loss:.4f}, Val Loss: {val_loss:.4f}, Learning Rate: {current_lr:.6f}\")\n",
        "\n",
        "    if val_loss < best_val_loss:\n",
        "        best_val_loss = val_loss\n",
        "        torch.save(model.state_dict(), 'model_save/best_model_emb_norm.pt')"
      ]
    },
    {
      "cell_type": "markdown",
      "metadata": {
        "id": "bdfbce33"
      },
      "source": [
        "Evaluate model predictions on test set"
      ]
    },
    {
      "cell_type": "code",
      "execution_count": 24,
      "metadata": {
        "id": "9aa4a5dc"
      },
      "outputs": [],
      "source": [
        "X_test = data_test[:,:-1]"
      ]
    },
    {
      "cell_type": "code",
      "execution_count": 25,
      "metadata": {
        "id": "78ded8a7"
      },
      "outputs": [],
      "source": [
        "# Minimal batch prediction approach\n",
        "# Kernel dies in the simplest approach\n",
        "\n",
        "# Set model to evaluation mode\n",
        "model.eval()\n",
        "\n",
        "# Define a reasonable batch size\n",
        "batch_size = 16\n",
        "\n",
        "# Create empty array for predictions\n",
        "num_samples = X_test.shape[0]\n",
        "y_pred_test = np.zeros((num_samples, 1))\n",
        "\n",
        "# Process in batches\n",
        "for i in range(0, num_samples, batch_size):\n",
        "    end_idx = min(i + batch_size, num_samples)\n",
        "    batch_X = X_test[i:end_idx]\n",
        "\n",
        "    # Convert to tensor, ensure float type\n",
        "    batch_tensor = torch.tensor(batch_X, dtype=torch.float32)\n",
        "\n",
        "    # Make prediction with no gradient tracking\n",
        "    with torch.no_grad():\n",
        "        y_pred_test[i:end_idx] = model(batch_tensor).numpy()\n",
        "\n",
        "# Get actual test values and evaluate\n",
        "y_test = data_test[:, -1].reshape(-1, 1)"
      ]
    },
    {
      "cell_type": "code",
      "execution_count": 26,
      "metadata": {
        "colab": {
          "base_uri": "https://localhost:8080/"
        },
        "id": "a85edcba",
        "outputId": "7f3c75e0-9a47-4bde-8f3c-050de378deca"
      },
      "outputs": [
        {
          "data": {
            "text/plain": [
              "0.04427821556936909"
            ]
          },
          "execution_count": 26,
          "metadata": {},
          "output_type": "execute_result"
        }
      ],
      "source": [
        "np.mean((y_test-y_pred_test)**2)"
      ]
    },
    {
      "cell_type": "code",
      "execution_count": 31,
      "metadata": {
        "colab": {
          "base_uri": "https://localhost:8080/",
          "height": 410
        },
        "id": "2d62082d",
        "outputId": "522ce765-215a-482a-d03b-8d44b0f696da"
      },
      "outputs": [
        {
          "data": {
            "text/plain": [
              "Text(0, 0.5, '$\\\\log{y_\\\\mathrm{pred}}-\\\\log{y_\\\\mathrm{test}}$ (Binding energy)')"
            ]
          },
          "execution_count": 31,
          "metadata": {},
          "output_type": "execute_result"
        },
        {
          "data": {
            "image/png": "[encoded data removed]",
            "text/plain": [
              "<Figure size 400x400 with 1 Axes>"
            ]
          },
          "metadata": {},
          "output_type": "display_data"
        }
      ],
      "source": [
        "fig, ax = plt.subplots(1, figsize=(4,4))\n",
        "\n",
        "ax.scatter(y_test, y_pred_test-y_test)\n",
        "ax.set_xlabel(r'$\\log{y_\\mathrm{test}}$ (Binding energy)')\n",
        "ax.set_ylabel(r'$\\log{y_\\mathrm{pred}}-\\log{y_\\mathrm{test}}$ (Binding energy)')"
      ]
    },
    {
      "cell_type": "code",
      "execution_count": 32,
      "metadata": {},
      "outputs": [
        {
          "data": {
            "text/plain": [
              "Text(0, 0.5, '$y_\\\\mathrm{pred}-y_\\\\mathrm{test}$ (Binding energy)')"
            ]
          },
          "execution_count": 32,
          "metadata": {},
          "output_type": "execute_result"
        },
        {
          "data": {
            "image/png": "[encoded data removed]",
            "text/plain": [
              "<Figure size 400x400 with 1 Axes>"
            ]
          },
          "metadata": {},
          "output_type": "display_data"
        }
      ],
      "source": [
        "fig, ax = plt.subplots(1, figsize=(4,4))\n",
        "\n",
        "ax.scatter(10 ** y_test, (10 ** y_pred_test) - (10 ** y_test))\n",
        "ax.set_xlabel(r'$y_\\mathrm{test}$ (Binding energy)')\n",
        "ax.set_ylabel(r'$y_\\mathrm{pred}-y_\\mathrm{test}$ (Binding energy)')"
      ]
    },
    {
      "cell_type": "code",
      "execution_count": 29,
      "metadata": {
        "id": "nJJFFu7Ms03e"
      },
      "outputs": [
        {
          "data": {
            "image/png": "[encoded data removed]",
            "text/plain": [
              "<Figure size 800x600 with 1 Axes>"
            ]
          },
          "metadata": {},
          "output_type": "display_data"
        }
      ],
      "source": [
        "plt.figure(figsize=(8, 6))\n",
        "plt.plot(range(1, len(train_losses) + 1), train_losses, label='Training Loss')\n",
        "plt.plot(range(1, len(val_losses) + 1), val_losses, label='Validation Loss')\n",
        "plt.xlabel('Epoch')\n",
        "plt.ylabel('MSE Loss')\n",
        "plt.title('Training and Validation Loss')\n",
        "plt.legend()\n",
        "plt.grid(True)\n",
        "plt.show()"
      ]
    },
    {
      "cell_type": "code",
      "execution_count": null,
      "metadata": {},
      "outputs": [],
      "source": []
    }
  ],
  "metadata": {
    "accelerator": "GPU",
    "colab": {
      "gpuType": "T4",
      "provenance": []
    },
    "kernelspec": {
      "display_name": "shri_gnnpytorch",
      "language": "python",
      "name": "python3"
    },
    "language_info": {
      "codemirror_mode": {
        "name": "ipython",
        "version": 3
      },
      "file_extension": ".py",
      "mimetype": "text/x-python",
      "name": "python",
      "nbconvert_exporter": "python",
      "pygments_lexer": "ipython3",
      "version": "3.11.4"
    }
  },
  "nbformat": 4,
  "nbformat_minor": 0
}
